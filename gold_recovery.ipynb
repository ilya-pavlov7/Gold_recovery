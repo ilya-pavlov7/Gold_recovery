{
  "cells": [
    {
      "cell_type": "markdown",
      "metadata": {
        "toc": true,
        "id": "qyBLSc9CIkVh"
      },
      "source": [
        "<h1>Содержание<span class=\"tocSkip\"></span></h1>\n",
        "<div class=\"toc\"><ul class=\"toc-item\"><li><span><a href=\"#Подготовка-данных\" data-toc-modified-id=\"Подготовка-данных-1\"><span class=\"toc-item-num\">1&nbsp;&nbsp;</span>Подготовка данных</a></span><ul class=\"toc-item\"><li><span><a href=\"#Ознакомление-с-данными\" data-toc-modified-id=\"Ознакомление-с-данными-1.1\"><span class=\"toc-item-num\">1.1&nbsp;&nbsp;</span>Ознакомление с данными</a></span></li><li><span><a href=\"#Эффективность-обогащения\" data-toc-modified-id=\"Эффективность-обогащения-1.2\"><span class=\"toc-item-num\">1.2&nbsp;&nbsp;</span>Эффективность обогащения</a></span></li><li><span><a href=\"#Различие-test-и-train-выборок\" data-toc-modified-id=\"Различие-test-и-train-выборок-1.3\"><span class=\"toc-item-num\">1.3&nbsp;&nbsp;</span>Различие test и train выборок</a></span></li><li><span><a href=\"#Предобработка-данных\" data-toc-modified-id=\"Предобработка-данных-1.4\"><span class=\"toc-item-num\">1.4&nbsp;&nbsp;</span>Предобработка данных</a></span></li></ul></li><li><span><a href=\"#Анализ-данных\" data-toc-modified-id=\"Анализ-данных-2\"><span class=\"toc-item-num\">2&nbsp;&nbsp;</span>Анализ данных</a></span><ul class=\"toc-item\"><li><span><a href=\"#Концентрация-Au,--Ag,-Pb\" data-toc-modified-id=\"Концентрация-Au,--Ag,-Pb-2.1\"><span class=\"toc-item-num\">2.1&nbsp;&nbsp;</span>Концентрация Au,  Ag, Pb</a></span><ul class=\"toc-item\"><li><span><a href=\"#Золото\" data-toc-modified-id=\"Золото-2.1.1\"><span class=\"toc-item-num\">2.1.1&nbsp;&nbsp;</span>Золото</a></span></li><li><span><a href=\"#Серебро\" data-toc-modified-id=\"Серебро-2.1.2\"><span class=\"toc-item-num\">2.1.2&nbsp;&nbsp;</span>Серебро</a></span></li><li><span><a href=\"#Свинец\" data-toc-modified-id=\"Свинец-2.1.3\"><span class=\"toc-item-num\">2.1.3&nbsp;&nbsp;</span>Свинец</a></span></li></ul></li><li><span><a href=\"#Распределение-размеров-гранул-сырья\" data-toc-modified-id=\"Распределение-размеров-гранул-сырья-2.2\"><span class=\"toc-item-num\">2.2&nbsp;&nbsp;</span>Распределение размеров гранул сырья</a></span></li><li><span><a href=\"#Суммарная-концентрация-на-разных-стадиях\" data-toc-modified-id=\"Суммарная-концентрация-на-разных-стадиях-2.3\"><span class=\"toc-item-num\">2.3&nbsp;&nbsp;</span>Суммарная концентрация на разных стадиях</a></span></li></ul></li><li><span><a href=\"#Модель\" data-toc-modified-id=\"Модель-3\"><span class=\"toc-item-num\">3&nbsp;&nbsp;</span>Модель</a></span><ul class=\"toc-item\"><li><span><a href=\"#Признаки-train-выборки\" data-toc-modified-id=\"Признаки-train-выборки-3.1\"><span class=\"toc-item-num\">3.1&nbsp;&nbsp;</span>Признаки train выборки</a></span></li><li><span><a href=\"#Признаки-test-выборки\" data-toc-modified-id=\"Признаки-test-выборки-3.2\"><span class=\"toc-item-num\">3.2&nbsp;&nbsp;</span>Признаки test выборки</a></span></li><li><span><a href=\"#Функция-расчета-sMAPE\" data-toc-modified-id=\"Функция-расчета-sMAPE-3.3\"><span class=\"toc-item-num\">3.3&nbsp;&nbsp;</span>Функция расчета sMAPE</a></span></li><li><span><a href=\"#Обучение-модели\" data-toc-modified-id=\"Обучение-модели-3.4\"><span class=\"toc-item-num\">3.4&nbsp;&nbsp;</span>Обучение модели</a></span><ul class=\"toc-item\"><li><span><a href=\"#Поиск-лучших-параметров\" data-toc-modified-id=\"Поиск-лучших-параметров-3.4.1\"><span class=\"toc-item-num\">3.4.1&nbsp;&nbsp;</span>Поиск лучших параметров</a></span><ul class=\"toc-item\"><li><span><a href=\"#DT\" data-toc-modified-id=\"DT-3.4.1.1\"><span class=\"toc-item-num\">3.4.1.1&nbsp;&nbsp;</span>DT</a></span></li><li><span><a href=\"#RF\" data-toc-modified-id=\"RF-3.4.1.2\"><span class=\"toc-item-num\">3.4.1.2&nbsp;&nbsp;</span>RF</a></span></li><li><span><a href=\"#LR\" data-toc-modified-id=\"LR-3.4.1.3\"><span class=\"toc-item-num\">3.4.1.3&nbsp;&nbsp;</span>LR</a></span></li></ul></li><li><span><a href=\"#RF\" data-toc-modified-id=\"RF-3.4.2\"><span class=\"toc-item-num\">3.4.2&nbsp;&nbsp;</span>RF</a></span></li></ul></li></ul></li><li><span><a href=\"#Чек-лист-готовности-проекта\" data-toc-modified-id=\"Чек-лист-готовности-проекта-4\"><span class=\"toc-item-num\">4&nbsp;&nbsp;</span>Чек-лист готовности проекта</a></span></li></ul></div>"
      ]
    },
    {
      "cell_type": "markdown",
      "metadata": {
        "id": "KUjo-DfjIkVi"
      },
      "source": [
        "# Восстановление золота из руды"
      ]
    },
    {
      "cell_type": "markdown",
      "metadata": {
        "id": "Xe-yVHr3IkVj"
      },
      "source": [
        "Подготовьте прототип модели машинного обучения для «Цифры». Компания разрабатывает решения для эффективной работы промышленных предприятий.\n",
        "\n",
        "Модель должна предсказать коэффициент восстановления золота из золотосодержащей руды. Используйте данные с параметрами добычи и очистки. \n",
        "\n",
        "Модель поможет оптимизировать производство, чтобы не запускать предприятие с убыточными характеристиками.\n",
        "\n",
        "Вам нужно:\n",
        "\n",
        "1. Подготовить данные;\n",
        "2. Провести исследовательский анализ данных;\n",
        "3. Построить и обучить модель.\n",
        "\n",
        "Чтобы выполнить проект, обращайтесь к библиотекам *pandas*, *matplotlib* и *sklearn.* Вам поможет их документация."
      ]
    },
    {
      "cell_type": "markdown",
      "metadata": {
        "id": "Y6nDJyngIkVj"
      },
      "source": [
        "## Подготовка данных"
      ]
    },
    {
      "cell_type": "code",
      "execution_count": 1,
      "metadata": {
        "id": "KAjlZ5E3IkVk"
      },
      "outputs": [],
      "source": [
        "import pandas as pd\n",
        "import numpy as np\n",
        "import matplotlib.pyplot as plt\n",
        "\n",
        "from sklearn.metrics import make_scorer, mean_absolute_error\n",
        "from sklearn.tree import DecisionTreeRegressor\n",
        "from sklearn.linear_model import LinearRegression\n",
        "from sklearn.ensemble import RandomForestRegressor\n",
        "from sklearn.model_selection import train_test_split, GridSearchCV, cross_val_score\n",
        "from sklearn.preprocessing import StandardScaler\n",
        "from sklearn.dummy import DummyRegressor"
      ]
    },
    {
      "cell_type": "markdown",
      "metadata": {
        "id": "mh7Ya9cJIkVl"
      },
      "source": [
        "### Ознакомление с данными"
      ]
    },
    {
      "cell_type": "code",
      "execution_count": 13,
      "metadata": {
        "id": "2yTHUzfcIkVl"
      },
      "outputs": [],
      "source": [
        "df_train = pd.read_csv('gold_recovery_train_new.csv')\n",
        "df_test = pd.read_csv('gold_recovery_test_new.csv')\n",
        "df_full = pd.read_csv('gold_recovery_full_new.csv')"
      ]
    },
    {
      "cell_type": "code",
      "execution_count": 14,
      "metadata": {
        "id": "m-5a850OIkVm"
      },
      "outputs": [],
      "source": [
        "def data_presentation(df):\n",
        "    print(df.shape)\n",
        "    display(df.head())\n",
        "    print(df.info())\n",
        "    print('///'*30, '\\n')"
      ]
    },
    {
      "cell_type": "code",
      "execution_count": 15,
      "metadata": {
        "scrolled": true,
        "colab": {
          "base_uri": "https://localhost:8080/",
          "height": 1000
        },
        "id": "rAwIJ4uUIkVm",
        "outputId": "1a45e58f-fd75-4499-ef43-c8289432959e"
      },
      "outputs": [
        {
          "output_type": "stream",
          "name": "stdout",
          "text": [
            "(14149, 87)\n"
          ]
        },
        {
          "output_type": "display_data",
          "data": {
            "text/plain": [
              "                  date  final.output.concentrate_ag  \\\n",
              "0  2016-01-15 00:00:00                     6.055403   \n",
              "1  2016-01-15 01:00:00                     6.029369   \n",
              "2  2016-01-15 02:00:00                     6.055926   \n",
              "3  2016-01-15 03:00:00                     6.047977   \n",
              "4  2016-01-15 04:00:00                     6.148599   \n",
              "\n",
              "   final.output.concentrate_pb  final.output.concentrate_sol  \\\n",
              "0                     9.889648                      5.507324   \n",
              "1                     9.968944                      5.257781   \n",
              "2                    10.213995                      5.383759   \n",
              "3                     9.977019                      4.858634   \n",
              "4                    10.142511                      4.939416   \n",
              "\n",
              "   final.output.concentrate_au  final.output.recovery  final.output.tail_ag  \\\n",
              "0                    42.192020              70.541216             10.411962   \n",
              "1                    42.701629              69.266198             10.462676   \n",
              "2                    42.657501              68.116445             10.507046   \n",
              "3                    42.689819              68.347543             10.422762   \n",
              "4                    42.774141              66.927016             10.360302   \n",
              "\n",
              "   final.output.tail_pb  final.output.tail_sol  final.output.tail_au  ...  \\\n",
              "0              0.895447              16.904297              2.143149  ...   \n",
              "1              0.927452              16.634514              2.224930  ...   \n",
              "2              0.953716              16.208849              2.257889  ...   \n",
              "3              0.883763              16.532835              2.146849  ...   \n",
              "4              0.792826              16.525686              2.055292  ...   \n",
              "\n",
              "   secondary_cleaner.state.floatbank4_a_air  \\\n",
              "0                                 14.016835   \n",
              "1                                 13.992281   \n",
              "2                                 14.015015   \n",
              "3                                 14.036510   \n",
              "4                                 14.027298   \n",
              "\n",
              "   secondary_cleaner.state.floatbank4_a_level  \\\n",
              "0                                 -502.488007   \n",
              "1                                 -505.503262   \n",
              "2                                 -502.520901   \n",
              "3                                 -500.857308   \n",
              "4                                 -499.838632   \n",
              "\n",
              "   secondary_cleaner.state.floatbank4_b_air  \\\n",
              "0                                 12.099931   \n",
              "1                                 11.950531   \n",
              "2                                 11.912783   \n",
              "3                                 11.999550   \n",
              "4                                 11.953070   \n",
              "\n",
              "   secondary_cleaner.state.floatbank4_b_level  \\\n",
              "0                                 -504.715942   \n",
              "1                                 -501.331529   \n",
              "2                                 -501.133383   \n",
              "3                                 -501.193686   \n",
              "4                                 -501.053894   \n",
              "\n",
              "   secondary_cleaner.state.floatbank5_a_air  \\\n",
              "0                                  9.925633   \n",
              "1                                 10.039245   \n",
              "2                                 10.070913   \n",
              "3                                  9.970366   \n",
              "4                                  9.925709   \n",
              "\n",
              "   secondary_cleaner.state.floatbank5_a_level  \\\n",
              "0                                 -498.310211   \n",
              "1                                 -500.169983   \n",
              "2                                 -500.129135   \n",
              "3                                 -499.201640   \n",
              "4                                 -501.686727   \n",
              "\n",
              "   secondary_cleaner.state.floatbank5_b_air  \\\n",
              "0                                  8.079666   \n",
              "1                                  7.984757   \n",
              "2                                  8.013877   \n",
              "3                                  7.977324   \n",
              "4                                  7.894242   \n",
              "\n",
              "   secondary_cleaner.state.floatbank5_b_level  \\\n",
              "0                                 -500.470978   \n",
              "1                                 -500.582168   \n",
              "2                                 -500.517572   \n",
              "3                                 -500.255908   \n",
              "4                                 -500.356035   \n",
              "\n",
              "   secondary_cleaner.state.floatbank6_a_air  \\\n",
              "0                                 14.151341   \n",
              "1                                 13.998353   \n",
              "2                                 14.028663   \n",
              "3                                 14.005551   \n",
              "4                                 13.996647   \n",
              "\n",
              "   secondary_cleaner.state.floatbank6_a_level  \n",
              "0                                 -605.841980  \n",
              "1                                 -599.787184  \n",
              "2                                 -601.427363  \n",
              "3                                 -599.996129  \n",
              "4                                 -601.496691  \n",
              "\n",
              "[5 rows x 87 columns]"
            ],
            "text/html": [
              "\n",
              "  <div id=\"df-8f64fee3-40e7-4271-a3d1-6ce603f952c1\">\n",
              "    <div class=\"colab-df-container\">\n",
              "      <div>\n",
              "<style scoped>\n",
              "    .dataframe tbody tr th:only-of-type {\n",
              "        vertical-align: middle;\n",
              "    }\n",
              "\n",
              "    .dataframe tbody tr th {\n",
              "        vertical-align: top;\n",
              "    }\n",
              "\n",
              "    .dataframe thead th {\n",
              "        text-align: right;\n",
              "    }\n",
              "</style>\n",
              "<table border=\"1\" class=\"dataframe\">\n",
              "  <thead>\n",
              "    <tr style=\"text-align: right;\">\n",
              "      <th></th>\n",
              "      <th>date</th>\n",
              "      <th>final.output.concentrate_ag</th>\n",
              "      <th>final.output.concentrate_pb</th>\n",
              "      <th>final.output.concentrate_sol</th>\n",
              "      <th>final.output.concentrate_au</th>\n",
              "      <th>final.output.recovery</th>\n",
              "      <th>final.output.tail_ag</th>\n",
              "      <th>final.output.tail_pb</th>\n",
              "      <th>final.output.tail_sol</th>\n",
              "      <th>final.output.tail_au</th>\n",
              "      <th>...</th>\n",
              "      <th>secondary_cleaner.state.floatbank4_a_air</th>\n",
              "      <th>secondary_cleaner.state.floatbank4_a_level</th>\n",
              "      <th>secondary_cleaner.state.floatbank4_b_air</th>\n",
              "      <th>secondary_cleaner.state.floatbank4_b_level</th>\n",
              "      <th>secondary_cleaner.state.floatbank5_a_air</th>\n",
              "      <th>secondary_cleaner.state.floatbank5_a_level</th>\n",
              "      <th>secondary_cleaner.state.floatbank5_b_air</th>\n",
              "      <th>secondary_cleaner.state.floatbank5_b_level</th>\n",
              "      <th>secondary_cleaner.state.floatbank6_a_air</th>\n",
              "      <th>secondary_cleaner.state.floatbank6_a_level</th>\n",
              "    </tr>\n",
              "  </thead>\n",
              "  <tbody>\n",
              "    <tr>\n",
              "      <th>0</th>\n",
              "      <td>2016-01-15 00:00:00</td>\n",
              "      <td>6.055403</td>\n",
              "      <td>9.889648</td>\n",
              "      <td>5.507324</td>\n",
              "      <td>42.192020</td>\n",
              "      <td>70.541216</td>\n",
              "      <td>10.411962</td>\n",
              "      <td>0.895447</td>\n",
              "      <td>16.904297</td>\n",
              "      <td>2.143149</td>\n",
              "      <td>...</td>\n",
              "      <td>14.016835</td>\n",
              "      <td>-502.488007</td>\n",
              "      <td>12.099931</td>\n",
              "      <td>-504.715942</td>\n",
              "      <td>9.925633</td>\n",
              "      <td>-498.310211</td>\n",
              "      <td>8.079666</td>\n",
              "      <td>-500.470978</td>\n",
              "      <td>14.151341</td>\n",
              "      <td>-605.841980</td>\n",
              "    </tr>\n",
              "    <tr>\n",
              "      <th>1</th>\n",
              "      <td>2016-01-15 01:00:00</td>\n",
              "      <td>6.029369</td>\n",
              "      <td>9.968944</td>\n",
              "      <td>5.257781</td>\n",
              "      <td>42.701629</td>\n",
              "      <td>69.266198</td>\n",
              "      <td>10.462676</td>\n",
              "      <td>0.927452</td>\n",
              "      <td>16.634514</td>\n",
              "      <td>2.224930</td>\n",
              "      <td>...</td>\n",
              "      <td>13.992281</td>\n",
              "      <td>-505.503262</td>\n",
              "      <td>11.950531</td>\n",
              "      <td>-501.331529</td>\n",
              "      <td>10.039245</td>\n",
              "      <td>-500.169983</td>\n",
              "      <td>7.984757</td>\n",
              "      <td>-500.582168</td>\n",
              "      <td>13.998353</td>\n",
              "      <td>-599.787184</td>\n",
              "    </tr>\n",
              "    <tr>\n",
              "      <th>2</th>\n",
              "      <td>2016-01-15 02:00:00</td>\n",
              "      <td>6.055926</td>\n",
              "      <td>10.213995</td>\n",
              "      <td>5.383759</td>\n",
              "      <td>42.657501</td>\n",
              "      <td>68.116445</td>\n",
              "      <td>10.507046</td>\n",
              "      <td>0.953716</td>\n",
              "      <td>16.208849</td>\n",
              "      <td>2.257889</td>\n",
              "      <td>...</td>\n",
              "      <td>14.015015</td>\n",
              "      <td>-502.520901</td>\n",
              "      <td>11.912783</td>\n",
              "      <td>-501.133383</td>\n",
              "      <td>10.070913</td>\n",
              "      <td>-500.129135</td>\n",
              "      <td>8.013877</td>\n",
              "      <td>-500.517572</td>\n",
              "      <td>14.028663</td>\n",
              "      <td>-601.427363</td>\n",
              "    </tr>\n",
              "    <tr>\n",
              "      <th>3</th>\n",
              "      <td>2016-01-15 03:00:00</td>\n",
              "      <td>6.047977</td>\n",
              "      <td>9.977019</td>\n",
              "      <td>4.858634</td>\n",
              "      <td>42.689819</td>\n",
              "      <td>68.347543</td>\n",
              "      <td>10.422762</td>\n",
              "      <td>0.883763</td>\n",
              "      <td>16.532835</td>\n",
              "      <td>2.146849</td>\n",
              "      <td>...</td>\n",
              "      <td>14.036510</td>\n",
              "      <td>-500.857308</td>\n",
              "      <td>11.999550</td>\n",
              "      <td>-501.193686</td>\n",
              "      <td>9.970366</td>\n",
              "      <td>-499.201640</td>\n",
              "      <td>7.977324</td>\n",
              "      <td>-500.255908</td>\n",
              "      <td>14.005551</td>\n",
              "      <td>-599.996129</td>\n",
              "    </tr>\n",
              "    <tr>\n",
              "      <th>4</th>\n",
              "      <td>2016-01-15 04:00:00</td>\n",
              "      <td>6.148599</td>\n",
              "      <td>10.142511</td>\n",
              "      <td>4.939416</td>\n",
              "      <td>42.774141</td>\n",
              "      <td>66.927016</td>\n",
              "      <td>10.360302</td>\n",
              "      <td>0.792826</td>\n",
              "      <td>16.525686</td>\n",
              "      <td>2.055292</td>\n",
              "      <td>...</td>\n",
              "      <td>14.027298</td>\n",
              "      <td>-499.838632</td>\n",
              "      <td>11.953070</td>\n",
              "      <td>-501.053894</td>\n",
              "      <td>9.925709</td>\n",
              "      <td>-501.686727</td>\n",
              "      <td>7.894242</td>\n",
              "      <td>-500.356035</td>\n",
              "      <td>13.996647</td>\n",
              "      <td>-601.496691</td>\n",
              "    </tr>\n",
              "  </tbody>\n",
              "</table>\n",
              "<p>5 rows × 87 columns</p>\n",
              "</div>\n",
              "      <button class=\"colab-df-convert\" onclick=\"convertToInteractive('df-8f64fee3-40e7-4271-a3d1-6ce603f952c1')\"\n",
              "              title=\"Convert this dataframe to an interactive table.\"\n",
              "              style=\"display:none;\">\n",
              "        \n",
              "  <svg xmlns=\"http://www.w3.org/2000/svg\" height=\"24px\"viewBox=\"0 0 24 24\"\n",
              "       width=\"24px\">\n",
              "    <path d=\"M0 0h24v24H0V0z\" fill=\"none\"/>\n",
              "    <path d=\"M18.56 5.44l.94 2.06.94-2.06 2.06-.94-2.06-.94-.94-2.06-.94 2.06-2.06.94zm-11 1L8.5 8.5l.94-2.06 2.06-.94-2.06-.94L8.5 2.5l-.94 2.06-2.06.94zm10 10l.94 2.06.94-2.06 2.06-.94-2.06-.94-.94-2.06-.94 2.06-2.06.94z\"/><path d=\"M17.41 7.96l-1.37-1.37c-.4-.4-.92-.59-1.43-.59-.52 0-1.04.2-1.43.59L10.3 9.45l-7.72 7.72c-.78.78-.78 2.05 0 2.83L4 21.41c.39.39.9.59 1.41.59.51 0 1.02-.2 1.41-.59l7.78-7.78 2.81-2.81c.8-.78.8-2.07 0-2.86zM5.41 20L4 18.59l7.72-7.72 1.47 1.35L5.41 20z\"/>\n",
              "  </svg>\n",
              "      </button>\n",
              "      \n",
              "  <style>\n",
              "    .colab-df-container {\n",
              "      display:flex;\n",
              "      flex-wrap:wrap;\n",
              "      gap: 12px;\n",
              "    }\n",
              "\n",
              "    .colab-df-convert {\n",
              "      background-color: #E8F0FE;\n",
              "      border: none;\n",
              "      border-radius: 50%;\n",
              "      cursor: pointer;\n",
              "      display: none;\n",
              "      fill: #1967D2;\n",
              "      height: 32px;\n",
              "      padding: 0 0 0 0;\n",
              "      width: 32px;\n",
              "    }\n",
              "\n",
              "    .colab-df-convert:hover {\n",
              "      background-color: #E2EBFA;\n",
              "      box-shadow: 0px 1px 2px rgba(60, 64, 67, 0.3), 0px 1px 3px 1px rgba(60, 64, 67, 0.15);\n",
              "      fill: #174EA6;\n",
              "    }\n",
              "\n",
              "    [theme=dark] .colab-df-convert {\n",
              "      background-color: #3B4455;\n",
              "      fill: #D2E3FC;\n",
              "    }\n",
              "\n",
              "    [theme=dark] .colab-df-convert:hover {\n",
              "      background-color: #434B5C;\n",
              "      box-shadow: 0px 1px 3px 1px rgba(0, 0, 0, 0.15);\n",
              "      filter: drop-shadow(0px 1px 2px rgba(0, 0, 0, 0.3));\n",
              "      fill: #FFFFFF;\n",
              "    }\n",
              "  </style>\n",
              "\n",
              "      <script>\n",
              "        const buttonEl =\n",
              "          document.querySelector('#df-8f64fee3-40e7-4271-a3d1-6ce603f952c1 button.colab-df-convert');\n",
              "        buttonEl.style.display =\n",
              "          google.colab.kernel.accessAllowed ? 'block' : 'none';\n",
              "\n",
              "        async function convertToInteractive(key) {\n",
              "          const element = document.querySelector('#df-8f64fee3-40e7-4271-a3d1-6ce603f952c1');\n",
              "          const dataTable =\n",
              "            await google.colab.kernel.invokeFunction('convertToInteractive',\n",
              "                                                     [key], {});\n",
              "          if (!dataTable) return;\n",
              "\n",
              "          const docLinkHtml = 'Like what you see? Visit the ' +\n",
              "            '<a target=\"_blank\" href=https://colab.research.google.com/notebooks/data_table.ipynb>data table notebook</a>'\n",
              "            + ' to learn more about interactive tables.';\n",
              "          element.innerHTML = '';\n",
              "          dataTable['output_type'] = 'display_data';\n",
              "          await google.colab.output.renderOutput(dataTable, element);\n",
              "          const docLink = document.createElement('div');\n",
              "          docLink.innerHTML = docLinkHtml;\n",
              "          element.appendChild(docLink);\n",
              "        }\n",
              "      </script>\n",
              "    </div>\n",
              "  </div>\n",
              "  "
            ]
          },
          "metadata": {}
        },
        {
          "output_type": "stream",
          "name": "stdout",
          "text": [
            "<class 'pandas.core.frame.DataFrame'>\n",
            "RangeIndex: 14149 entries, 0 to 14148\n",
            "Data columns (total 87 columns):\n",
            " #   Column                                              Non-Null Count  Dtype  \n",
            "---  ------                                              --------------  -----  \n",
            " 0   date                                                14149 non-null  object \n",
            " 1   final.output.concentrate_ag                         14148 non-null  float64\n",
            " 2   final.output.concentrate_pb                         14148 non-null  float64\n",
            " 3   final.output.concentrate_sol                        13938 non-null  float64\n",
            " 4   final.output.concentrate_au                         14149 non-null  float64\n",
            " 5   final.output.recovery                               14149 non-null  float64\n",
            " 6   final.output.tail_ag                                14149 non-null  float64\n",
            " 7   final.output.tail_pb                                14049 non-null  float64\n",
            " 8   final.output.tail_sol                               14144 non-null  float64\n",
            " 9   final.output.tail_au                                14149 non-null  float64\n",
            " 10  primary_cleaner.input.sulfate                       14129 non-null  float64\n",
            " 11  primary_cleaner.input.depressant                    14117 non-null  float64\n",
            " 12  primary_cleaner.input.feed_size                     14149 non-null  float64\n",
            " 13  primary_cleaner.input.xanthate                      14049 non-null  float64\n",
            " 14  primary_cleaner.output.concentrate_ag               14149 non-null  float64\n",
            " 15  primary_cleaner.output.concentrate_pb               14063 non-null  float64\n",
            " 16  primary_cleaner.output.concentrate_sol              13863 non-null  float64\n",
            " 17  primary_cleaner.output.concentrate_au               14149 non-null  float64\n",
            " 18  primary_cleaner.output.tail_ag                      14148 non-null  float64\n",
            " 19  primary_cleaner.output.tail_pb                      14134 non-null  float64\n",
            " 20  primary_cleaner.output.tail_sol                     14103 non-null  float64\n",
            " 21  primary_cleaner.output.tail_au                      14149 non-null  float64\n",
            " 22  primary_cleaner.state.floatbank8_a_air              14145 non-null  float64\n",
            " 23  primary_cleaner.state.floatbank8_a_level            14148 non-null  float64\n",
            " 24  primary_cleaner.state.floatbank8_b_air              14145 non-null  float64\n",
            " 25  primary_cleaner.state.floatbank8_b_level            14148 non-null  float64\n",
            " 26  primary_cleaner.state.floatbank8_c_air              14147 non-null  float64\n",
            " 27  primary_cleaner.state.floatbank8_c_level            14148 non-null  float64\n",
            " 28  primary_cleaner.state.floatbank8_d_air              14146 non-null  float64\n",
            " 29  primary_cleaner.state.floatbank8_d_level            14148 non-null  float64\n",
            " 30  rougher.calculation.sulfate_to_au_concentrate       14148 non-null  float64\n",
            " 31  rougher.calculation.floatbank10_sulfate_to_au_feed  14148 non-null  float64\n",
            " 32  rougher.calculation.floatbank11_sulfate_to_au_feed  14148 non-null  float64\n",
            " 33  rougher.calculation.au_pb_ratio                     14149 non-null  float64\n",
            " 34  rougher.input.feed_ag                               14149 non-null  float64\n",
            " 35  rougher.input.feed_pb                               14049 non-null  float64\n",
            " 36  rougher.input.feed_rate                             14141 non-null  float64\n",
            " 37  rougher.input.feed_size                             14005 non-null  float64\n",
            " 38  rougher.input.feed_sol                              14071 non-null  float64\n",
            " 39  rougher.input.feed_au                               14149 non-null  float64\n",
            " 40  rougher.input.floatbank10_sulfate                   14120 non-null  float64\n",
            " 41  rougher.input.floatbank10_xanthate                  14141 non-null  float64\n",
            " 42  rougher.input.floatbank11_sulfate                   14113 non-null  float64\n",
            " 43  rougher.input.floatbank11_xanthate                  13721 non-null  float64\n",
            " 44  rougher.output.concentrate_ag                       14149 non-null  float64\n",
            " 45  rougher.output.concentrate_pb                       14149 non-null  float64\n",
            " 46  rougher.output.concentrate_sol                      14127 non-null  float64\n",
            " 47  rougher.output.concentrate_au                       14149 non-null  float64\n",
            " 48  rougher.output.recovery                             14149 non-null  float64\n",
            " 49  rougher.output.tail_ag                              14148 non-null  float64\n",
            " 50  rougher.output.tail_pb                              14149 non-null  float64\n",
            " 51  rougher.output.tail_sol                             14149 non-null  float64\n",
            " 52  rougher.output.tail_au                              14149 non-null  float64\n",
            " 53  rougher.state.floatbank10_a_air                     14148 non-null  float64\n",
            " 54  rougher.state.floatbank10_a_level                   14148 non-null  float64\n",
            " 55  rougher.state.floatbank10_b_air                     14148 non-null  float64\n",
            " 56  rougher.state.floatbank10_b_level                   14148 non-null  float64\n",
            " 57  rougher.state.floatbank10_c_air                     14148 non-null  float64\n",
            " 58  rougher.state.floatbank10_c_level                   14148 non-null  float64\n",
            " 59  rougher.state.floatbank10_d_air                     14149 non-null  float64\n",
            " 60  rougher.state.floatbank10_d_level                   14149 non-null  float64\n",
            " 61  rougher.state.floatbank10_e_air                     13713 non-null  float64\n",
            " 62  rougher.state.floatbank10_e_level                   14149 non-null  float64\n",
            " 63  rougher.state.floatbank10_f_air                     14149 non-null  float64\n",
            " 64  rougher.state.floatbank10_f_level                   14149 non-null  float64\n",
            " 65  secondary_cleaner.output.tail_ag                    14147 non-null  float64\n",
            " 66  secondary_cleaner.output.tail_pb                    14139 non-null  float64\n",
            " 67  secondary_cleaner.output.tail_sol                   12544 non-null  float64\n",
            " 68  secondary_cleaner.output.tail_au                    14149 non-null  float64\n",
            " 69  secondary_cleaner.state.floatbank2_a_air            13932 non-null  float64\n",
            " 70  secondary_cleaner.state.floatbank2_a_level          14148 non-null  float64\n",
            " 71  secondary_cleaner.state.floatbank2_b_air            14128 non-null  float64\n",
            " 72  secondary_cleaner.state.floatbank2_b_level          14148 non-null  float64\n",
            " 73  secondary_cleaner.state.floatbank3_a_air            14145 non-null  float64\n",
            " 74  secondary_cleaner.state.floatbank3_a_level          14148 non-null  float64\n",
            " 75  secondary_cleaner.state.floatbank3_b_air            14148 non-null  float64\n",
            " 76  secondary_cleaner.state.floatbank3_b_level          14148 non-null  float64\n",
            " 77  secondary_cleaner.state.floatbank4_a_air            14143 non-null  float64\n",
            " 78  secondary_cleaner.state.floatbank4_a_level          14148 non-null  float64\n",
            " 79  secondary_cleaner.state.floatbank4_b_air            14148 non-null  float64\n",
            " 80  secondary_cleaner.state.floatbank4_b_level          14148 non-null  float64\n",
            " 81  secondary_cleaner.state.floatbank5_a_air            14148 non-null  float64\n",
            " 82  secondary_cleaner.state.floatbank5_a_level          14148 non-null  float64\n",
            " 83  secondary_cleaner.state.floatbank5_b_air            14148 non-null  float64\n",
            " 84  secondary_cleaner.state.floatbank5_b_level          14148 non-null  float64\n",
            " 85  secondary_cleaner.state.floatbank6_a_air            14147 non-null  float64\n",
            " 86  secondary_cleaner.state.floatbank6_a_level          14148 non-null  float64\n",
            "dtypes: float64(86), object(1)\n",
            "memory usage: 9.4+ MB\n",
            "None\n",
            "////////////////////////////////////////////////////////////////////////////////////////// \n",
            "\n",
            "(5290, 53)\n"
          ]
        },
        {
          "output_type": "display_data",
          "data": {
            "text/plain": [
              "                  date  primary_cleaner.input.sulfate  \\\n",
              "0  2016-09-01 00:59:59                     210.800909   \n",
              "1  2016-09-01 01:59:59                     215.392455   \n",
              "2  2016-09-01 02:59:59                     215.259946   \n",
              "3  2016-09-01 03:59:59                     215.336236   \n",
              "4  2016-09-01 04:59:59                     199.099327   \n",
              "\n",
              "   primary_cleaner.input.depressant  primary_cleaner.input.feed_size  \\\n",
              "0                         14.993118                         8.080000   \n",
              "1                         14.987471                         8.080000   \n",
              "2                         12.884934                         7.786667   \n",
              "3                         12.006805                         7.640000   \n",
              "4                         10.682530                         7.530000   \n",
              "\n",
              "   primary_cleaner.input.xanthate  primary_cleaner.state.floatbank8_a_air  \\\n",
              "0                        1.005021                             1398.981301   \n",
              "1                        0.990469                             1398.777912   \n",
              "2                        0.996043                             1398.493666   \n",
              "3                        0.863514                             1399.618111   \n",
              "4                        0.805575                             1401.268123   \n",
              "\n",
              "   primary_cleaner.state.floatbank8_a_level  \\\n",
              "0                               -500.225577   \n",
              "1                               -500.057435   \n",
              "2                               -500.868360   \n",
              "3                               -498.863574   \n",
              "4                               -500.808305   \n",
              "\n",
              "   primary_cleaner.state.floatbank8_b_air  \\\n",
              "0                             1399.144926   \n",
              "1                             1398.055362   \n",
              "2                             1398.860436   \n",
              "3                             1397.440120   \n",
              "4                             1398.128818   \n",
              "\n",
              "   primary_cleaner.state.floatbank8_b_level  \\\n",
              "0                               -499.919735   \n",
              "1                               -499.778182   \n",
              "2                               -499.764529   \n",
              "3                               -499.211024   \n",
              "4                               -499.504543   \n",
              "\n",
              "   primary_cleaner.state.floatbank8_c_air  ...  \\\n",
              "0                             1400.102998  ...   \n",
              "1                             1396.151033  ...   \n",
              "2                             1398.075709  ...   \n",
              "3                             1400.129303  ...   \n",
              "4                             1402.172226  ...   \n",
              "\n",
              "   secondary_cleaner.state.floatbank4_a_air  \\\n",
              "0                                 12.023554   \n",
              "1                                 12.058140   \n",
              "2                                 11.962366   \n",
              "3                                 12.033091   \n",
              "4                                 12.025367   \n",
              "\n",
              "   secondary_cleaner.state.floatbank4_a_level  \\\n",
              "0                                 -497.795834   \n",
              "1                                 -498.695773   \n",
              "2                                 -498.767484   \n",
              "3                                 -498.350935   \n",
              "4                                 -500.786497   \n",
              "\n",
              "   secondary_cleaner.state.floatbank4_b_air  \\\n",
              "0                                  8.016656   \n",
              "1                                  8.130979   \n",
              "2                                  8.096893   \n",
              "3                                  8.074946   \n",
              "4                                  8.054678   \n",
              "\n",
              "   secondary_cleaner.state.floatbank4_b_level  \\\n",
              "0                                 -501.289139   \n",
              "1                                 -499.634209   \n",
              "2                                 -500.827423   \n",
              "3                                 -499.474407   \n",
              "4                                 -500.397500   \n",
              "\n",
              "   secondary_cleaner.state.floatbank5_a_air  \\\n",
              "0                                  7.946562   \n",
              "1                                  7.958270   \n",
              "2                                  8.071056   \n",
              "3                                  7.897085   \n",
              "4                                  8.107890   \n",
              "\n",
              "   secondary_cleaner.state.floatbank5_a_level  \\\n",
              "0                                 -432.317850   \n",
              "1                                 -525.839648   \n",
              "2                                 -500.801673   \n",
              "3                                 -500.868509   \n",
              "4                                 -509.526725   \n",
              "\n",
              "   secondary_cleaner.state.floatbank5_b_air  \\\n",
              "0                                  4.872511   \n",
              "1                                  4.878850   \n",
              "2                                  4.905125   \n",
              "3                                  4.931400   \n",
              "4                                  4.957674   \n",
              "\n",
              "   secondary_cleaner.state.floatbank5_b_level  \\\n",
              "0                                 -500.037437   \n",
              "1                                 -500.162375   \n",
              "2                                 -499.828510   \n",
              "3                                 -499.963623   \n",
              "4                                 -500.360026   \n",
              "\n",
              "   secondary_cleaner.state.floatbank6_a_air  \\\n",
              "0                                 26.705889   \n",
              "1                                 25.019940   \n",
              "2                                 24.994862   \n",
              "3                                 24.948919   \n",
              "4                                 25.003331   \n",
              "\n",
              "   secondary_cleaner.state.floatbank6_a_level  \n",
              "0                                 -499.709414  \n",
              "1                                 -499.819438  \n",
              "2                                 -500.622559  \n",
              "3                                 -498.709987  \n",
              "4                                 -500.856333  \n",
              "\n",
              "[5 rows x 53 columns]"
            ],
            "text/html": [
              "\n",
              "  <div id=\"df-1bcadcd6-9196-400d-9922-8a110b47a01c\">\n",
              "    <div class=\"colab-df-container\">\n",
              "      <div>\n",
              "<style scoped>\n",
              "    .dataframe tbody tr th:only-of-type {\n",
              "        vertical-align: middle;\n",
              "    }\n",
              "\n",
              "    .dataframe tbody tr th {\n",
              "        vertical-align: top;\n",
              "    }\n",
              "\n",
              "    .dataframe thead th {\n",
              "        text-align: right;\n",
              "    }\n",
              "</style>\n",
              "<table border=\"1\" class=\"dataframe\">\n",
              "  <thead>\n",
              "    <tr style=\"text-align: right;\">\n",
              "      <th></th>\n",
              "      <th>date</th>\n",
              "      <th>primary_cleaner.input.sulfate</th>\n",
              "      <th>primary_cleaner.input.depressant</th>\n",
              "      <th>primary_cleaner.input.feed_size</th>\n",
              "      <th>primary_cleaner.input.xanthate</th>\n",
              "      <th>primary_cleaner.state.floatbank8_a_air</th>\n",
              "      <th>primary_cleaner.state.floatbank8_a_level</th>\n",
              "      <th>primary_cleaner.state.floatbank8_b_air</th>\n",
              "      <th>primary_cleaner.state.floatbank8_b_level</th>\n",
              "      <th>primary_cleaner.state.floatbank8_c_air</th>\n",
              "      <th>...</th>\n",
              "      <th>secondary_cleaner.state.floatbank4_a_air</th>\n",
              "      <th>secondary_cleaner.state.floatbank4_a_level</th>\n",
              "      <th>secondary_cleaner.state.floatbank4_b_air</th>\n",
              "      <th>secondary_cleaner.state.floatbank4_b_level</th>\n",
              "      <th>secondary_cleaner.state.floatbank5_a_air</th>\n",
              "      <th>secondary_cleaner.state.floatbank5_a_level</th>\n",
              "      <th>secondary_cleaner.state.floatbank5_b_air</th>\n",
              "      <th>secondary_cleaner.state.floatbank5_b_level</th>\n",
              "      <th>secondary_cleaner.state.floatbank6_a_air</th>\n",
              "      <th>secondary_cleaner.state.floatbank6_a_level</th>\n",
              "    </tr>\n",
              "  </thead>\n",
              "  <tbody>\n",
              "    <tr>\n",
              "      <th>0</th>\n",
              "      <td>2016-09-01 00:59:59</td>\n",
              "      <td>210.800909</td>\n",
              "      <td>14.993118</td>\n",
              "      <td>8.080000</td>\n",
              "      <td>1.005021</td>\n",
              "      <td>1398.981301</td>\n",
              "      <td>-500.225577</td>\n",
              "      <td>1399.144926</td>\n",
              "      <td>-499.919735</td>\n",
              "      <td>1400.102998</td>\n",
              "      <td>...</td>\n",
              "      <td>12.023554</td>\n",
              "      <td>-497.795834</td>\n",
              "      <td>8.016656</td>\n",
              "      <td>-501.289139</td>\n",
              "      <td>7.946562</td>\n",
              "      <td>-432.317850</td>\n",
              "      <td>4.872511</td>\n",
              "      <td>-500.037437</td>\n",
              "      <td>26.705889</td>\n",
              "      <td>-499.709414</td>\n",
              "    </tr>\n",
              "    <tr>\n",
              "      <th>1</th>\n",
              "      <td>2016-09-01 01:59:59</td>\n",
              "      <td>215.392455</td>\n",
              "      <td>14.987471</td>\n",
              "      <td>8.080000</td>\n",
              "      <td>0.990469</td>\n",
              "      <td>1398.777912</td>\n",
              "      <td>-500.057435</td>\n",
              "      <td>1398.055362</td>\n",
              "      <td>-499.778182</td>\n",
              "      <td>1396.151033</td>\n",
              "      <td>...</td>\n",
              "      <td>12.058140</td>\n",
              "      <td>-498.695773</td>\n",
              "      <td>8.130979</td>\n",
              "      <td>-499.634209</td>\n",
              "      <td>7.958270</td>\n",
              "      <td>-525.839648</td>\n",
              "      <td>4.878850</td>\n",
              "      <td>-500.162375</td>\n",
              "      <td>25.019940</td>\n",
              "      <td>-499.819438</td>\n",
              "    </tr>\n",
              "    <tr>\n",
              "      <th>2</th>\n",
              "      <td>2016-09-01 02:59:59</td>\n",
              "      <td>215.259946</td>\n",
              "      <td>12.884934</td>\n",
              "      <td>7.786667</td>\n",
              "      <td>0.996043</td>\n",
              "      <td>1398.493666</td>\n",
              "      <td>-500.868360</td>\n",
              "      <td>1398.860436</td>\n",
              "      <td>-499.764529</td>\n",
              "      <td>1398.075709</td>\n",
              "      <td>...</td>\n",
              "      <td>11.962366</td>\n",
              "      <td>-498.767484</td>\n",
              "      <td>8.096893</td>\n",
              "      <td>-500.827423</td>\n",
              "      <td>8.071056</td>\n",
              "      <td>-500.801673</td>\n",
              "      <td>4.905125</td>\n",
              "      <td>-499.828510</td>\n",
              "      <td>24.994862</td>\n",
              "      <td>-500.622559</td>\n",
              "    </tr>\n",
              "    <tr>\n",
              "      <th>3</th>\n",
              "      <td>2016-09-01 03:59:59</td>\n",
              "      <td>215.336236</td>\n",
              "      <td>12.006805</td>\n",
              "      <td>7.640000</td>\n",
              "      <td>0.863514</td>\n",
              "      <td>1399.618111</td>\n",
              "      <td>-498.863574</td>\n",
              "      <td>1397.440120</td>\n",
              "      <td>-499.211024</td>\n",
              "      <td>1400.129303</td>\n",
              "      <td>...</td>\n",
              "      <td>12.033091</td>\n",
              "      <td>-498.350935</td>\n",
              "      <td>8.074946</td>\n",
              "      <td>-499.474407</td>\n",
              "      <td>7.897085</td>\n",
              "      <td>-500.868509</td>\n",
              "      <td>4.931400</td>\n",
              "      <td>-499.963623</td>\n",
              "      <td>24.948919</td>\n",
              "      <td>-498.709987</td>\n",
              "    </tr>\n",
              "    <tr>\n",
              "      <th>4</th>\n",
              "      <td>2016-09-01 04:59:59</td>\n",
              "      <td>199.099327</td>\n",
              "      <td>10.682530</td>\n",
              "      <td>7.530000</td>\n",
              "      <td>0.805575</td>\n",
              "      <td>1401.268123</td>\n",
              "      <td>-500.808305</td>\n",
              "      <td>1398.128818</td>\n",
              "      <td>-499.504543</td>\n",
              "      <td>1402.172226</td>\n",
              "      <td>...</td>\n",
              "      <td>12.025367</td>\n",
              "      <td>-500.786497</td>\n",
              "      <td>8.054678</td>\n",
              "      <td>-500.397500</td>\n",
              "      <td>8.107890</td>\n",
              "      <td>-509.526725</td>\n",
              "      <td>4.957674</td>\n",
              "      <td>-500.360026</td>\n",
              "      <td>25.003331</td>\n",
              "      <td>-500.856333</td>\n",
              "    </tr>\n",
              "  </tbody>\n",
              "</table>\n",
              "<p>5 rows × 53 columns</p>\n",
              "</div>\n",
              "      <button class=\"colab-df-convert\" onclick=\"convertToInteractive('df-1bcadcd6-9196-400d-9922-8a110b47a01c')\"\n",
              "              title=\"Convert this dataframe to an interactive table.\"\n",
              "              style=\"display:none;\">\n",
              "        \n",
              "  <svg xmlns=\"http://www.w3.org/2000/svg\" height=\"24px\"viewBox=\"0 0 24 24\"\n",
              "       width=\"24px\">\n",
              "    <path d=\"M0 0h24v24H0V0z\" fill=\"none\"/>\n",
              "    <path d=\"M18.56 5.44l.94 2.06.94-2.06 2.06-.94-2.06-.94-.94-2.06-.94 2.06-2.06.94zm-11 1L8.5 8.5l.94-2.06 2.06-.94-2.06-.94L8.5 2.5l-.94 2.06-2.06.94zm10 10l.94 2.06.94-2.06 2.06-.94-2.06-.94-.94-2.06-.94 2.06-2.06.94z\"/><path d=\"M17.41 7.96l-1.37-1.37c-.4-.4-.92-.59-1.43-.59-.52 0-1.04.2-1.43.59L10.3 9.45l-7.72 7.72c-.78.78-.78 2.05 0 2.83L4 21.41c.39.39.9.59 1.41.59.51 0 1.02-.2 1.41-.59l7.78-7.78 2.81-2.81c.8-.78.8-2.07 0-2.86zM5.41 20L4 18.59l7.72-7.72 1.47 1.35L5.41 20z\"/>\n",
              "  </svg>\n",
              "      </button>\n",
              "      \n",
              "  <style>\n",
              "    .colab-df-container {\n",
              "      display:flex;\n",
              "      flex-wrap:wrap;\n",
              "      gap: 12px;\n",
              "    }\n",
              "\n",
              "    .colab-df-convert {\n",
              "      background-color: #E8F0FE;\n",
              "      border: none;\n",
              "      border-radius: 50%;\n",
              "      cursor: pointer;\n",
              "      display: none;\n",
              "      fill: #1967D2;\n",
              "      height: 32px;\n",
              "      padding: 0 0 0 0;\n",
              "      width: 32px;\n",
              "    }\n",
              "\n",
              "    .colab-df-convert:hover {\n",
              "      background-color: #E2EBFA;\n",
              "      box-shadow: 0px 1px 2px rgba(60, 64, 67, 0.3), 0px 1px 3px 1px rgba(60, 64, 67, 0.15);\n",
              "      fill: #174EA6;\n",
              "    }\n",
              "\n",
              "    [theme=dark] .colab-df-convert {\n",
              "      background-color: #3B4455;\n",
              "      fill: #D2E3FC;\n",
              "    }\n",
              "\n",
              "    [theme=dark] .colab-df-convert:hover {\n",
              "      background-color: #434B5C;\n",
              "      box-shadow: 0px 1px 3px 1px rgba(0, 0, 0, 0.15);\n",
              "      filter: drop-shadow(0px 1px 2px rgba(0, 0, 0, 0.3));\n",
              "      fill: #FFFFFF;\n",
              "    }\n",
              "  </style>\n",
              "\n",
              "      <script>\n",
              "        const buttonEl =\n",
              "          document.querySelector('#df-1bcadcd6-9196-400d-9922-8a110b47a01c button.colab-df-convert');\n",
              "        buttonEl.style.display =\n",
              "          google.colab.kernel.accessAllowed ? 'block' : 'none';\n",
              "\n",
              "        async function convertToInteractive(key) {\n",
              "          const element = document.querySelector('#df-1bcadcd6-9196-400d-9922-8a110b47a01c');\n",
              "          const dataTable =\n",
              "            await google.colab.kernel.invokeFunction('convertToInteractive',\n",
              "                                                     [key], {});\n",
              "          if (!dataTable) return;\n",
              "\n",
              "          const docLinkHtml = 'Like what you see? Visit the ' +\n",
              "            '<a target=\"_blank\" href=https://colab.research.google.com/notebooks/data_table.ipynb>data table notebook</a>'\n",
              "            + ' to learn more about interactive tables.';\n",
              "          element.innerHTML = '';\n",
              "          dataTable['output_type'] = 'display_data';\n",
              "          await google.colab.output.renderOutput(dataTable, element);\n",
              "          const docLink = document.createElement('div');\n",
              "          docLink.innerHTML = docLinkHtml;\n",
              "          element.appendChild(docLink);\n",
              "        }\n",
              "      </script>\n",
              "    </div>\n",
              "  </div>\n",
              "  "
            ]
          },
          "metadata": {}
        },
        {
          "output_type": "stream",
          "name": "stdout",
          "text": [
            "<class 'pandas.core.frame.DataFrame'>\n",
            "RangeIndex: 5290 entries, 0 to 5289\n",
            "Data columns (total 53 columns):\n",
            " #   Column                                      Non-Null Count  Dtype  \n",
            "---  ------                                      --------------  -----  \n",
            " 0   date                                        5290 non-null   object \n",
            " 1   primary_cleaner.input.sulfate               5286 non-null   float64\n",
            " 2   primary_cleaner.input.depressant            5285 non-null   float64\n",
            " 3   primary_cleaner.input.feed_size             5290 non-null   float64\n",
            " 4   primary_cleaner.input.xanthate              5286 non-null   float64\n",
            " 5   primary_cleaner.state.floatbank8_a_air      5290 non-null   float64\n",
            " 6   primary_cleaner.state.floatbank8_a_level    5290 non-null   float64\n",
            " 7   primary_cleaner.state.floatbank8_b_air      5290 non-null   float64\n",
            " 8   primary_cleaner.state.floatbank8_b_level    5290 non-null   float64\n",
            " 9   primary_cleaner.state.floatbank8_c_air      5290 non-null   float64\n",
            " 10  primary_cleaner.state.floatbank8_c_level    5290 non-null   float64\n",
            " 11  primary_cleaner.state.floatbank8_d_air      5290 non-null   float64\n",
            " 12  primary_cleaner.state.floatbank8_d_level    5290 non-null   float64\n",
            " 13  rougher.input.feed_ag                       5290 non-null   float64\n",
            " 14  rougher.input.feed_pb                       5290 non-null   float64\n",
            " 15  rougher.input.feed_rate                     5287 non-null   float64\n",
            " 16  rougher.input.feed_size                     5289 non-null   float64\n",
            " 17  rougher.input.feed_sol                      5269 non-null   float64\n",
            " 18  rougher.input.feed_au                       5290 non-null   float64\n",
            " 19  rougher.input.floatbank10_sulfate           5285 non-null   float64\n",
            " 20  rougher.input.floatbank10_xanthate          5290 non-null   float64\n",
            " 21  rougher.input.floatbank11_sulfate           5282 non-null   float64\n",
            " 22  rougher.input.floatbank11_xanthate          5265 non-null   float64\n",
            " 23  rougher.state.floatbank10_a_air             5290 non-null   float64\n",
            " 24  rougher.state.floatbank10_a_level           5290 non-null   float64\n",
            " 25  rougher.state.floatbank10_b_air             5290 non-null   float64\n",
            " 26  rougher.state.floatbank10_b_level           5290 non-null   float64\n",
            " 27  rougher.state.floatbank10_c_air             5290 non-null   float64\n",
            " 28  rougher.state.floatbank10_c_level           5290 non-null   float64\n",
            " 29  rougher.state.floatbank10_d_air             5290 non-null   float64\n",
            " 30  rougher.state.floatbank10_d_level           5290 non-null   float64\n",
            " 31  rougher.state.floatbank10_e_air             5290 non-null   float64\n",
            " 32  rougher.state.floatbank10_e_level           5290 non-null   float64\n",
            " 33  rougher.state.floatbank10_f_air             5290 non-null   float64\n",
            " 34  rougher.state.floatbank10_f_level           5290 non-null   float64\n",
            " 35  secondary_cleaner.state.floatbank2_a_air    5287 non-null   float64\n",
            " 36  secondary_cleaner.state.floatbank2_a_level  5290 non-null   float64\n",
            " 37  secondary_cleaner.state.floatbank2_b_air    5288 non-null   float64\n",
            " 38  secondary_cleaner.state.floatbank2_b_level  5290 non-null   float64\n",
            " 39  secondary_cleaner.state.floatbank3_a_air    5281 non-null   float64\n",
            " 40  secondary_cleaner.state.floatbank3_a_level  5290 non-null   float64\n",
            " 41  secondary_cleaner.state.floatbank3_b_air    5290 non-null   float64\n",
            " 42  secondary_cleaner.state.floatbank3_b_level  5290 non-null   float64\n",
            " 43  secondary_cleaner.state.floatbank4_a_air    5290 non-null   float64\n",
            " 44  secondary_cleaner.state.floatbank4_a_level  5290 non-null   float64\n",
            " 45  secondary_cleaner.state.floatbank4_b_air    5290 non-null   float64\n",
            " 46  secondary_cleaner.state.floatbank4_b_level  5290 non-null   float64\n",
            " 47  secondary_cleaner.state.floatbank5_a_air    5290 non-null   float64\n",
            " 48  secondary_cleaner.state.floatbank5_a_level  5290 non-null   float64\n",
            " 49  secondary_cleaner.state.floatbank5_b_air    5290 non-null   float64\n",
            " 50  secondary_cleaner.state.floatbank5_b_level  5290 non-null   float64\n",
            " 51  secondary_cleaner.state.floatbank6_a_air    5290 non-null   float64\n",
            " 52  secondary_cleaner.state.floatbank6_a_level  5290 non-null   float64\n",
            "dtypes: float64(52), object(1)\n",
            "memory usage: 2.1+ MB\n",
            "None\n",
            "////////////////////////////////////////////////////////////////////////////////////////// \n",
            "\n",
            "(19439, 87)\n"
          ]
        },
        {
          "output_type": "display_data",
          "data": {
            "text/plain": [
              "                  date  final.output.concentrate_ag  \\\n",
              "0  2016-01-15 00:00:00                     6.055403   \n",
              "1  2016-01-15 01:00:00                     6.029369   \n",
              "2  2016-01-15 02:00:00                     6.055926   \n",
              "3  2016-01-15 03:00:00                     6.047977   \n",
              "4  2016-01-15 04:00:00                     6.148599   \n",
              "\n",
              "   final.output.concentrate_pb  final.output.concentrate_sol  \\\n",
              "0                     9.889648                      5.507324   \n",
              "1                     9.968944                      5.257781   \n",
              "2                    10.213995                      5.383759   \n",
              "3                     9.977019                      4.858634   \n",
              "4                    10.142511                      4.939416   \n",
              "\n",
              "   final.output.concentrate_au  final.output.recovery  final.output.tail_ag  \\\n",
              "0                    42.192020              70.541216             10.411962   \n",
              "1                    42.701629              69.266198             10.462676   \n",
              "2                    42.657501              68.116445             10.507046   \n",
              "3                    42.689819              68.347543             10.422762   \n",
              "4                    42.774141              66.927016             10.360302   \n",
              "\n",
              "   final.output.tail_pb  final.output.tail_sol  final.output.tail_au  ...  \\\n",
              "0              0.895447              16.904297              2.143149  ...   \n",
              "1              0.927452              16.634514              2.224930  ...   \n",
              "2              0.953716              16.208849              2.257889  ...   \n",
              "3              0.883763              16.532835              2.146849  ...   \n",
              "4              0.792826              16.525686              2.055292  ...   \n",
              "\n",
              "   secondary_cleaner.state.floatbank4_a_air  \\\n",
              "0                                 14.016835   \n",
              "1                                 13.992281   \n",
              "2                                 14.015015   \n",
              "3                                 14.036510   \n",
              "4                                 14.027298   \n",
              "\n",
              "   secondary_cleaner.state.floatbank4_a_level  \\\n",
              "0                                 -502.488007   \n",
              "1                                 -505.503262   \n",
              "2                                 -502.520901   \n",
              "3                                 -500.857308   \n",
              "4                                 -499.838632   \n",
              "\n",
              "   secondary_cleaner.state.floatbank4_b_air  \\\n",
              "0                                 12.099931   \n",
              "1                                 11.950531   \n",
              "2                                 11.912783   \n",
              "3                                 11.999550   \n",
              "4                                 11.953070   \n",
              "\n",
              "   secondary_cleaner.state.floatbank4_b_level  \\\n",
              "0                                 -504.715942   \n",
              "1                                 -501.331529   \n",
              "2                                 -501.133383   \n",
              "3                                 -501.193686   \n",
              "4                                 -501.053894   \n",
              "\n",
              "   secondary_cleaner.state.floatbank5_a_air  \\\n",
              "0                                  9.925633   \n",
              "1                                 10.039245   \n",
              "2                                 10.070913   \n",
              "3                                  9.970366   \n",
              "4                                  9.925709   \n",
              "\n",
              "   secondary_cleaner.state.floatbank5_a_level  \\\n",
              "0                                 -498.310211   \n",
              "1                                 -500.169983   \n",
              "2                                 -500.129135   \n",
              "3                                 -499.201640   \n",
              "4                                 -501.686727   \n",
              "\n",
              "   secondary_cleaner.state.floatbank5_b_air  \\\n",
              "0                                  8.079666   \n",
              "1                                  7.984757   \n",
              "2                                  8.013877   \n",
              "3                                  7.977324   \n",
              "4                                  7.894242   \n",
              "\n",
              "   secondary_cleaner.state.floatbank5_b_level  \\\n",
              "0                                 -500.470978   \n",
              "1                                 -500.582168   \n",
              "2                                 -500.517572   \n",
              "3                                 -500.255908   \n",
              "4                                 -500.356035   \n",
              "\n",
              "   secondary_cleaner.state.floatbank6_a_air  \\\n",
              "0                                 14.151341   \n",
              "1                                 13.998353   \n",
              "2                                 14.028663   \n",
              "3                                 14.005551   \n",
              "4                                 13.996647   \n",
              "\n",
              "   secondary_cleaner.state.floatbank6_a_level  \n",
              "0                                 -605.841980  \n",
              "1                                 -599.787184  \n",
              "2                                 -601.427363  \n",
              "3                                 -599.996129  \n",
              "4                                 -601.496691  \n",
              "\n",
              "[5 rows x 87 columns]"
            ],
            "text/html": [
              "\n",
              "  <div id=\"df-a58cf177-1ce9-414e-97dc-93d95bde2983\">\n",
              "    <div class=\"colab-df-container\">\n",
              "      <div>\n",
              "<style scoped>\n",
              "    .dataframe tbody tr th:only-of-type {\n",
              "        vertical-align: middle;\n",
              "    }\n",
              "\n",
              "    .dataframe tbody tr th {\n",
              "        vertical-align: top;\n",
              "    }\n",
              "\n",
              "    .dataframe thead th {\n",
              "        text-align: right;\n",
              "    }\n",
              "</style>\n",
              "<table border=\"1\" class=\"dataframe\">\n",
              "  <thead>\n",
              "    <tr style=\"text-align: right;\">\n",
              "      <th></th>\n",
              "      <th>date</th>\n",
              "      <th>final.output.concentrate_ag</th>\n",
              "      <th>final.output.concentrate_pb</th>\n",
              "      <th>final.output.concentrate_sol</th>\n",
              "      <th>final.output.concentrate_au</th>\n",
              "      <th>final.output.recovery</th>\n",
              "      <th>final.output.tail_ag</th>\n",
              "      <th>final.output.tail_pb</th>\n",
              "      <th>final.output.tail_sol</th>\n",
              "      <th>final.output.tail_au</th>\n",
              "      <th>...</th>\n",
              "      <th>secondary_cleaner.state.floatbank4_a_air</th>\n",
              "      <th>secondary_cleaner.state.floatbank4_a_level</th>\n",
              "      <th>secondary_cleaner.state.floatbank4_b_air</th>\n",
              "      <th>secondary_cleaner.state.floatbank4_b_level</th>\n",
              "      <th>secondary_cleaner.state.floatbank5_a_air</th>\n",
              "      <th>secondary_cleaner.state.floatbank5_a_level</th>\n",
              "      <th>secondary_cleaner.state.floatbank5_b_air</th>\n",
              "      <th>secondary_cleaner.state.floatbank5_b_level</th>\n",
              "      <th>secondary_cleaner.state.floatbank6_a_air</th>\n",
              "      <th>secondary_cleaner.state.floatbank6_a_level</th>\n",
              "    </tr>\n",
              "  </thead>\n",
              "  <tbody>\n",
              "    <tr>\n",
              "      <th>0</th>\n",
              "      <td>2016-01-15 00:00:00</td>\n",
              "      <td>6.055403</td>\n",
              "      <td>9.889648</td>\n",
              "      <td>5.507324</td>\n",
              "      <td>42.192020</td>\n",
              "      <td>70.541216</td>\n",
              "      <td>10.411962</td>\n",
              "      <td>0.895447</td>\n",
              "      <td>16.904297</td>\n",
              "      <td>2.143149</td>\n",
              "      <td>...</td>\n",
              "      <td>14.016835</td>\n",
              "      <td>-502.488007</td>\n",
              "      <td>12.099931</td>\n",
              "      <td>-504.715942</td>\n",
              "      <td>9.925633</td>\n",
              "      <td>-498.310211</td>\n",
              "      <td>8.079666</td>\n",
              "      <td>-500.470978</td>\n",
              "      <td>14.151341</td>\n",
              "      <td>-605.841980</td>\n",
              "    </tr>\n",
              "    <tr>\n",
              "      <th>1</th>\n",
              "      <td>2016-01-15 01:00:00</td>\n",
              "      <td>6.029369</td>\n",
              "      <td>9.968944</td>\n",
              "      <td>5.257781</td>\n",
              "      <td>42.701629</td>\n",
              "      <td>69.266198</td>\n",
              "      <td>10.462676</td>\n",
              "      <td>0.927452</td>\n",
              "      <td>16.634514</td>\n",
              "      <td>2.224930</td>\n",
              "      <td>...</td>\n",
              "      <td>13.992281</td>\n",
              "      <td>-505.503262</td>\n",
              "      <td>11.950531</td>\n",
              "      <td>-501.331529</td>\n",
              "      <td>10.039245</td>\n",
              "      <td>-500.169983</td>\n",
              "      <td>7.984757</td>\n",
              "      <td>-500.582168</td>\n",
              "      <td>13.998353</td>\n",
              "      <td>-599.787184</td>\n",
              "    </tr>\n",
              "    <tr>\n",
              "      <th>2</th>\n",
              "      <td>2016-01-15 02:00:00</td>\n",
              "      <td>6.055926</td>\n",
              "      <td>10.213995</td>\n",
              "      <td>5.383759</td>\n",
              "      <td>42.657501</td>\n",
              "      <td>68.116445</td>\n",
              "      <td>10.507046</td>\n",
              "      <td>0.953716</td>\n",
              "      <td>16.208849</td>\n",
              "      <td>2.257889</td>\n",
              "      <td>...</td>\n",
              "      <td>14.015015</td>\n",
              "      <td>-502.520901</td>\n",
              "      <td>11.912783</td>\n",
              "      <td>-501.133383</td>\n",
              "      <td>10.070913</td>\n",
              "      <td>-500.129135</td>\n",
              "      <td>8.013877</td>\n",
              "      <td>-500.517572</td>\n",
              "      <td>14.028663</td>\n",
              "      <td>-601.427363</td>\n",
              "    </tr>\n",
              "    <tr>\n",
              "      <th>3</th>\n",
              "      <td>2016-01-15 03:00:00</td>\n",
              "      <td>6.047977</td>\n",
              "      <td>9.977019</td>\n",
              "      <td>4.858634</td>\n",
              "      <td>42.689819</td>\n",
              "      <td>68.347543</td>\n",
              "      <td>10.422762</td>\n",
              "      <td>0.883763</td>\n",
              "      <td>16.532835</td>\n",
              "      <td>2.146849</td>\n",
              "      <td>...</td>\n",
              "      <td>14.036510</td>\n",
              "      <td>-500.857308</td>\n",
              "      <td>11.999550</td>\n",
              "      <td>-501.193686</td>\n",
              "      <td>9.970366</td>\n",
              "      <td>-499.201640</td>\n",
              "      <td>7.977324</td>\n",
              "      <td>-500.255908</td>\n",
              "      <td>14.005551</td>\n",
              "      <td>-599.996129</td>\n",
              "    </tr>\n",
              "    <tr>\n",
              "      <th>4</th>\n",
              "      <td>2016-01-15 04:00:00</td>\n",
              "      <td>6.148599</td>\n",
              "      <td>10.142511</td>\n",
              "      <td>4.939416</td>\n",
              "      <td>42.774141</td>\n",
              "      <td>66.927016</td>\n",
              "      <td>10.360302</td>\n",
              "      <td>0.792826</td>\n",
              "      <td>16.525686</td>\n",
              "      <td>2.055292</td>\n",
              "      <td>...</td>\n",
              "      <td>14.027298</td>\n",
              "      <td>-499.838632</td>\n",
              "      <td>11.953070</td>\n",
              "      <td>-501.053894</td>\n",
              "      <td>9.925709</td>\n",
              "      <td>-501.686727</td>\n",
              "      <td>7.894242</td>\n",
              "      <td>-500.356035</td>\n",
              "      <td>13.996647</td>\n",
              "      <td>-601.496691</td>\n",
              "    </tr>\n",
              "  </tbody>\n",
              "</table>\n",
              "<p>5 rows × 87 columns</p>\n",
              "</div>\n",
              "      <button class=\"colab-df-convert\" onclick=\"convertToInteractive('df-a58cf177-1ce9-414e-97dc-93d95bde2983')\"\n",
              "              title=\"Convert this dataframe to an interactive table.\"\n",
              "              style=\"display:none;\">\n",
              "        \n",
              "  <svg xmlns=\"http://www.w3.org/2000/svg\" height=\"24px\"viewBox=\"0 0 24 24\"\n",
              "       width=\"24px\">\n",
              "    <path d=\"M0 0h24v24H0V0z\" fill=\"none\"/>\n",
              "    <path d=\"M18.56 5.44l.94 2.06.94-2.06 2.06-.94-2.06-.94-.94-2.06-.94 2.06-2.06.94zm-11 1L8.5 8.5l.94-2.06 2.06-.94-2.06-.94L8.5 2.5l-.94 2.06-2.06.94zm10 10l.94 2.06.94-2.06 2.06-.94-2.06-.94-.94-2.06-.94 2.06-2.06.94z\"/><path d=\"M17.41 7.96l-1.37-1.37c-.4-.4-.92-.59-1.43-.59-.52 0-1.04.2-1.43.59L10.3 9.45l-7.72 7.72c-.78.78-.78 2.05 0 2.83L4 21.41c.39.39.9.59 1.41.59.51 0 1.02-.2 1.41-.59l7.78-7.78 2.81-2.81c.8-.78.8-2.07 0-2.86zM5.41 20L4 18.59l7.72-7.72 1.47 1.35L5.41 20z\"/>\n",
              "  </svg>\n",
              "      </button>\n",
              "      \n",
              "  <style>\n",
              "    .colab-df-container {\n",
              "      display:flex;\n",
              "      flex-wrap:wrap;\n",
              "      gap: 12px;\n",
              "    }\n",
              "\n",
              "    .colab-df-convert {\n",
              "      background-color: #E8F0FE;\n",
              "      border: none;\n",
              "      border-radius: 50%;\n",
              "      cursor: pointer;\n",
              "      display: none;\n",
              "      fill: #1967D2;\n",
              "      height: 32px;\n",
              "      padding: 0 0 0 0;\n",
              "      width: 32px;\n",
              "    }\n",
              "\n",
              "    .colab-df-convert:hover {\n",
              "      background-color: #E2EBFA;\n",
              "      box-shadow: 0px 1px 2px rgba(60, 64, 67, 0.3), 0px 1px 3px 1px rgba(60, 64, 67, 0.15);\n",
              "      fill: #174EA6;\n",
              "    }\n",
              "\n",
              "    [theme=dark] .colab-df-convert {\n",
              "      background-color: #3B4455;\n",
              "      fill: #D2E3FC;\n",
              "    }\n",
              "\n",
              "    [theme=dark] .colab-df-convert:hover {\n",
              "      background-color: #434B5C;\n",
              "      box-shadow: 0px 1px 3px 1px rgba(0, 0, 0, 0.15);\n",
              "      filter: drop-shadow(0px 1px 2px rgba(0, 0, 0, 0.3));\n",
              "      fill: #FFFFFF;\n",
              "    }\n",
              "  </style>\n",
              "\n",
              "      <script>\n",
              "        const buttonEl =\n",
              "          document.querySelector('#df-a58cf177-1ce9-414e-97dc-93d95bde2983 button.colab-df-convert');\n",
              "        buttonEl.style.display =\n",
              "          google.colab.kernel.accessAllowed ? 'block' : 'none';\n",
              "\n",
              "        async function convertToInteractive(key) {\n",
              "          const element = document.querySelector('#df-a58cf177-1ce9-414e-97dc-93d95bde2983');\n",
              "          const dataTable =\n",
              "            await google.colab.kernel.invokeFunction('convertToInteractive',\n",
              "                                                     [key], {});\n",
              "          if (!dataTable) return;\n",
              "\n",
              "          const docLinkHtml = 'Like what you see? Visit the ' +\n",
              "            '<a target=\"_blank\" href=https://colab.research.google.com/notebooks/data_table.ipynb>data table notebook</a>'\n",
              "            + ' to learn more about interactive tables.';\n",
              "          element.innerHTML = '';\n",
              "          dataTable['output_type'] = 'display_data';\n",
              "          await google.colab.output.renderOutput(dataTable, element);\n",
              "          const docLink = document.createElement('div');\n",
              "          docLink.innerHTML = docLinkHtml;\n",
              "          element.appendChild(docLink);\n",
              "        }\n",
              "      </script>\n",
              "    </div>\n",
              "  </div>\n",
              "  "
            ]
          },
          "metadata": {}
        },
        {
          "output_type": "stream",
          "name": "stdout",
          "text": [
            "<class 'pandas.core.frame.DataFrame'>\n",
            "RangeIndex: 19439 entries, 0 to 19438\n",
            "Data columns (total 87 columns):\n",
            " #   Column                                              Non-Null Count  Dtype  \n",
            "---  ------                                              --------------  -----  \n",
            " 0   date                                                19439 non-null  object \n",
            " 1   final.output.concentrate_ag                         19438 non-null  float64\n",
            " 2   final.output.concentrate_pb                         19438 non-null  float64\n",
            " 3   final.output.concentrate_sol                        19228 non-null  float64\n",
            " 4   final.output.concentrate_au                         19439 non-null  float64\n",
            " 5   final.output.recovery                               19439 non-null  float64\n",
            " 6   final.output.tail_ag                                19438 non-null  float64\n",
            " 7   final.output.tail_pb                                19338 non-null  float64\n",
            " 8   final.output.tail_sol                               19433 non-null  float64\n",
            " 9   final.output.tail_au                                19439 non-null  float64\n",
            " 10  primary_cleaner.input.sulfate                       19415 non-null  float64\n",
            " 11  primary_cleaner.input.depressant                    19402 non-null  float64\n",
            " 12  primary_cleaner.input.feed_size                     19439 non-null  float64\n",
            " 13  primary_cleaner.input.xanthate                      19335 non-null  float64\n",
            " 14  primary_cleaner.output.concentrate_ag               19439 non-null  float64\n",
            " 15  primary_cleaner.output.concentrate_pb               19323 non-null  float64\n",
            " 16  primary_cleaner.output.concentrate_sol              19069 non-null  float64\n",
            " 17  primary_cleaner.output.concentrate_au               19439 non-null  float64\n",
            " 18  primary_cleaner.output.tail_ag                      19435 non-null  float64\n",
            " 19  primary_cleaner.output.tail_pb                      19418 non-null  float64\n",
            " 20  primary_cleaner.output.tail_sol                     19377 non-null  float64\n",
            " 21  primary_cleaner.output.tail_au                      19439 non-null  float64\n",
            " 22  primary_cleaner.state.floatbank8_a_air              19435 non-null  float64\n",
            " 23  primary_cleaner.state.floatbank8_a_level            19438 non-null  float64\n",
            " 24  primary_cleaner.state.floatbank8_b_air              19435 non-null  float64\n",
            " 25  primary_cleaner.state.floatbank8_b_level            19438 non-null  float64\n",
            " 26  primary_cleaner.state.floatbank8_c_air              19437 non-null  float64\n",
            " 27  primary_cleaner.state.floatbank8_c_level            19438 non-null  float64\n",
            " 28  primary_cleaner.state.floatbank8_d_air              19436 non-null  float64\n",
            " 29  primary_cleaner.state.floatbank8_d_level            19438 non-null  float64\n",
            " 30  rougher.calculation.sulfate_to_au_concentrate       19437 non-null  float64\n",
            " 31  rougher.calculation.floatbank10_sulfate_to_au_feed  19437 non-null  float64\n",
            " 32  rougher.calculation.floatbank11_sulfate_to_au_feed  19437 non-null  float64\n",
            " 33  rougher.calculation.au_pb_ratio                     19439 non-null  float64\n",
            " 34  rougher.input.feed_ag                               19439 non-null  float64\n",
            " 35  rougher.input.feed_pb                               19339 non-null  float64\n",
            " 36  rougher.input.feed_rate                             19428 non-null  float64\n",
            " 37  rougher.input.feed_size                             19294 non-null  float64\n",
            " 38  rougher.input.feed_sol                              19340 non-null  float64\n",
            " 39  rougher.input.feed_au                               19439 non-null  float64\n",
            " 40  rougher.input.floatbank10_sulfate                   19405 non-null  float64\n",
            " 41  rougher.input.floatbank10_xanthate                  19431 non-null  float64\n",
            " 42  rougher.input.floatbank11_sulfate                   19395 non-null  float64\n",
            " 43  rougher.input.floatbank11_xanthate                  18986 non-null  float64\n",
            " 44  rougher.output.concentrate_ag                       19439 non-null  float64\n",
            " 45  rougher.output.concentrate_pb                       19439 non-null  float64\n",
            " 46  rougher.output.concentrate_sol                      19416 non-null  float64\n",
            " 47  rougher.output.concentrate_au                       19439 non-null  float64\n",
            " 48  rougher.output.recovery                             19439 non-null  float64\n",
            " 49  rougher.output.tail_ag                              19438 non-null  float64\n",
            " 50  rougher.output.tail_pb                              19439 non-null  float64\n",
            " 51  rougher.output.tail_sol                             19439 non-null  float64\n",
            " 52  rougher.output.tail_au                              19439 non-null  float64\n",
            " 53  rougher.state.floatbank10_a_air                     19438 non-null  float64\n",
            " 54  rougher.state.floatbank10_a_level                   19438 non-null  float64\n",
            " 55  rougher.state.floatbank10_b_air                     19438 non-null  float64\n",
            " 56  rougher.state.floatbank10_b_level                   19438 non-null  float64\n",
            " 57  rougher.state.floatbank10_c_air                     19438 non-null  float64\n",
            " 58  rougher.state.floatbank10_c_level                   19438 non-null  float64\n",
            " 59  rougher.state.floatbank10_d_air                     19439 non-null  float64\n",
            " 60  rougher.state.floatbank10_d_level                   19439 non-null  float64\n",
            " 61  rougher.state.floatbank10_e_air                     19003 non-null  float64\n",
            " 62  rougher.state.floatbank10_e_level                   19439 non-null  float64\n",
            " 63  rougher.state.floatbank10_f_air                     19439 non-null  float64\n",
            " 64  rougher.state.floatbank10_f_level                   19439 non-null  float64\n",
            " 65  secondary_cleaner.output.tail_ag                    19437 non-null  float64\n",
            " 66  secondary_cleaner.output.tail_pb                    19427 non-null  float64\n",
            " 67  secondary_cleaner.output.tail_sol                   17691 non-null  float64\n",
            " 68  secondary_cleaner.output.tail_au                    19439 non-null  float64\n",
            " 69  secondary_cleaner.state.floatbank2_a_air            19219 non-null  float64\n",
            " 70  secondary_cleaner.state.floatbank2_a_level          19438 non-null  float64\n",
            " 71  secondary_cleaner.state.floatbank2_b_air            19416 non-null  float64\n",
            " 72  secondary_cleaner.state.floatbank2_b_level          19438 non-null  float64\n",
            " 73  secondary_cleaner.state.floatbank3_a_air            19426 non-null  float64\n",
            " 74  secondary_cleaner.state.floatbank3_a_level          19438 non-null  float64\n",
            " 75  secondary_cleaner.state.floatbank3_b_air            19438 non-null  float64\n",
            " 76  secondary_cleaner.state.floatbank3_b_level          19438 non-null  float64\n",
            " 77  secondary_cleaner.state.floatbank4_a_air            19433 non-null  float64\n",
            " 78  secondary_cleaner.state.floatbank4_a_level          19438 non-null  float64\n",
            " 79  secondary_cleaner.state.floatbank4_b_air            19438 non-null  float64\n",
            " 80  secondary_cleaner.state.floatbank4_b_level          19438 non-null  float64\n",
            " 81  secondary_cleaner.state.floatbank5_a_air            19438 non-null  float64\n",
            " 82  secondary_cleaner.state.floatbank5_a_level          19438 non-null  float64\n",
            " 83  secondary_cleaner.state.floatbank5_b_air            19438 non-null  float64\n",
            " 84  secondary_cleaner.state.floatbank5_b_level          19438 non-null  float64\n",
            " 85  secondary_cleaner.state.floatbank6_a_air            19437 non-null  float64\n",
            " 86  secondary_cleaner.state.floatbank6_a_level          19438 non-null  float64\n",
            "dtypes: float64(86), object(1)\n",
            "memory usage: 12.9+ MB\n",
            "None\n",
            "////////////////////////////////////////////////////////////////////////////////////////// \n",
            "\n"
          ]
        }
      ],
      "source": [
        "data_presentation(df_train)\n",
        "data_presentation(df_test)\n",
        "data_presentation(df_full)"
      ]
    },
    {
      "cell_type": "markdown",
      "metadata": {
        "id": "20Bz8BU5IkVn"
      },
      "source": [
        "### Эффективность обогащения"
      ]
    },
    {
      "cell_type": "code",
      "execution_count": 16,
      "metadata": {
        "scrolled": false,
        "colab": {
          "base_uri": "https://localhost:8080/",
          "height": 282
        },
        "id": "ugKiM3RNIkVo",
        "outputId": "02dbb635-07d3-4a8c-9d5a-e83591c14963"
      },
      "outputs": [
        {
          "output_type": "execute_result",
          "data": {
            "text/plain": [
              "<matplotlib.axes._subplots.AxesSubplot at 0x7f2d629fb950>"
            ]
          },
          "metadata": {},
          "execution_count": 16
        },
        {
          "output_type": "display_data",
          "data": {
            "text/plain": [
              "<Figure size 432x288 with 1 Axes>"
            ],
            "image/png": "[encoded data removed]"
          },
          "metadata": {
            "needs_background": "light"
          }
        }
      ],
      "source": [
        "df_train['rougher.output.recovery'].hist(bins = 20)"
      ]
    },
    {
      "cell_type": "markdown",
      "metadata": {
        "id": "SO5vVBS9IkVo"
      },
      "source": [
        "Параметр вычисляется так:   \n",
        "**recovery = C(F-T) / F(C-T)**  \n",
        "recovery = 'rougher.output.concentrate_au' * ('rougher.input.feed_au' - 'rougher.output.tail_ag')/  \n",
        "'rougher.input.feed_au' * ('rougher.output.concentrate_au' -  'rougher.output.tail_ag')"
      ]
    },
    {
      "cell_type": "markdown",
      "metadata": {
        "id": "A30fzvr1IkVo"
      },
      "source": [
        "**Посчитаем пропуски в столбцах для расчета**"
      ]
    },
    {
      "cell_type": "code",
      "execution_count": 17,
      "metadata": {
        "scrolled": true,
        "colab": {
          "base_uri": "https://localhost:8080/"
        },
        "id": "Nt15Pjw5IkVp",
        "outputId": "b8aa3c26-04fd-455f-a23b-213b4236aec1"
      },
      "outputs": [
        {
          "output_type": "stream",
          "name": "stdout",
          "text": [
            "0\n",
            "0\n",
            "0\n"
          ]
        }
      ],
      "source": [
        "print(df_train['rougher.output.concentrate_au'].isna().sum())\n",
        "print(df_train['rougher.input.feed_au'].isna().sum())\n",
        "print(df_train['rougher.output.tail_au'].isna().sum())"
      ]
    },
    {
      "cell_type": "markdown",
      "metadata": {
        "id": "XFJgOLdgIkVp"
      },
      "source": [
        "**Пропусков нет, значит, приступаем к расчету**"
      ]
    },
    {
      "cell_type": "code",
      "execution_count": 18,
      "metadata": {
        "id": "wh5xlXkyIkVp"
      },
      "outputs": [],
      "source": [
        "C = df_train['rougher.output.concentrate_au']\n",
        "F = df_train['rougher.input.feed_au']\n",
        "T = df_train['rougher.output.tail_au']"
      ]
    },
    {
      "cell_type": "code",
      "execution_count": 19,
      "metadata": {
        "id": "sI8ShiAxIkVq"
      },
      "outputs": [],
      "source": [
        "calc_recovery = ((C * (F - T)) / (F * (C - T))) * 100"
      ]
    },
    {
      "cell_type": "code",
      "execution_count": 20,
      "metadata": {
        "scrolled": false,
        "colab": {
          "base_uri": "https://localhost:8080/"
        },
        "id": "srIMy0sKIkVr",
        "outputId": "dd7b426a-6316-491a-81da-b0a0f86cf725"
      },
      "outputs": [
        {
          "output_type": "stream",
          "name": "stdout",
          "text": [
            "Абсолютная средняя ошибка = 9.73512347450521e-15\n"
          ]
        }
      ],
      "source": [
        "print('Абсолютная средняя ошибка =', mean_absolute_error(df_train['rougher.output.recovery'], calc_recovery))"
      ]
    },
    {
      "cell_type": "markdown",
      "metadata": {
        "id": "G57cmMtKIkVr"
      },
      "source": [
        "**Значение абсолютной ошибки очень низкое, что означает совпадение нашего расчета с табличными данными.  \n",
        "То есть, эффективность обогащения расчитана правильно**"
      ]
    },
    {
      "cell_type": "markdown",
      "metadata": {
        "id": "KDx_q1GqIkVs"
      },
      "source": [
        "### Различие test и train выборок"
      ]
    },
    {
      "cell_type": "markdown",
      "metadata": {
        "id": "6ytLPhNGIkVs"
      },
      "source": [
        "**В тестовой выборке некоторые признаки отсутствуют. Рассмотрим их**"
      ]
    },
    {
      "cell_type": "code",
      "execution_count": 21,
      "metadata": {
        "scrolled": true,
        "colab": {
          "base_uri": "https://localhost:8080/"
        },
        "id": "7lyS97XiIkVs",
        "outputId": "49ae30c4-4c9e-4fe5-99e7-723907e19b5c"
      },
      "outputs": [
        {
          "output_type": "execute_result",
          "data": {
            "text/plain": [
              "['final.output.concentrate_ag',\n",
              " 'final.output.concentrate_pb',\n",
              " 'final.output.concentrate_sol',\n",
              " 'final.output.concentrate_au',\n",
              " 'final.output.recovery',\n",
              " 'final.output.tail_ag',\n",
              " 'final.output.tail_pb',\n",
              " 'final.output.tail_sol',\n",
              " 'final.output.tail_au',\n",
              " 'primary_cleaner.output.concentrate_ag',\n",
              " 'primary_cleaner.output.concentrate_pb',\n",
              " 'primary_cleaner.output.concentrate_sol',\n",
              " 'primary_cleaner.output.concentrate_au',\n",
              " 'primary_cleaner.output.tail_ag',\n",
              " 'primary_cleaner.output.tail_pb',\n",
              " 'primary_cleaner.output.tail_sol',\n",
              " 'primary_cleaner.output.tail_au',\n",
              " 'rougher.calculation.sulfate_to_au_concentrate',\n",
              " 'rougher.calculation.floatbank10_sulfate_to_au_feed',\n",
              " 'rougher.calculation.floatbank11_sulfate_to_au_feed',\n",
              " 'rougher.calculation.au_pb_ratio',\n",
              " 'rougher.output.concentrate_ag',\n",
              " 'rougher.output.concentrate_pb',\n",
              " 'rougher.output.concentrate_sol',\n",
              " 'rougher.output.concentrate_au',\n",
              " 'rougher.output.recovery',\n",
              " 'rougher.output.tail_ag',\n",
              " 'rougher.output.tail_pb',\n",
              " 'rougher.output.tail_sol',\n",
              " 'rougher.output.tail_au',\n",
              " 'secondary_cleaner.output.tail_ag',\n",
              " 'secondary_cleaner.output.tail_pb',\n",
              " 'secondary_cleaner.output.tail_sol',\n",
              " 'secondary_cleaner.output.tail_au']"
            ]
          },
          "metadata": {},
          "execution_count": 21
        }
      ],
      "source": [
        "diff = []\n",
        "coincidence = []\n",
        "\n",
        "# Цикл пройдет по всем столбцам df_train и рассмотрит, есть ли тот или иной признак в df_test,\n",
        "# если нет, то в список diff запишется название этого признака\n",
        "\n",
        "for i in np.array(df_train.columns):\n",
        "    if i not in np.array(df_test.columns):\n",
        "        diff.append(i)\n",
        "    # В список coincidence запишем совпадающие столбцы\n",
        "    elif (i in np.array(df_test.columns)) & (i != 'date'):\n",
        "          coincidence.append(i)\n",
        "        \n",
        "diff"
      ]
    },
    {
      "cell_type": "markdown",
      "metadata": {
        "id": "tBANjzVbIkVt"
      },
      "source": [
        "**В тестовой выборке отсутствуют этапы:**  \n",
        "- rougher.output\n",
        "- final.output\n",
        "- primary_cleaner.output\n",
        "- secondary_cleaner.output\n",
        "- rougher.calculation"
      ]
    },
    {
      "cell_type": "markdown",
      "metadata": {
        "id": "sB0iKBYiIkVu"
      },
      "source": [
        "**Эти этапы - онлайн-метрики. Они будут известны лишь после оконания всех процессов обработки**"
      ]
    },
    {
      "cell_type": "markdown",
      "metadata": {
        "id": "ff-yyc83IkVu"
      },
      "source": [
        "### Предобработка данных"
      ]
    },
    {
      "cell_type": "markdown",
      "metadata": {
        "id": "mFZOrBukIkVv"
      },
      "source": [
        "**Посчитаем пропуски**"
      ]
    },
    {
      "cell_type": "code",
      "execution_count": 22,
      "metadata": {
        "scrolled": true,
        "id": "5UFVF4pqIkVv"
      },
      "outputs": [],
      "source": [
        "# Рассмотрим в процентах\n",
        "def isna_view (df):\n",
        "    return  (\n",
        "                (df.isna().mean()*100)\n",
        "                .sort_values(ascending=False)\n",
        "                .to_frame()\n",
        "                .rename(columns = {0:'percent_space'})\n",
        "                .style.background_gradient('coolwarm').format(\"{:.1f}\")\n",
        "            )"
      ]
    },
    {
      "cell_type": "code",
      "execution_count": 23,
      "metadata": {
        "scrolled": true,
        "colab": {
          "base_uri": "https://localhost:8080/",
          "height": 1000
        },
        "id": "IJnVlMrXIkVw",
        "outputId": "b42a4e9e-9b4c-4e88-9e4a-336c7191aa40"
      },
      "outputs": [
        {
          "output_type": "execute_result",
          "data": {
            "text/plain": [
              "<pandas.io.formats.style.Styler at 0x7f2d62ce0290>"
            ],
            "text/html": [
              "<style type=\"text/css\">\n",
              "#T_dfed6_row0_col0 {\n",
              "  background-color: #b40426;\n",
              "  color: #f1f1f1;\n",
              "}\n",
              "#T_dfed6_row1_col0 {\n",
              "  background-color: #94b6ff;\n",
              "  color: #000000;\n",
              "}\n",
              "#T_dfed6_row2_col0 {\n",
              "  background-color: #93b5fe;\n",
              "  color: #000000;\n",
              "}\n",
              "#T_dfed6_row3_col0 {\n",
              "  background-color: #7396f5;\n",
              "  color: #f1f1f1;\n",
              "}\n",
              "#T_dfed6_row4_col0 {\n",
              "  background-color: #6485ec;\n",
              "  color: #f1f1f1;\n",
              "}\n",
              "#T_dfed6_row5_col0 {\n",
              "  background-color: #6384eb;\n",
              "  color: #f1f1f1;\n",
              "}\n",
              "#T_dfed6_row6_col0 {\n",
              "  background-color: #5572df;\n",
              "  color: #f1f1f1;\n",
              "}\n",
              "#T_dfed6_row7_col0, #T_dfed6_row8_col0, #T_dfed6_row9_col0 {\n",
              "  background-color: #4c66d6;\n",
              "  color: #f1f1f1;\n",
              "}\n",
              "#T_dfed6_row10_col0 {\n",
              "  background-color: #4a63d3;\n",
              "  color: #f1f1f1;\n",
              "}\n",
              "#T_dfed6_row11_col0 {\n",
              "  background-color: #4961d2;\n",
              "  color: #f1f1f1;\n",
              "}\n",
              "#T_dfed6_row12_col0 {\n",
              "  background-color: #4358cb;\n",
              "  color: #f1f1f1;\n",
              "}\n",
              "#T_dfed6_row13_col0, #T_dfed6_row14_col0 {\n",
              "  background-color: #4055c8;\n",
              "  color: #f1f1f1;\n",
              "}\n",
              "#T_dfed6_row15_col0 {\n",
              "  background-color: #3f53c6;\n",
              "  color: #f1f1f1;\n",
              "}\n",
              "#T_dfed6_row16_col0, #T_dfed6_row17_col0, #T_dfed6_row18_col0 {\n",
              "  background-color: #3e51c5;\n",
              "  color: #f1f1f1;\n",
              "}\n",
              "#T_dfed6_row19_col0 {\n",
              "  background-color: #3d50c3;\n",
              "  color: #f1f1f1;\n",
              "}\n",
              "#T_dfed6_row20_col0, #T_dfed6_row21_col0, #T_dfed6_row22_col0 {\n",
              "  background-color: #3c4ec2;\n",
              "  color: #f1f1f1;\n",
              "}\n",
              "#T_dfed6_row23_col0, #T_dfed6_row24_col0, #T_dfed6_row25_col0, #T_dfed6_row26_col0, #T_dfed6_row27_col0, #T_dfed6_row28_col0, #T_dfed6_row29_col0, #T_dfed6_row30_col0, #T_dfed6_row31_col0, #T_dfed6_row32_col0, #T_dfed6_row33_col0, #T_dfed6_row34_col0, #T_dfed6_row35_col0, #T_dfed6_row36_col0, #T_dfed6_row37_col0, #T_dfed6_row38_col0, #T_dfed6_row39_col0, #T_dfed6_row40_col0, #T_dfed6_row41_col0, #T_dfed6_row42_col0, #T_dfed6_row43_col0, #T_dfed6_row44_col0, #T_dfed6_row45_col0, #T_dfed6_row46_col0, #T_dfed6_row47_col0, #T_dfed6_row48_col0, #T_dfed6_row49_col0, #T_dfed6_row50_col0, #T_dfed6_row51_col0, #T_dfed6_row52_col0, #T_dfed6_row53_col0, #T_dfed6_row54_col0, #T_dfed6_row55_col0, #T_dfed6_row56_col0, #T_dfed6_row57_col0, #T_dfed6_row58_col0, #T_dfed6_row59_col0, #T_dfed6_row60_col0, #T_dfed6_row61_col0, #T_dfed6_row62_col0, #T_dfed6_row63_col0, #T_dfed6_row64_col0, #T_dfed6_row65_col0, #T_dfed6_row66_col0, #T_dfed6_row67_col0, #T_dfed6_row68_col0, #T_dfed6_row69_col0, #T_dfed6_row70_col0, #T_dfed6_row71_col0, #T_dfed6_row72_col0, #T_dfed6_row73_col0, #T_dfed6_row74_col0, #T_dfed6_row75_col0, #T_dfed6_row76_col0, #T_dfed6_row77_col0, #T_dfed6_row78_col0, #T_dfed6_row79_col0, #T_dfed6_row80_col0, #T_dfed6_row81_col0, #T_dfed6_row82_col0, #T_dfed6_row83_col0, #T_dfed6_row84_col0, #T_dfed6_row85_col0, #T_dfed6_row86_col0 {\n",
              "  background-color: #3b4cc0;\n",
              "  color: #f1f1f1;\n",
              "}\n",
              "</style>\n",
              "<table id=\"T_dfed6_\" class=\"dataframe\">\n",
              "  <thead>\n",
              "    <tr>\n",
              "      <th class=\"blank level0\" >&nbsp;</th>\n",
              "      <th class=\"col_heading level0 col0\" >percent_space</th>\n",
              "    </tr>\n",
              "  </thead>\n",
              "  <tbody>\n",
              "    <tr>\n",
              "      <th id=\"T_dfed6_level0_row0\" class=\"row_heading level0 row0\" >secondary_cleaner.output.tail_sol</th>\n",
              "      <td id=\"T_dfed6_row0_col0\" class=\"data row0 col0\" >11.3</td>\n",
              "    </tr>\n",
              "    <tr>\n",
              "      <th id=\"T_dfed6_level0_row1\" class=\"row_heading level0 row1\" >rougher.state.floatbank10_e_air</th>\n",
              "      <td id=\"T_dfed6_row1_col0\" class=\"data row1 col0\" >3.1</td>\n",
              "    </tr>\n",
              "    <tr>\n",
              "      <th id=\"T_dfed6_level0_row2\" class=\"row_heading level0 row2\" >rougher.input.floatbank11_xanthate</th>\n",
              "      <td id=\"T_dfed6_row2_col0\" class=\"data row2 col0\" >3.0</td>\n",
              "    </tr>\n",
              "    <tr>\n",
              "      <th id=\"T_dfed6_level0_row3\" class=\"row_heading level0 row3\" >primary_cleaner.output.concentrate_sol</th>\n",
              "      <td id=\"T_dfed6_row3_col0\" class=\"data row3 col0\" >2.0</td>\n",
              "    </tr>\n",
              "    <tr>\n",
              "      <th id=\"T_dfed6_level0_row4\" class=\"row_heading level0 row4\" >secondary_cleaner.state.floatbank2_a_air</th>\n",
              "      <td id=\"T_dfed6_row4_col0\" class=\"data row4 col0\" >1.5</td>\n",
              "    </tr>\n",
              "    <tr>\n",
              "      <th id=\"T_dfed6_level0_row5\" class=\"row_heading level0 row5\" >final.output.concentrate_sol</th>\n",
              "      <td id=\"T_dfed6_row5_col0\" class=\"data row5 col0\" >1.5</td>\n",
              "    </tr>\n",
              "    <tr>\n",
              "      <th id=\"T_dfed6_level0_row6\" class=\"row_heading level0 row6\" >rougher.input.feed_size</th>\n",
              "      <td id=\"T_dfed6_row6_col0\" class=\"data row6 col0\" >1.0</td>\n",
              "    </tr>\n",
              "    <tr>\n",
              "      <th id=\"T_dfed6_level0_row7\" class=\"row_heading level0 row7\" >primary_cleaner.input.xanthate</th>\n",
              "      <td id=\"T_dfed6_row7_col0\" class=\"data row7 col0\" >0.7</td>\n",
              "    </tr>\n",
              "    <tr>\n",
              "      <th id=\"T_dfed6_level0_row8\" class=\"row_heading level0 row8\" >rougher.input.feed_pb</th>\n",
              "      <td id=\"T_dfed6_row8_col0\" class=\"data row8 col0\" >0.7</td>\n",
              "    </tr>\n",
              "    <tr>\n",
              "      <th id=\"T_dfed6_level0_row9\" class=\"row_heading level0 row9\" >final.output.tail_pb</th>\n",
              "      <td id=\"T_dfed6_row9_col0\" class=\"data row9 col0\" >0.7</td>\n",
              "    </tr>\n",
              "    <tr>\n",
              "      <th id=\"T_dfed6_level0_row10\" class=\"row_heading level0 row10\" >primary_cleaner.output.concentrate_pb</th>\n",
              "      <td id=\"T_dfed6_row10_col0\" class=\"data row10 col0\" >0.6</td>\n",
              "    </tr>\n",
              "    <tr>\n",
              "      <th id=\"T_dfed6_level0_row11\" class=\"row_heading level0 row11\" >rougher.input.feed_sol</th>\n",
              "      <td id=\"T_dfed6_row11_col0\" class=\"data row11 col0\" >0.6</td>\n",
              "    </tr>\n",
              "    <tr>\n",
              "      <th id=\"T_dfed6_level0_row12\" class=\"row_heading level0 row12\" >primary_cleaner.output.tail_sol</th>\n",
              "      <td id=\"T_dfed6_row12_col0\" class=\"data row12 col0\" >0.3</td>\n",
              "    </tr>\n",
              "    <tr>\n",
              "      <th id=\"T_dfed6_level0_row13\" class=\"row_heading level0 row13\" >rougher.input.floatbank11_sulfate</th>\n",
              "      <td id=\"T_dfed6_row13_col0\" class=\"data row13 col0\" >0.3</td>\n",
              "    </tr>\n",
              "    <tr>\n",
              "      <th id=\"T_dfed6_level0_row14\" class=\"row_heading level0 row14\" >primary_cleaner.input.depressant</th>\n",
              "      <td id=\"T_dfed6_row14_col0\" class=\"data row14 col0\" >0.2</td>\n",
              "    </tr>\n",
              "    <tr>\n",
              "      <th id=\"T_dfed6_level0_row15\" class=\"row_heading level0 row15\" >rougher.input.floatbank10_sulfate</th>\n",
              "      <td id=\"T_dfed6_row15_col0\" class=\"data row15 col0\" >0.2</td>\n",
              "    </tr>\n",
              "    <tr>\n",
              "      <th id=\"T_dfed6_level0_row16\" class=\"row_heading level0 row16\" >rougher.output.concentrate_sol</th>\n",
              "      <td id=\"T_dfed6_row16_col0\" class=\"data row16 col0\" >0.2</td>\n",
              "    </tr>\n",
              "    <tr>\n",
              "      <th id=\"T_dfed6_level0_row17\" class=\"row_heading level0 row17\" >secondary_cleaner.state.floatbank2_b_air</th>\n",
              "      <td id=\"T_dfed6_row17_col0\" class=\"data row17 col0\" >0.1</td>\n",
              "    </tr>\n",
              "    <tr>\n",
              "      <th id=\"T_dfed6_level0_row18\" class=\"row_heading level0 row18\" >primary_cleaner.input.sulfate</th>\n",
              "      <td id=\"T_dfed6_row18_col0\" class=\"data row18 col0\" >0.1</td>\n",
              "    </tr>\n",
              "    <tr>\n",
              "      <th id=\"T_dfed6_level0_row19\" class=\"row_heading level0 row19\" >primary_cleaner.output.tail_pb</th>\n",
              "      <td id=\"T_dfed6_row19_col0\" class=\"data row19 col0\" >0.1</td>\n",
              "    </tr>\n",
              "    <tr>\n",
              "      <th id=\"T_dfed6_level0_row20\" class=\"row_heading level0 row20\" >secondary_cleaner.output.tail_pb</th>\n",
              "      <td id=\"T_dfed6_row20_col0\" class=\"data row20 col0\" >0.1</td>\n",
              "    </tr>\n",
              "    <tr>\n",
              "      <th id=\"T_dfed6_level0_row21\" class=\"row_heading level0 row21\" >rougher.input.feed_rate</th>\n",
              "      <td id=\"T_dfed6_row21_col0\" class=\"data row21 col0\" >0.1</td>\n",
              "    </tr>\n",
              "    <tr>\n",
              "      <th id=\"T_dfed6_level0_row22\" class=\"row_heading level0 row22\" >rougher.input.floatbank10_xanthate</th>\n",
              "      <td id=\"T_dfed6_row22_col0\" class=\"data row22 col0\" >0.1</td>\n",
              "    </tr>\n",
              "    <tr>\n",
              "      <th id=\"T_dfed6_level0_row23\" class=\"row_heading level0 row23\" >secondary_cleaner.state.floatbank4_a_air</th>\n",
              "      <td id=\"T_dfed6_row23_col0\" class=\"data row23 col0\" >0.0</td>\n",
              "    </tr>\n",
              "    <tr>\n",
              "      <th id=\"T_dfed6_level0_row24\" class=\"row_heading level0 row24\" >final.output.tail_sol</th>\n",
              "      <td id=\"T_dfed6_row24_col0\" class=\"data row24 col0\" >0.0</td>\n",
              "    </tr>\n",
              "    <tr>\n",
              "      <th id=\"T_dfed6_level0_row25\" class=\"row_heading level0 row25\" >secondary_cleaner.state.floatbank3_a_air</th>\n",
              "      <td id=\"T_dfed6_row25_col0\" class=\"data row25 col0\" >0.0</td>\n",
              "    </tr>\n",
              "    <tr>\n",
              "      <th id=\"T_dfed6_level0_row26\" class=\"row_heading level0 row26\" >primary_cleaner.state.floatbank8_a_air</th>\n",
              "      <td id=\"T_dfed6_row26_col0\" class=\"data row26 col0\" >0.0</td>\n",
              "    </tr>\n",
              "    <tr>\n",
              "      <th id=\"T_dfed6_level0_row27\" class=\"row_heading level0 row27\" >primary_cleaner.state.floatbank8_b_air</th>\n",
              "      <td id=\"T_dfed6_row27_col0\" class=\"data row27 col0\" >0.0</td>\n",
              "    </tr>\n",
              "    <tr>\n",
              "      <th id=\"T_dfed6_level0_row28\" class=\"row_heading level0 row28\" >primary_cleaner.state.floatbank8_d_air</th>\n",
              "      <td id=\"T_dfed6_row28_col0\" class=\"data row28 col0\" >0.0</td>\n",
              "    </tr>\n",
              "    <tr>\n",
              "      <th id=\"T_dfed6_level0_row29\" class=\"row_heading level0 row29\" >primary_cleaner.state.floatbank8_c_air</th>\n",
              "      <td id=\"T_dfed6_row29_col0\" class=\"data row29 col0\" >0.0</td>\n",
              "    </tr>\n",
              "    <tr>\n",
              "      <th id=\"T_dfed6_level0_row30\" class=\"row_heading level0 row30\" >secondary_cleaner.output.tail_ag</th>\n",
              "      <td id=\"T_dfed6_row30_col0\" class=\"data row30 col0\" >0.0</td>\n",
              "    </tr>\n",
              "    <tr>\n",
              "      <th id=\"T_dfed6_level0_row31\" class=\"row_heading level0 row31\" >secondary_cleaner.state.floatbank6_a_air</th>\n",
              "      <td id=\"T_dfed6_row31_col0\" class=\"data row31 col0\" >0.0</td>\n",
              "    </tr>\n",
              "    <tr>\n",
              "      <th id=\"T_dfed6_level0_row32\" class=\"row_heading level0 row32\" >rougher.state.floatbank10_b_level</th>\n",
              "      <td id=\"T_dfed6_row32_col0\" class=\"data row32 col0\" >0.0</td>\n",
              "    </tr>\n",
              "    <tr>\n",
              "      <th id=\"T_dfed6_level0_row33\" class=\"row_heading level0 row33\" >rougher.state.floatbank10_b_air</th>\n",
              "      <td id=\"T_dfed6_row33_col0\" class=\"data row33 col0\" >0.0</td>\n",
              "    </tr>\n",
              "    <tr>\n",
              "      <th id=\"T_dfed6_level0_row34\" class=\"row_heading level0 row34\" >rougher.state.floatbank10_c_level</th>\n",
              "      <td id=\"T_dfed6_row34_col0\" class=\"data row34 col0\" >0.0</td>\n",
              "    </tr>\n",
              "    <tr>\n",
              "      <th id=\"T_dfed6_level0_row35\" class=\"row_heading level0 row35\" >rougher.state.floatbank10_c_air</th>\n",
              "      <td id=\"T_dfed6_row35_col0\" class=\"data row35 col0\" >0.0</td>\n",
              "    </tr>\n",
              "    <tr>\n",
              "      <th id=\"T_dfed6_level0_row36\" class=\"row_heading level0 row36\" >secondary_cleaner.state.floatbank3_a_level</th>\n",
              "      <td id=\"T_dfed6_row36_col0\" class=\"data row36 col0\" >0.0</td>\n",
              "    </tr>\n",
              "    <tr>\n",
              "      <th id=\"T_dfed6_level0_row37\" class=\"row_heading level0 row37\" >secondary_cleaner.state.floatbank2_a_level</th>\n",
              "      <td id=\"T_dfed6_row37_col0\" class=\"data row37 col0\" >0.0</td>\n",
              "    </tr>\n",
              "    <tr>\n",
              "      <th id=\"T_dfed6_level0_row38\" class=\"row_heading level0 row38\" >secondary_cleaner.state.floatbank2_b_level</th>\n",
              "      <td id=\"T_dfed6_row38_col0\" class=\"data row38 col0\" >0.0</td>\n",
              "    </tr>\n",
              "    <tr>\n",
              "      <th id=\"T_dfed6_level0_row39\" class=\"row_heading level0 row39\" >rougher.state.floatbank10_a_air</th>\n",
              "      <td id=\"T_dfed6_row39_col0\" class=\"data row39 col0\" >0.0</td>\n",
              "    </tr>\n",
              "    <tr>\n",
              "      <th id=\"T_dfed6_level0_row40\" class=\"row_heading level0 row40\" >secondary_cleaner.state.floatbank3_b_air</th>\n",
              "      <td id=\"T_dfed6_row40_col0\" class=\"data row40 col0\" >0.0</td>\n",
              "    </tr>\n",
              "    <tr>\n",
              "      <th id=\"T_dfed6_level0_row41\" class=\"row_heading level0 row41\" >secondary_cleaner.state.floatbank3_b_level</th>\n",
              "      <td id=\"T_dfed6_row41_col0\" class=\"data row41 col0\" >0.0</td>\n",
              "    </tr>\n",
              "    <tr>\n",
              "      <th id=\"T_dfed6_level0_row42\" class=\"row_heading level0 row42\" >secondary_cleaner.state.floatbank4_a_level</th>\n",
              "      <td id=\"T_dfed6_row42_col0\" class=\"data row42 col0\" >0.0</td>\n",
              "    </tr>\n",
              "    <tr>\n",
              "      <th id=\"T_dfed6_level0_row43\" class=\"row_heading level0 row43\" >secondary_cleaner.state.floatbank4_b_air</th>\n",
              "      <td id=\"T_dfed6_row43_col0\" class=\"data row43 col0\" >0.0</td>\n",
              "    </tr>\n",
              "    <tr>\n",
              "      <th id=\"T_dfed6_level0_row44\" class=\"row_heading level0 row44\" >secondary_cleaner.state.floatbank4_b_level</th>\n",
              "      <td id=\"T_dfed6_row44_col0\" class=\"data row44 col0\" >0.0</td>\n",
              "    </tr>\n",
              "    <tr>\n",
              "      <th id=\"T_dfed6_level0_row45\" class=\"row_heading level0 row45\" >secondary_cleaner.state.floatbank5_a_air</th>\n",
              "      <td id=\"T_dfed6_row45_col0\" class=\"data row45 col0\" >0.0</td>\n",
              "    </tr>\n",
              "    <tr>\n",
              "      <th id=\"T_dfed6_level0_row46\" class=\"row_heading level0 row46\" >secondary_cleaner.state.floatbank5_a_level</th>\n",
              "      <td id=\"T_dfed6_row46_col0\" class=\"data row46 col0\" >0.0</td>\n",
              "    </tr>\n",
              "    <tr>\n",
              "      <th id=\"T_dfed6_level0_row47\" class=\"row_heading level0 row47\" >secondary_cleaner.state.floatbank5_b_air</th>\n",
              "      <td id=\"T_dfed6_row47_col0\" class=\"data row47 col0\" >0.0</td>\n",
              "    </tr>\n",
              "    <tr>\n",
              "      <th id=\"T_dfed6_level0_row48\" class=\"row_heading level0 row48\" >secondary_cleaner.state.floatbank5_b_level</th>\n",
              "      <td id=\"T_dfed6_row48_col0\" class=\"data row48 col0\" >0.0</td>\n",
              "    </tr>\n",
              "    <tr>\n",
              "      <th id=\"T_dfed6_level0_row49\" class=\"row_heading level0 row49\" >rougher.state.floatbank10_a_level</th>\n",
              "      <td id=\"T_dfed6_row49_col0\" class=\"data row49 col0\" >0.0</td>\n",
              "    </tr>\n",
              "    <tr>\n",
              "      <th id=\"T_dfed6_level0_row50\" class=\"row_heading level0 row50\" >secondary_cleaner.state.floatbank6_a_level</th>\n",
              "      <td id=\"T_dfed6_row50_col0\" class=\"data row50 col0\" >0.0</td>\n",
              "    </tr>\n",
              "    <tr>\n",
              "      <th id=\"T_dfed6_level0_row51\" class=\"row_heading level0 row51\" >rougher.calculation.floatbank11_sulfate_to_au_feed</th>\n",
              "      <td id=\"T_dfed6_row51_col0\" class=\"data row51 col0\" >0.0</td>\n",
              "    </tr>\n",
              "    <tr>\n",
              "      <th id=\"T_dfed6_level0_row52\" class=\"row_heading level0 row52\" >rougher.calculation.floatbank10_sulfate_to_au_feed</th>\n",
              "      <td id=\"T_dfed6_row52_col0\" class=\"data row52 col0\" >0.0</td>\n",
              "    </tr>\n",
              "    <tr>\n",
              "      <th id=\"T_dfed6_level0_row53\" class=\"row_heading level0 row53\" >primary_cleaner.state.floatbank8_d_level</th>\n",
              "      <td id=\"T_dfed6_row53_col0\" class=\"data row53 col0\" >0.0</td>\n",
              "    </tr>\n",
              "    <tr>\n",
              "      <th id=\"T_dfed6_level0_row54\" class=\"row_heading level0 row54\" >primary_cleaner.state.floatbank8_c_level</th>\n",
              "      <td id=\"T_dfed6_row54_col0\" class=\"data row54 col0\" >0.0</td>\n",
              "    </tr>\n",
              "    <tr>\n",
              "      <th id=\"T_dfed6_level0_row55\" class=\"row_heading level0 row55\" >primary_cleaner.state.floatbank8_b_level</th>\n",
              "      <td id=\"T_dfed6_row55_col0\" class=\"data row55 col0\" >0.0</td>\n",
              "    </tr>\n",
              "    <tr>\n",
              "      <th id=\"T_dfed6_level0_row56\" class=\"row_heading level0 row56\" >primary_cleaner.state.floatbank8_a_level</th>\n",
              "      <td id=\"T_dfed6_row56_col0\" class=\"data row56 col0\" >0.0</td>\n",
              "    </tr>\n",
              "    <tr>\n",
              "      <th id=\"T_dfed6_level0_row57\" class=\"row_heading level0 row57\" >primary_cleaner.output.tail_ag</th>\n",
              "      <td id=\"T_dfed6_row57_col0\" class=\"data row57 col0\" >0.0</td>\n",
              "    </tr>\n",
              "    <tr>\n",
              "      <th id=\"T_dfed6_level0_row58\" class=\"row_heading level0 row58\" >final.output.concentrate_ag</th>\n",
              "      <td id=\"T_dfed6_row58_col0\" class=\"data row58 col0\" >0.0</td>\n",
              "    </tr>\n",
              "    <tr>\n",
              "      <th id=\"T_dfed6_level0_row59\" class=\"row_heading level0 row59\" >rougher.calculation.sulfate_to_au_concentrate</th>\n",
              "      <td id=\"T_dfed6_row59_col0\" class=\"data row59 col0\" >0.0</td>\n",
              "    </tr>\n",
              "    <tr>\n",
              "      <th id=\"T_dfed6_level0_row60\" class=\"row_heading level0 row60\" >rougher.output.tail_ag</th>\n",
              "      <td id=\"T_dfed6_row60_col0\" class=\"data row60 col0\" >0.0</td>\n",
              "    </tr>\n",
              "    <tr>\n",
              "      <th id=\"T_dfed6_level0_row61\" class=\"row_heading level0 row61\" >final.output.concentrate_pb</th>\n",
              "      <td id=\"T_dfed6_row61_col0\" class=\"data row61 col0\" >0.0</td>\n",
              "    </tr>\n",
              "    <tr>\n",
              "      <th id=\"T_dfed6_level0_row62\" class=\"row_heading level0 row62\" >primary_cleaner.input.feed_size</th>\n",
              "      <td id=\"T_dfed6_row62_col0\" class=\"data row62 col0\" >0.0</td>\n",
              "    </tr>\n",
              "    <tr>\n",
              "      <th id=\"T_dfed6_level0_row63\" class=\"row_heading level0 row63\" >final.output.tail_au</th>\n",
              "      <td id=\"T_dfed6_row63_col0\" class=\"data row63 col0\" >0.0</td>\n",
              "    </tr>\n",
              "    <tr>\n",
              "      <th id=\"T_dfed6_level0_row64\" class=\"row_heading level0 row64\" >primary_cleaner.output.concentrate_au</th>\n",
              "      <td id=\"T_dfed6_row64_col0\" class=\"data row64 col0\" >0.0</td>\n",
              "    </tr>\n",
              "    <tr>\n",
              "      <th id=\"T_dfed6_level0_row65\" class=\"row_heading level0 row65\" >final.output.tail_ag</th>\n",
              "      <td id=\"T_dfed6_row65_col0\" class=\"data row65 col0\" >0.0</td>\n",
              "    </tr>\n",
              "    <tr>\n",
              "      <th id=\"T_dfed6_level0_row66\" class=\"row_heading level0 row66\" >primary_cleaner.output.tail_au</th>\n",
              "      <td id=\"T_dfed6_row66_col0\" class=\"data row66 col0\" >0.0</td>\n",
              "    </tr>\n",
              "    <tr>\n",
              "      <th id=\"T_dfed6_level0_row67\" class=\"row_heading level0 row67\" >final.output.recovery</th>\n",
              "      <td id=\"T_dfed6_row67_col0\" class=\"data row67 col0\" >0.0</td>\n",
              "    </tr>\n",
              "    <tr>\n",
              "      <th id=\"T_dfed6_level0_row68\" class=\"row_heading level0 row68\" >final.output.concentrate_au</th>\n",
              "      <td id=\"T_dfed6_row68_col0\" class=\"data row68 col0\" >0.0</td>\n",
              "    </tr>\n",
              "    <tr>\n",
              "      <th id=\"T_dfed6_level0_row69\" class=\"row_heading level0 row69\" >primary_cleaner.output.concentrate_ag</th>\n",
              "      <td id=\"T_dfed6_row69_col0\" class=\"data row69 col0\" >0.0</td>\n",
              "    </tr>\n",
              "    <tr>\n",
              "      <th id=\"T_dfed6_level0_row70\" class=\"row_heading level0 row70\" >rougher.output.tail_sol</th>\n",
              "      <td id=\"T_dfed6_row70_col0\" class=\"data row70 col0\" >0.0</td>\n",
              "    </tr>\n",
              "    <tr>\n",
              "      <th id=\"T_dfed6_level0_row71\" class=\"row_heading level0 row71\" >rougher.output.tail_au</th>\n",
              "      <td id=\"T_dfed6_row71_col0\" class=\"data row71 col0\" >0.0</td>\n",
              "    </tr>\n",
              "    <tr>\n",
              "      <th id=\"T_dfed6_level0_row72\" class=\"row_heading level0 row72\" >secondary_cleaner.output.tail_au</th>\n",
              "      <td id=\"T_dfed6_row72_col0\" class=\"data row72 col0\" >0.0</td>\n",
              "    </tr>\n",
              "    <tr>\n",
              "      <th id=\"T_dfed6_level0_row73\" class=\"row_heading level0 row73\" >rougher.calculation.au_pb_ratio</th>\n",
              "      <td id=\"T_dfed6_row73_col0\" class=\"data row73 col0\" >0.0</td>\n",
              "    </tr>\n",
              "    <tr>\n",
              "      <th id=\"T_dfed6_level0_row74\" class=\"row_heading level0 row74\" >rougher.input.feed_ag</th>\n",
              "      <td id=\"T_dfed6_row74_col0\" class=\"data row74 col0\" >0.0</td>\n",
              "    </tr>\n",
              "    <tr>\n",
              "      <th id=\"T_dfed6_level0_row75\" class=\"row_heading level0 row75\" >rougher.input.feed_au</th>\n",
              "      <td id=\"T_dfed6_row75_col0\" class=\"data row75 col0\" >0.0</td>\n",
              "    </tr>\n",
              "    <tr>\n",
              "      <th id=\"T_dfed6_level0_row76\" class=\"row_heading level0 row76\" >rougher.state.floatbank10_f_level</th>\n",
              "      <td id=\"T_dfed6_row76_col0\" class=\"data row76 col0\" >0.0</td>\n",
              "    </tr>\n",
              "    <tr>\n",
              "      <th id=\"T_dfed6_level0_row77\" class=\"row_heading level0 row77\" >rougher.state.floatbank10_f_air</th>\n",
              "      <td id=\"T_dfed6_row77_col0\" class=\"data row77 col0\" >0.0</td>\n",
              "    </tr>\n",
              "    <tr>\n",
              "      <th id=\"T_dfed6_level0_row78\" class=\"row_heading level0 row78\" >rougher.state.floatbank10_e_level</th>\n",
              "      <td id=\"T_dfed6_row78_col0\" class=\"data row78 col0\" >0.0</td>\n",
              "    </tr>\n",
              "    <tr>\n",
              "      <th id=\"T_dfed6_level0_row79\" class=\"row_heading level0 row79\" >rougher.state.floatbank10_d_level</th>\n",
              "      <td id=\"T_dfed6_row79_col0\" class=\"data row79 col0\" >0.0</td>\n",
              "    </tr>\n",
              "    <tr>\n",
              "      <th id=\"T_dfed6_level0_row80\" class=\"row_heading level0 row80\" >rougher.state.floatbank10_d_air</th>\n",
              "      <td id=\"T_dfed6_row80_col0\" class=\"data row80 col0\" >0.0</td>\n",
              "    </tr>\n",
              "    <tr>\n",
              "      <th id=\"T_dfed6_level0_row81\" class=\"row_heading level0 row81\" >rougher.output.concentrate_ag</th>\n",
              "      <td id=\"T_dfed6_row81_col0\" class=\"data row81 col0\" >0.0</td>\n",
              "    </tr>\n",
              "    <tr>\n",
              "      <th id=\"T_dfed6_level0_row82\" class=\"row_heading level0 row82\" >rougher.output.concentrate_pb</th>\n",
              "      <td id=\"T_dfed6_row82_col0\" class=\"data row82 col0\" >0.0</td>\n",
              "    </tr>\n",
              "    <tr>\n",
              "      <th id=\"T_dfed6_level0_row83\" class=\"row_heading level0 row83\" >rougher.output.concentrate_au</th>\n",
              "      <td id=\"T_dfed6_row83_col0\" class=\"data row83 col0\" >0.0</td>\n",
              "    </tr>\n",
              "    <tr>\n",
              "      <th id=\"T_dfed6_level0_row84\" class=\"row_heading level0 row84\" >rougher.output.recovery</th>\n",
              "      <td id=\"T_dfed6_row84_col0\" class=\"data row84 col0\" >0.0</td>\n",
              "    </tr>\n",
              "    <tr>\n",
              "      <th id=\"T_dfed6_level0_row85\" class=\"row_heading level0 row85\" >rougher.output.tail_pb</th>\n",
              "      <td id=\"T_dfed6_row85_col0\" class=\"data row85 col0\" >0.0</td>\n",
              "    </tr>\n",
              "    <tr>\n",
              "      <th id=\"T_dfed6_level0_row86\" class=\"row_heading level0 row86\" >date</th>\n",
              "      <td id=\"T_dfed6_row86_col0\" class=\"data row86 col0\" >0.0</td>\n",
              "    </tr>\n",
              "  </tbody>\n",
              "</table>\n"
            ]
          },
          "metadata": {},
          "execution_count": 23
        }
      ],
      "source": [
        "isna_view(df_train)"
      ]
    },
    {
      "cell_type": "code",
      "execution_count": 24,
      "metadata": {
        "scrolled": true,
        "colab": {
          "base_uri": "https://localhost:8080/",
          "height": 1000
        },
        "id": "KIgmM88AIkVw",
        "outputId": "e39b0b90-eb97-4790-ce6c-494ba867d8b0"
      },
      "outputs": [
        {
          "output_type": "execute_result",
          "data": {
            "text/plain": [
              "<pandas.io.formats.style.Styler at 0x7f2d62bafb90>"
            ],
            "text/html": [
              "<style type=\"text/css\">\n",
              "#T_1d86f_row0_col0 {\n",
              "  background-color: #b40426;\n",
              "  color: #f1f1f1;\n",
              "}\n",
              "#T_1d86f_row1_col0 {\n",
              "  background-color: #e57058;\n",
              "  color: #f1f1f1;\n",
              "}\n",
              "#T_1d86f_row2_col0 {\n",
              "  background-color: #b3cdfb;\n",
              "  color: #000000;\n",
              "}\n",
              "#T_1d86f_row3_col0 {\n",
              "  background-color: #a5c3fe;\n",
              "  color: #000000;\n",
              "}\n",
              "#T_1d86f_row4_col0, #T_1d86f_row5_col0 {\n",
              "  background-color: #7b9ff9;\n",
              "  color: #f1f1f1;\n",
              "}\n",
              "#T_1d86f_row6_col0, #T_1d86f_row7_col0 {\n",
              "  background-color: #6c8ff1;\n",
              "  color: #f1f1f1;\n",
              "}\n",
              "#T_1d86f_row8_col0, #T_1d86f_row9_col0 {\n",
              "  background-color: #5f7fe8;\n",
              "  color: #f1f1f1;\n",
              "}\n",
              "#T_1d86f_row10_col0 {\n",
              "  background-color: #536edd;\n",
              "  color: #f1f1f1;\n",
              "}\n",
              "#T_1d86f_row11_col0 {\n",
              "  background-color: #465ecf;\n",
              "  color: #f1f1f1;\n",
              "}\n",
              "#T_1d86f_row12_col0, #T_1d86f_row13_col0, #T_1d86f_row14_col0, #T_1d86f_row15_col0, #T_1d86f_row16_col0, #T_1d86f_row17_col0, #T_1d86f_row18_col0, #T_1d86f_row19_col0, #T_1d86f_row20_col0, #T_1d86f_row21_col0, #T_1d86f_row22_col0, #T_1d86f_row23_col0, #T_1d86f_row24_col0, #T_1d86f_row25_col0, #T_1d86f_row26_col0, #T_1d86f_row27_col0, #T_1d86f_row28_col0, #T_1d86f_row29_col0, #T_1d86f_row30_col0, #T_1d86f_row31_col0, #T_1d86f_row32_col0, #T_1d86f_row33_col0, #T_1d86f_row34_col0, #T_1d86f_row35_col0, #T_1d86f_row36_col0, #T_1d86f_row37_col0, #T_1d86f_row38_col0, #T_1d86f_row39_col0, #T_1d86f_row40_col0, #T_1d86f_row41_col0, #T_1d86f_row42_col0, #T_1d86f_row43_col0, #T_1d86f_row44_col0, #T_1d86f_row45_col0, #T_1d86f_row46_col0, #T_1d86f_row47_col0, #T_1d86f_row48_col0, #T_1d86f_row49_col0, #T_1d86f_row50_col0, #T_1d86f_row51_col0, #T_1d86f_row52_col0 {\n",
              "  background-color: #3b4cc0;\n",
              "  color: #f1f1f1;\n",
              "}\n",
              "</style>\n",
              "<table id=\"T_1d86f_\" class=\"dataframe\">\n",
              "  <thead>\n",
              "    <tr>\n",
              "      <th class=\"blank level0\" >&nbsp;</th>\n",
              "      <th class=\"col_heading level0 col0\" >percent_space</th>\n",
              "    </tr>\n",
              "  </thead>\n",
              "  <tbody>\n",
              "    <tr>\n",
              "      <th id=\"T_1d86f_level0_row0\" class=\"row_heading level0 row0\" >rougher.input.floatbank11_xanthate</th>\n",
              "      <td id=\"T_1d86f_row0_col0\" class=\"data row0 col0\" >0.5</td>\n",
              "    </tr>\n",
              "    <tr>\n",
              "      <th id=\"T_1d86f_level0_row1\" class=\"row_heading level0 row1\" >rougher.input.feed_sol</th>\n",
              "      <td id=\"T_1d86f_row1_col0\" class=\"data row1 col0\" >0.4</td>\n",
              "    </tr>\n",
              "    <tr>\n",
              "      <th id=\"T_1d86f_level0_row2\" class=\"row_heading level0 row2\" >secondary_cleaner.state.floatbank3_a_air</th>\n",
              "      <td id=\"T_1d86f_row2_col0\" class=\"data row2 col0\" >0.2</td>\n",
              "    </tr>\n",
              "    <tr>\n",
              "      <th id=\"T_1d86f_level0_row3\" class=\"row_heading level0 row3\" >rougher.input.floatbank11_sulfate</th>\n",
              "      <td id=\"T_1d86f_row3_col0\" class=\"data row3 col0\" >0.2</td>\n",
              "    </tr>\n",
              "    <tr>\n",
              "      <th id=\"T_1d86f_level0_row4\" class=\"row_heading level0 row4\" >primary_cleaner.input.depressant</th>\n",
              "      <td id=\"T_1d86f_row4_col0\" class=\"data row4 col0\" >0.1</td>\n",
              "    </tr>\n",
              "    <tr>\n",
              "      <th id=\"T_1d86f_level0_row5\" class=\"row_heading level0 row5\" >rougher.input.floatbank10_sulfate</th>\n",
              "      <td id=\"T_1d86f_row5_col0\" class=\"data row5 col0\" >0.1</td>\n",
              "    </tr>\n",
              "    <tr>\n",
              "      <th id=\"T_1d86f_level0_row6\" class=\"row_heading level0 row6\" >primary_cleaner.input.xanthate</th>\n",
              "      <td id=\"T_1d86f_row6_col0\" class=\"data row6 col0\" >0.1</td>\n",
              "    </tr>\n",
              "    <tr>\n",
              "      <th id=\"T_1d86f_level0_row7\" class=\"row_heading level0 row7\" >primary_cleaner.input.sulfate</th>\n",
              "      <td id=\"T_1d86f_row7_col0\" class=\"data row7 col0\" >0.1</td>\n",
              "    </tr>\n",
              "    <tr>\n",
              "      <th id=\"T_1d86f_level0_row8\" class=\"row_heading level0 row8\" >rougher.input.feed_rate</th>\n",
              "      <td id=\"T_1d86f_row8_col0\" class=\"data row8 col0\" >0.1</td>\n",
              "    </tr>\n",
              "    <tr>\n",
              "      <th id=\"T_1d86f_level0_row9\" class=\"row_heading level0 row9\" >secondary_cleaner.state.floatbank2_a_air</th>\n",
              "      <td id=\"T_1d86f_row9_col0\" class=\"data row9 col0\" >0.1</td>\n",
              "    </tr>\n",
              "    <tr>\n",
              "      <th id=\"T_1d86f_level0_row10\" class=\"row_heading level0 row10\" >secondary_cleaner.state.floatbank2_b_air</th>\n",
              "      <td id=\"T_1d86f_row10_col0\" class=\"data row10 col0\" >0.0</td>\n",
              "    </tr>\n",
              "    <tr>\n",
              "      <th id=\"T_1d86f_level0_row11\" class=\"row_heading level0 row11\" >rougher.input.feed_size</th>\n",
              "      <td id=\"T_1d86f_row11_col0\" class=\"data row11 col0\" >0.0</td>\n",
              "    </tr>\n",
              "    <tr>\n",
              "      <th id=\"T_1d86f_level0_row12\" class=\"row_heading level0 row12\" >secondary_cleaner.state.floatbank2_b_level</th>\n",
              "      <td id=\"T_1d86f_row12_col0\" class=\"data row12 col0\" >0.0</td>\n",
              "    </tr>\n",
              "    <tr>\n",
              "      <th id=\"T_1d86f_level0_row13\" class=\"row_heading level0 row13\" >rougher.state.floatbank10_f_level</th>\n",
              "      <td id=\"T_1d86f_row13_col0\" class=\"data row13 col0\" >0.0</td>\n",
              "    </tr>\n",
              "    <tr>\n",
              "      <th id=\"T_1d86f_level0_row14\" class=\"row_heading level0 row14\" >rougher.state.floatbank10_f_air</th>\n",
              "      <td id=\"T_1d86f_row14_col0\" class=\"data row14 col0\" >0.0</td>\n",
              "    </tr>\n",
              "    <tr>\n",
              "      <th id=\"T_1d86f_level0_row15\" class=\"row_heading level0 row15\" >secondary_cleaner.state.floatbank3_a_level</th>\n",
              "      <td id=\"T_1d86f_row15_col0\" class=\"data row15 col0\" >0.0</td>\n",
              "    </tr>\n",
              "    <tr>\n",
              "      <th id=\"T_1d86f_level0_row16\" class=\"row_heading level0 row16\" >secondary_cleaner.state.floatbank2_a_level</th>\n",
              "      <td id=\"T_1d86f_row16_col0\" class=\"data row16 col0\" >0.0</td>\n",
              "    </tr>\n",
              "    <tr>\n",
              "      <th id=\"T_1d86f_level0_row17\" class=\"row_heading level0 row17\" >date</th>\n",
              "      <td id=\"T_1d86f_row17_col0\" class=\"data row17 col0\" >0.0</td>\n",
              "    </tr>\n",
              "    <tr>\n",
              "      <th id=\"T_1d86f_level0_row18\" class=\"row_heading level0 row18\" >rougher.state.floatbank10_e_air</th>\n",
              "      <td id=\"T_1d86f_row18_col0\" class=\"data row18 col0\" >0.0</td>\n",
              "    </tr>\n",
              "    <tr>\n",
              "      <th id=\"T_1d86f_level0_row19\" class=\"row_heading level0 row19\" >secondary_cleaner.state.floatbank3_b_air</th>\n",
              "      <td id=\"T_1d86f_row19_col0\" class=\"data row19 col0\" >0.0</td>\n",
              "    </tr>\n",
              "    <tr>\n",
              "      <th id=\"T_1d86f_level0_row20\" class=\"row_heading level0 row20\" >secondary_cleaner.state.floatbank3_b_level</th>\n",
              "      <td id=\"T_1d86f_row20_col0\" class=\"data row20 col0\" >0.0</td>\n",
              "    </tr>\n",
              "    <tr>\n",
              "      <th id=\"T_1d86f_level0_row21\" class=\"row_heading level0 row21\" >secondary_cleaner.state.floatbank4_a_air</th>\n",
              "      <td id=\"T_1d86f_row21_col0\" class=\"data row21 col0\" >0.0</td>\n",
              "    </tr>\n",
              "    <tr>\n",
              "      <th id=\"T_1d86f_level0_row22\" class=\"row_heading level0 row22\" >secondary_cleaner.state.floatbank4_a_level</th>\n",
              "      <td id=\"T_1d86f_row22_col0\" class=\"data row22 col0\" >0.0</td>\n",
              "    </tr>\n",
              "    <tr>\n",
              "      <th id=\"T_1d86f_level0_row23\" class=\"row_heading level0 row23\" >secondary_cleaner.state.floatbank4_b_air</th>\n",
              "      <td id=\"T_1d86f_row23_col0\" class=\"data row23 col0\" >0.0</td>\n",
              "    </tr>\n",
              "    <tr>\n",
              "      <th id=\"T_1d86f_level0_row24\" class=\"row_heading level0 row24\" >secondary_cleaner.state.floatbank4_b_level</th>\n",
              "      <td id=\"T_1d86f_row24_col0\" class=\"data row24 col0\" >0.0</td>\n",
              "    </tr>\n",
              "    <tr>\n",
              "      <th id=\"T_1d86f_level0_row25\" class=\"row_heading level0 row25\" >secondary_cleaner.state.floatbank5_a_air</th>\n",
              "      <td id=\"T_1d86f_row25_col0\" class=\"data row25 col0\" >0.0</td>\n",
              "    </tr>\n",
              "    <tr>\n",
              "      <th id=\"T_1d86f_level0_row26\" class=\"row_heading level0 row26\" >secondary_cleaner.state.floatbank5_a_level</th>\n",
              "      <td id=\"T_1d86f_row26_col0\" class=\"data row26 col0\" >0.0</td>\n",
              "    </tr>\n",
              "    <tr>\n",
              "      <th id=\"T_1d86f_level0_row27\" class=\"row_heading level0 row27\" >secondary_cleaner.state.floatbank5_b_air</th>\n",
              "      <td id=\"T_1d86f_row27_col0\" class=\"data row27 col0\" >0.0</td>\n",
              "    </tr>\n",
              "    <tr>\n",
              "      <th id=\"T_1d86f_level0_row28\" class=\"row_heading level0 row28\" >secondary_cleaner.state.floatbank5_b_level</th>\n",
              "      <td id=\"T_1d86f_row28_col0\" class=\"data row28 col0\" >0.0</td>\n",
              "    </tr>\n",
              "    <tr>\n",
              "      <th id=\"T_1d86f_level0_row29\" class=\"row_heading level0 row29\" >secondary_cleaner.state.floatbank6_a_air</th>\n",
              "      <td id=\"T_1d86f_row29_col0\" class=\"data row29 col0\" >0.0</td>\n",
              "    </tr>\n",
              "    <tr>\n",
              "      <th id=\"T_1d86f_level0_row30\" class=\"row_heading level0 row30\" >rougher.state.floatbank10_e_level</th>\n",
              "      <td id=\"T_1d86f_row30_col0\" class=\"data row30 col0\" >0.0</td>\n",
              "    </tr>\n",
              "    <tr>\n",
              "      <th id=\"T_1d86f_level0_row31\" class=\"row_heading level0 row31\" >rougher.state.floatbank10_b_level</th>\n",
              "      <td id=\"T_1d86f_row31_col0\" class=\"data row31 col0\" >0.0</td>\n",
              "    </tr>\n",
              "    <tr>\n",
              "      <th id=\"T_1d86f_level0_row32\" class=\"row_heading level0 row32\" >rougher.state.floatbank10_d_level</th>\n",
              "      <td id=\"T_1d86f_row32_col0\" class=\"data row32 col0\" >0.0</td>\n",
              "    </tr>\n",
              "    <tr>\n",
              "      <th id=\"T_1d86f_level0_row33\" class=\"row_heading level0 row33\" >primary_cleaner.state.floatbank8_d_level</th>\n",
              "      <td id=\"T_1d86f_row33_col0\" class=\"data row33 col0\" >0.0</td>\n",
              "    </tr>\n",
              "    <tr>\n",
              "      <th id=\"T_1d86f_level0_row34\" class=\"row_heading level0 row34\" >primary_cleaner.input.feed_size</th>\n",
              "      <td id=\"T_1d86f_row34_col0\" class=\"data row34 col0\" >0.0</td>\n",
              "    </tr>\n",
              "    <tr>\n",
              "      <th id=\"T_1d86f_level0_row35\" class=\"row_heading level0 row35\" >primary_cleaner.state.floatbank8_a_air</th>\n",
              "      <td id=\"T_1d86f_row35_col0\" class=\"data row35 col0\" >0.0</td>\n",
              "    </tr>\n",
              "    <tr>\n",
              "      <th id=\"T_1d86f_level0_row36\" class=\"row_heading level0 row36\" >primary_cleaner.state.floatbank8_a_level</th>\n",
              "      <td id=\"T_1d86f_row36_col0\" class=\"data row36 col0\" >0.0</td>\n",
              "    </tr>\n",
              "    <tr>\n",
              "      <th id=\"T_1d86f_level0_row37\" class=\"row_heading level0 row37\" >primary_cleaner.state.floatbank8_b_air</th>\n",
              "      <td id=\"T_1d86f_row37_col0\" class=\"data row37 col0\" >0.0</td>\n",
              "    </tr>\n",
              "    <tr>\n",
              "      <th id=\"T_1d86f_level0_row38\" class=\"row_heading level0 row38\" >primary_cleaner.state.floatbank8_b_level</th>\n",
              "      <td id=\"T_1d86f_row38_col0\" class=\"data row38 col0\" >0.0</td>\n",
              "    </tr>\n",
              "    <tr>\n",
              "      <th id=\"T_1d86f_level0_row39\" class=\"row_heading level0 row39\" >primary_cleaner.state.floatbank8_c_air</th>\n",
              "      <td id=\"T_1d86f_row39_col0\" class=\"data row39 col0\" >0.0</td>\n",
              "    </tr>\n",
              "    <tr>\n",
              "      <th id=\"T_1d86f_level0_row40\" class=\"row_heading level0 row40\" >primary_cleaner.state.floatbank8_c_level</th>\n",
              "      <td id=\"T_1d86f_row40_col0\" class=\"data row40 col0\" >0.0</td>\n",
              "    </tr>\n",
              "    <tr>\n",
              "      <th id=\"T_1d86f_level0_row41\" class=\"row_heading level0 row41\" >primary_cleaner.state.floatbank8_d_air</th>\n",
              "      <td id=\"T_1d86f_row41_col0\" class=\"data row41 col0\" >0.0</td>\n",
              "    </tr>\n",
              "    <tr>\n",
              "      <th id=\"T_1d86f_level0_row42\" class=\"row_heading level0 row42\" >rougher.input.feed_ag</th>\n",
              "      <td id=\"T_1d86f_row42_col0\" class=\"data row42 col0\" >0.0</td>\n",
              "    </tr>\n",
              "    <tr>\n",
              "      <th id=\"T_1d86f_level0_row43\" class=\"row_heading level0 row43\" >rougher.state.floatbank10_d_air</th>\n",
              "      <td id=\"T_1d86f_row43_col0\" class=\"data row43 col0\" >0.0</td>\n",
              "    </tr>\n",
              "    <tr>\n",
              "      <th id=\"T_1d86f_level0_row44\" class=\"row_heading level0 row44\" >rougher.input.feed_pb</th>\n",
              "      <td id=\"T_1d86f_row44_col0\" class=\"data row44 col0\" >0.0</td>\n",
              "    </tr>\n",
              "    <tr>\n",
              "      <th id=\"T_1d86f_level0_row45\" class=\"row_heading level0 row45\" >rougher.input.feed_au</th>\n",
              "      <td id=\"T_1d86f_row45_col0\" class=\"data row45 col0\" >0.0</td>\n",
              "    </tr>\n",
              "    <tr>\n",
              "      <th id=\"T_1d86f_level0_row46\" class=\"row_heading level0 row46\" >rougher.input.floatbank10_xanthate</th>\n",
              "      <td id=\"T_1d86f_row46_col0\" class=\"data row46 col0\" >0.0</td>\n",
              "    </tr>\n",
              "    <tr>\n",
              "      <th id=\"T_1d86f_level0_row47\" class=\"row_heading level0 row47\" >rougher.state.floatbank10_a_air</th>\n",
              "      <td id=\"T_1d86f_row47_col0\" class=\"data row47 col0\" >0.0</td>\n",
              "    </tr>\n",
              "    <tr>\n",
              "      <th id=\"T_1d86f_level0_row48\" class=\"row_heading level0 row48\" >rougher.state.floatbank10_a_level</th>\n",
              "      <td id=\"T_1d86f_row48_col0\" class=\"data row48 col0\" >0.0</td>\n",
              "    </tr>\n",
              "    <tr>\n",
              "      <th id=\"T_1d86f_level0_row49\" class=\"row_heading level0 row49\" >rougher.state.floatbank10_b_air</th>\n",
              "      <td id=\"T_1d86f_row49_col0\" class=\"data row49 col0\" >0.0</td>\n",
              "    </tr>\n",
              "    <tr>\n",
              "      <th id=\"T_1d86f_level0_row50\" class=\"row_heading level0 row50\" >rougher.state.floatbank10_c_air</th>\n",
              "      <td id=\"T_1d86f_row50_col0\" class=\"data row50 col0\" >0.0</td>\n",
              "    </tr>\n",
              "    <tr>\n",
              "      <th id=\"T_1d86f_level0_row51\" class=\"row_heading level0 row51\" >rougher.state.floatbank10_c_level</th>\n",
              "      <td id=\"T_1d86f_row51_col0\" class=\"data row51 col0\" >0.0</td>\n",
              "    </tr>\n",
              "    <tr>\n",
              "      <th id=\"T_1d86f_level0_row52\" class=\"row_heading level0 row52\" >secondary_cleaner.state.floatbank6_a_level</th>\n",
              "      <td id=\"T_1d86f_row52_col0\" class=\"data row52 col0\" >0.0</td>\n",
              "    </tr>\n",
              "  </tbody>\n",
              "</table>\n"
            ]
          },
          "metadata": {},
          "execution_count": 24
        }
      ],
      "source": [
        "isna_view(df_test)"
      ]
    },
    {
      "cell_type": "markdown",
      "metadata": {
        "id": "gtmDuZl3IkVw"
      },
      "source": [
        "Заменим пропуски значениями вышестоящей строки\n"
      ]
    },
    {
      "cell_type": "code",
      "execution_count": 25,
      "metadata": {
        "id": "w1mSNNvfIkVx"
      },
      "outputs": [],
      "source": [
        "df_train = df_train.ffill(axis = 0)\n",
        "df_test = df_test.ffill(axis = 0)"
      ]
    },
    {
      "cell_type": "markdown",
      "metadata": {
        "id": "IBWmZ9sxIkVx"
      },
      "source": [
        "Так как для первой строки нет вышестоящей и пропуск останется, а также строк, где пропуски идут несколько строк подряд применим заполнение медианой"
      ]
    },
    {
      "cell_type": "code",
      "execution_count": 26,
      "metadata": {
        "colab": {
          "base_uri": "https://localhost:8080/"
        },
        "id": "xyfDS-7uIkVx",
        "outputId": "10c78680-3c8c-43c5-dfcc-34fed6bcad16"
      },
      "outputs": [
        {
          "output_type": "stream",
          "name": "stderr",
          "text": [
            "/usr/local/lib/python3.7/dist-packages/ipykernel_launcher.py:1: FutureWarning: Dropping of nuisance columns in DataFrame reductions (with 'numeric_only=None') is deprecated; in a future version this will raise TypeError.  Select only valid columns before calling the reduction.\n",
            "  \"\"\"Entry point for launching an IPython kernel.\n",
            "/usr/local/lib/python3.7/dist-packages/ipykernel_launcher.py:2: FutureWarning: Dropping of nuisance columns in DataFrame reductions (with 'numeric_only=None') is deprecated; in a future version this will raise TypeError.  Select only valid columns before calling the reduction.\n",
            "  \n"
          ]
        }
      ],
      "source": [
        "df_train = df_train.fillna(df_train.median())\n",
        "df_test = df_test.fillna(df_test.median())"
      ]
    },
    {
      "cell_type": "markdown",
      "metadata": {
        "id": "PXf-QQ24IkV6"
      },
      "source": [
        "## Анализ данных"
      ]
    },
    {
      "cell_type": "markdown",
      "metadata": {
        "id": "cMJFxxESIkV6"
      },
      "source": [
        "### Концентрация Au,  Ag, Pb"
      ]
    },
    {
      "cell_type": "markdown",
      "metadata": {
        "id": "p76TidxkIkV6"
      },
      "source": [
        "Рассмотрим, как меняется концентрация металлов (Au, Ag, Pb) на различных этапах очистки"
      ]
    },
    {
      "cell_type": "markdown",
      "metadata": {
        "id": "PAgwCSeFIkV7"
      },
      "source": [
        "Рассматриваются этапы rougher.input, rougher.output, primary.cleaner.output, final.output"
      ]
    },
    {
      "cell_type": "markdown",
      "metadata": {
        "id": "aeVZJC6VIkV7"
      },
      "source": [
        "#### Золото"
      ]
    },
    {
      "cell_type": "code",
      "execution_count": 27,
      "metadata": {
        "scrolled": true,
        "colab": {
          "base_uri": "https://localhost:8080/",
          "height": 458
        },
        "id": "pSaAl0v-IkV7",
        "outputId": "400c7f6a-5bba-4899-b93d-4ed88f35a90d"
      },
      "outputs": [
        {
          "output_type": "display_data",
          "data": {
            "text/plain": [
              "<Figure size 864x504 with 1 Axes>"
            ],
            "image/png": "[encoded data removed]"
          },
          "metadata": {
            "needs_background": "light"
          }
        }
      ],
      "source": [
        "plt.figure(figsize=[12,7])\n",
        "\n",
        "plt.hist(df_train['rougher.input.feed_pb'], bins=90, label = 'Начальный этап', alpha=.5)\n",
        "plt.hist(df_train['rougher.output.concentrate_au'], bins=90, label = 'Флотация', alpha=.5)\n",
        "plt.hist(df_train['primary_cleaner.output.concentrate_au'], bins=90, label = 'Первичная очистка', alpha=.5)\n",
        "plt.hist(df_train['final.output.concentrate_au'], bins=90, label = 'Финальный этап', alpha=.5)\n",
        "\n",
        "plt.xlim([0, 55])\n",
        "plt.ylim([0, 1270])\n",
        "\n",
        "plt.xlabel(\"Концентрация золота на выходе\")\n",
        "plt.ylabel(\"Количество строк\")\n",
        "\n",
        "plt.legend(loc='upper left')\n",
        "\n",
        "plt.title(\"Гистограмма распределения концентрации золота\")\n",
        "plt.show()"
      ]
    },
    {
      "cell_type": "markdown",
      "metadata": {
        "id": "wqf9uiyYIkV8"
      },
      "source": [
        "**Можно сделать вывод, что концентрация золота с каждым этапом обработки увеличивается**"
      ]
    },
    {
      "cell_type": "markdown",
      "metadata": {
        "id": "mgRI5uqcIkV8"
      },
      "source": [
        "#### Серебро"
      ]
    },
    {
      "cell_type": "code",
      "execution_count": 28,
      "metadata": {
        "scrolled": true,
        "colab": {
          "base_uri": "https://localhost:8080/",
          "height": 459
        },
        "id": "Wp4i-U7-IkV8",
        "outputId": "4cc27c14-b304-42d0-f63d-4b27b9ca9b74"
      },
      "outputs": [
        {
          "output_type": "display_data",
          "data": {
            "text/plain": [
              "<Figure size 864x504 with 1 Axes>"
            ],
            "image/png": "[encoded data removed]"
          },
          "metadata": {
            "needs_background": "light"
          }
        }
      ],
      "source": [
        "plt.figure(figsize=[12,7])\n",
        "\n",
        "plt.hist(df_train['rougher.input.feed_pb'], bins=90, label = 'Начальный этап', alpha=.5)\n",
        "plt.hist(df_train['rougher.output.concentrate_ag'], bins=90, label = 'Флотация', alpha=.5)\n",
        "plt.hist(df_train['primary_cleaner.output.concentrate_ag'], bins=90, label = 'Первичная очистка', alpha=.5)\n",
        "plt.hist(df_train['final.output.concentrate_ag'], bins=90, label = 'Финальный этап', alpha=.5)\n",
        "\n",
        "plt.xlim([0, 25])\n",
        "plt.ylim([0, 800])\n",
        "\n",
        "plt.xlabel(\"Концентрация серебра\")\n",
        "plt.ylabel(\"Количество строк\")\n",
        "\n",
        "plt.legend(loc='upper left')\n",
        "\n",
        "plt.title(\"Гистограмма распределения концентрации серебра\")\n",
        "plt.show()"
      ]
    },
    {
      "cell_type": "markdown",
      "metadata": {
        "id": "nhpGm1MmIkV9"
      },
      "source": [
        "**Количество серебра с каждым этапом становится все меньше, так как в этом цель очистки и флотации - повысить концентрацию золота**"
      ]
    },
    {
      "cell_type": "markdown",
      "metadata": {
        "id": "0mdQ3AYtIkV-"
      },
      "source": [
        "#### Свинец"
      ]
    },
    {
      "cell_type": "code",
      "execution_count": 29,
      "metadata": {
        "scrolled": true,
        "colab": {
          "base_uri": "https://localhost:8080/",
          "height": 458
        },
        "id": "rxbTa73HIkV-",
        "outputId": "ed036fe3-ac6a-4d34-c164-5260d3a4f6b9"
      },
      "outputs": [
        {
          "output_type": "display_data",
          "data": {
            "text/plain": [
              "<Figure size 864x504 with 1 Axes>"
            ],
            "image/png": "[encoded data removed]"
          },
          "metadata": {
            "needs_background": "light"
          }
        }
      ],
      "source": [
        "plt.figure(figsize=[12,7])\n",
        "\n",
        "plt.hist(df_train['rougher.input.feed_pb'], bins=90, label = 'Начальный этап', alpha=.5)\n",
        "plt.hist(df_train['rougher.output.concentrate_pb'], bins=90, label = 'Флотация', alpha=.5)\n",
        "plt.hist(df_train['primary_cleaner.output.concentrate_pb'], bins=90, label = 'Первичная очистка', alpha=.5)\n",
        "plt.hist(df_train['final.output.concentrate_pb'], bins=90, label = 'Финальный этап', alpha=.7)\n",
        "\n",
        "plt.xlim([0, 25])\n",
        "plt.ylim([0, 700])\n",
        "\n",
        "plt.xlabel(\"Концентрация свинца\")\n",
        "plt.ylabel(\"Количество строк\")\n",
        "\n",
        "plt.legend(loc='upper left')\n",
        "\n",
        "plt.title(\"Гистограмма распределения концентрации свинца\")\n",
        "plt.show()"
      ]
    },
    {
      "cell_type": "markdown",
      "metadata": {
        "id": "DjGiC7dfIkV_"
      },
      "source": [
        "**Концентрация свинца после первичной очистки увеличивается, затем немного уменьшается**"
      ]
    },
    {
      "cell_type": "markdown",
      "metadata": {
        "id": "lPhQ8_PNIkWA"
      },
      "source": [
        "Заметно, что существуют околонулевые значения концентрации - это явно ошибка оборудования или снятия измерений. Удалим такие значения"
      ]
    },
    {
      "cell_type": "code",
      "execution_count": 30,
      "metadata": {
        "id": "tRZMDOaBIkWA"
      },
      "outputs": [],
      "source": [
        "# Удалим нулевые (либо околонулевые) значения концентрация для:\n",
        "# Свинца\n",
        "df_train = df_train[df_train['rougher.input.feed_pb'] > 0]\n",
        "df_train = df_train[df_train['rougher.output.concentrate_pb'] > 0]\n",
        "df_train = df_train[df_train['primary_cleaner.output.concentrate_pb'] > 1]\n",
        "df_train = df_train[df_train['final.output.concentrate_pb'] > 0]\n",
        "\n",
        "# Золота\n",
        "df_train = df_train[df_train['rougher.input.feed_au'] > 0]\n",
        "df_train = df_train[df_train['rougher.output.concentrate_au'] > 0]\n",
        "df_train = df_train[df_train['primary_cleaner.output.concentrate_au'] > 1]\n",
        "df_train = df_train[df_train['final.output.concentrate_au'] > 0]\n",
        "\n",
        "# Серебра\n",
        "df_train = df_train[df_train['rougher.input.feed_ag'] > 0]\n",
        "df_train = df_train[df_train['rougher.output.concentrate_ag'] > 0]\n",
        "df_train = df_train[df_train['primary_cleaner.output.concentrate_ag'] > 1]\n",
        "df_train = df_train[df_train['final.output.concentrate_ag'] > 0]"
      ]
    },
    {
      "cell_type": "markdown",
      "metadata": {
        "id": "7tQUxNOeIkWA"
      },
      "source": [
        "### Распределение размеров гранул сырья"
      ]
    },
    {
      "cell_type": "code",
      "execution_count": 31,
      "metadata": {
        "scrolled": true,
        "colab": {
          "base_uri": "https://localhost:8080/",
          "height": 404
        },
        "id": "BA38wgFIIkWB",
        "outputId": "4c14d440-7761-43e9-86b2-ddc0e72432e7"
      },
      "outputs": [
        {
          "output_type": "display_data",
          "data": {
            "text/plain": [
              "<Figure size 1008x432 with 1 Axes>"
            ],
            "image/png": "[encoded data removed]"
          },
          "metadata": {
            "needs_background": "light"
          }
        }
      ],
      "source": [
        "plt.figure(figsize = (14,6))\n",
        "\n",
        "plt.hist(df_train['rougher.input.feed_size'], bins=90, \\\n",
        "         label='Размеры гранул сырья на train выборке', alpha=.5, density=True)\n",
        "plt.hist(df_test['rougher.input.feed_size'], bins=90, \\\n",
        "         label='Размеры гранул сырья на train выборке', alpha=.5, density=True)\n",
        "\n",
        "plt.xlabel('Размеры гранул сырья')\n",
        "plt.ylabel('Доля')\n",
        "plt.title('Гистограмма распределения размеров гранул сырья на обучающей и тестовой выборках')\n",
        "\n",
        "plt.xlim(0,200)\n",
        "plt.ylim(0,0.05)\n",
        "\n",
        "plt.legend(loc='upper right')\n",
        "\n",
        "plt.show()"
      ]
    },
    {
      "cell_type": "markdown",
      "metadata": {
        "id": "dtkQFZzfIkWB"
      },
      "source": [
        "**И на обучающей, и на тестовой выборке распределение похоже на нормальное, смещенное вправо**"
      ]
    },
    {
      "cell_type": "markdown",
      "metadata": {
        "id": "pCRi4U_8IkWD"
      },
      "source": [
        "### Суммарная концентрация на разных стадиях"
      ]
    },
    {
      "cell_type": "markdown",
      "metadata": {
        "id": "r9_Izf2jIkWD"
      },
      "source": [
        "Составим 3 датасета, в которые соберем концентрацию по всем веществам на каждом этапе обработки"
      ]
    },
    {
      "cell_type": "code",
      "execution_count": 32,
      "metadata": {
        "id": "isPk-PuwIkWD"
      },
      "outputs": [],
      "source": [
        "# Суммарная концентрация всех веществ в черновом концентрате\n",
        "sum_concentrate_rougher_output = df_train['rougher.output.concentrate_pb'] + \\\n",
        "    df_train['rougher.output.concentrate_au'] + \\\n",
        "    df_train['rougher.output.concentrate_ag'] + \\\n",
        "    df_train['rougher.output.concentrate_sol']\n",
        "    \n",
        "# Суммарная концентрация всех веществ в сырье\n",
        "sum_concentrate_rougher_input = df_train['rougher.input.feed_pb'] + \\\n",
        "    df_train['rougher.input.feed_au'] + \\\n",
        "    df_train['rougher.input.feed_ag'] + \\\n",
        "    df_train['rougher.input.feed_sol']\n",
        "    \n",
        "# Суммарная концентрация всех веществ на финальном этапе\n",
        "sum_concentrate_final_output = df_train['final.output.concentrate_pb'] + \\\n",
        "    df_train['final.output.concentrate_au'] + \\\n",
        "    df_train['final.output.concentrate_ag'] + \\\n",
        "    df_train['final.output.concentrate_sol']"
      ]
    },
    {
      "cell_type": "code",
      "execution_count": 33,
      "metadata": {
        "scrolled": true,
        "colab": {
          "base_uri": "https://localhost:8080/",
          "height": 404
        },
        "id": "2_Un89dSIkWF",
        "outputId": "979da229-7916-4bdf-ae52-7746796675fd"
      },
      "outputs": [
        {
          "output_type": "display_data",
          "data": {
            "text/plain": [
              "<Figure size 1008x432 with 1 Axes>"
            ],
            "image/png": "[encoded data removed]"
          },
          "metadata": {
            "needs_background": "light"
          }
        }
      ],
      "source": [
        "plt.figure(figsize = (14,6))\n",
        "\n",
        "plt.hist(sum_concentrate_rougher_output, bins = 90, label = 'Черновой концентрат', alpha = .5)\n",
        "plt.hist(sum_concentrate_rougher_input, bins = 90, label = 'Сырье', alpha = .5)\n",
        "plt.hist(sum_concentrate_final_output, bins = 90, label = 'Финальный концентрат', alpha = .6)\n",
        "\n",
        "plt.xlabel('Суммарная концентрация')\n",
        "plt.ylabel('Количество')\n",
        "plt.title('Гистограмма распределения суммарной концентрации всех веществ')\n",
        "\n",
        "plt.xlim(0,90)\n",
        "plt.ylim(0,2000)\n",
        "\n",
        "plt.legend(loc='upper left')\n",
        "\n",
        "plt.show()"
      ]
    },
    {
      "cell_type": "code",
      "execution_count": 34,
      "metadata": {
        "colab": {
          "base_uri": "https://localhost:8080/"
        },
        "id": "VaEDO9c1IkWG",
        "outputId": "a21c6c25-3b27-41e3-ada2-4fe6b77015fe"
      },
      "outputs": [
        {
          "output_type": "execute_result",
          "data": {
            "text/plain": [
              "(13575, 87)"
            ]
          },
          "metadata": {},
          "execution_count": 34
        }
      ],
      "source": [
        "df_train.shape"
      ]
    },
    {
      "cell_type": "markdown",
      "metadata": {
        "id": "TOLxCTQQIkWG"
      },
      "source": [
        "567 строк были удалены"
      ]
    },
    {
      "cell_type": "markdown",
      "metadata": {
        "id": "QKbxaRoOIkWG"
      },
      "source": [
        "## Модель"
      ]
    },
    {
      "cell_type": "markdown",
      "metadata": {
        "id": "q6nLVcIIIkWH"
      },
      "source": [
        "### Признаки train выборки"
      ]
    },
    {
      "cell_type": "markdown",
      "metadata": {
        "id": "L8j7-0BPIkWH"
      },
      "source": [
        "Так как некоторые столбцы отсутствуют в тестовой выборке, то для обучения их использовать нельзя. Значит во features_final_train запишем столбцы из списка coincidence, а в target_final_train - 'final.output.recovery'"
      ]
    },
    {
      "cell_type": "markdown",
      "metadata": {
        "id": "ARvVZPwSIkWH"
      },
      "source": [
        "Чтобы спрогнозировать rougher.output.recovery нужно использовать все столбцы этапа rougher с типом параметра input и state"
      ]
    },
    {
      "cell_type": "code",
      "execution_count": 35,
      "metadata": {
        "scrolled": true,
        "id": "wxOBoOB_IkWH"
      },
      "outputs": [],
      "source": [
        "features_rougher = []\n",
        "for i in df_train.columns:\n",
        "    if (i > 'rougher.input.' and i < 'rougher.input.z') or (i > 'rougher.state.' and i < 'rougher.state.z'):\n",
        "        features_rougher.append(i)"
      ]
    },
    {
      "cell_type": "code",
      "execution_count": 36,
      "metadata": {
        "id": "NZ7cM3mgIkWH"
      },
      "outputs": [],
      "source": [
        "features_rougher_train = df_train[features_rougher]\n",
        "features_final_train = df_train[coincidence]\n",
        "\n",
        "target_rougher_train = df_train['rougher.output.recovery']\n",
        "target_final_train = df_train['final.output.recovery']"
      ]
    },
    {
      "cell_type": "markdown",
      "metadata": {
        "id": "ID0OPYwLIkWI"
      },
      "source": [
        "### Признаки test выборки"
      ]
    },
    {
      "cell_type": "markdown",
      "metadata": {
        "id": "b9DWRGuKIkWI"
      },
      "source": [
        "Нужно взять целевой признак из df_full так, чтобы индексы совпадали с индексами признаков df_test"
      ]
    },
    {
      "cell_type": "code",
      "execution_count": 37,
      "metadata": {
        "id": "esJ1SO3KIkWI"
      },
      "outputs": [],
      "source": [
        "df_merge = df_test.merge(df_full[['date', 'final.output.recovery', 'rougher.output.recovery']], how = 'left', on='date')\n",
        "\n",
        "# Признаки для test\n",
        "features_final_test = df_merge.drop(['final.output.recovery', 'rougher.output.recovery', 'date'], axis = 1)\n",
        "features_rougher_test = df_merge[features_rougher]\n",
        "\n",
        "# Целевые признаки для test\n",
        "target_final_test = df_merge['final.output.recovery']\n",
        "target_rougher_test = df_merge['rougher.output.recovery']"
      ]
    },
    {
      "cell_type": "markdown",
      "metadata": {
        "id": "os-0cKjeIkWK"
      },
      "source": [
        "### Функция расчета sMAPE"
      ]
    },
    {
      "cell_type": "markdown",
      "metadata": {
        "id": "1gH003coIkWK"
      },
      "source": [
        "Составлено две функции для sMAPE и итогового sMAPE. Это нужно для того, чтобы сделать scorer и на его основе выбирать модель"
      ]
    },
    {
      "cell_type": "code",
      "execution_count": 38,
      "metadata": {
        "id": "_DpdOFy2IkWK"
      },
      "outputs": [],
      "source": [
        "# Функция расчета sMAPE\n",
        "def check(predictions, target):\n",
        "    smape = ((abs(target - predictions)) / \\\n",
        "        ((abs(target) + abs(predictions)) / 2)).sum() / len(target) * 100\n",
        "    print('sMAPE:', smape)\n",
        "\n",
        "    return smape"
      ]
    },
    {
      "cell_type": "code",
      "execution_count": 39,
      "metadata": {
        "id": "eyQsFWUEIkWL"
      },
      "outputs": [],
      "source": [
        "# Функция расчета итогового sMAPE\n",
        "def check_1(rougher_smape, final_smape):\n",
        "    return 0.25*rougher_smape + 0.75*final_smape"
      ]
    },
    {
      "cell_type": "code",
      "execution_count": 40,
      "metadata": {
        "id": "Z7KWRjLqIkWL"
      },
      "outputs": [],
      "source": [
        "# Создание scorer для дальнейшего поиска лучших гиперпараметров \n",
        "my_scorer = make_scorer(check, greater_is_better=False)"
      ]
    },
    {
      "cell_type": "markdown",
      "metadata": {
        "id": "bEwKZUGEIkWM"
      },
      "source": [
        "### Обучение модели"
      ]
    },
    {
      "cell_type": "markdown",
      "metadata": {
        "id": "dvfGlKxZIkWN"
      },
      "source": [
        "#### Поиск лучших параметров"
      ]
    },
    {
      "cell_type": "markdown",
      "metadata": {
        "id": "LzqIpMofIkWN"
      },
      "source": [
        "##### DT"
      ]
    },
    {
      "cell_type": "code",
      "execution_count": 41,
      "metadata": {
        "scrolled": true,
        "colab": {
          "base_uri": "https://localhost:8080/"
        },
        "id": "KpYlZU_FIkWO",
        "outputId": "03cf9a40-a9d5-4143-a590-61d70f1a226c"
      },
      "outputs": [
        {
          "output_type": "stream",
          "name": "stdout",
          "text": [
            "sMAPE: 9.576845679165642\n",
            "sMAPE: 7.924892461170672\n",
            "sMAPE: 9.097243022537278\n",
            "sMAPE: 9.395307082968147\n",
            "sMAPE: 10.384668900755337\n",
            "sMAPE: 9.547022445982252\n",
            "sMAPE: 8.041471984382637\n",
            "sMAPE: 9.998148554957542\n",
            "sMAPE: 8.975763095169588\n",
            "sMAPE: 9.656195784317536\n",
            "sMAPE: 10.768466508386211\n",
            "sMAPE: 9.281858734752158\n",
            "sMAPE: 9.423391299797894\n",
            "sMAPE: 8.228061933097036\n",
            "sMAPE: 9.903121729162114\n",
            "sMAPE: 9.990985992548028\n",
            "sMAPE: 13.491603067160343\n",
            "sMAPE: 9.60018556344194\n",
            "sMAPE: 8.10859800532082\n",
            "sMAPE: 11.518988910147167\n",
            "sMAPE: 10.659066911650386\n",
            "sMAPE: 11.602972156205917\n",
            "sMAPE: 11.910546734811886\n",
            "sMAPE: 8.511327528697999\n",
            "sMAPE: 11.8434027384523\n",
            "sMAPE: 12.638959422309783\n",
            "sMAPE: 12.449491154489214\n",
            "sMAPE: 13.776359228207582\n",
            "sMAPE: 8.78028984211088\n",
            "sMAPE: 12.167115600315528\n",
            "Лучшие параметры:\n",
            "{'max_depth': 3, 'random_state': 12345} \n",
            "\n",
            "-9.243720372961912 \n",
            "\n",
            "CPU times: user 10.1 s, sys: 1.44 ms, total: 10.1 s\n",
            "Wall time: 10.4 s\n"
          ]
        }
      ],
      "source": [
        "%%time\n",
        "model = DecisionTreeRegressor() \n",
        "depth = range(2, 8, 1)\n",
        "hyperparams = [{'max_depth':depth, 'random_state':[12345]}]\n",
        "\n",
        "clf = GridSearchCV(model, hyperparams, scoring = my_scorer)\n",
        "clf.fit(features_final_train, target_final_train)\n",
        "\n",
        "print(\"Лучшие параметры:\")\n",
        "print(clf.best_params_, '\\n')\n",
        "print(clf.best_score_, '\\n')"
      ]
    },
    {
      "cell_type": "markdown",
      "metadata": {
        "id": "TDRbdVCeIkWP"
      },
      "source": [
        "##### RF"
      ]
    },
    {
      "cell_type": "code",
      "execution_count": 42,
      "metadata": {
        "scrolled": true,
        "colab": {
          "base_uri": "https://localhost:8080/"
        },
        "id": "xVunu-mnIkWP",
        "outputId": "25b6e1bb-a4c9-4e19-f3fd-b02f1814151e"
      },
      "outputs": [
        {
          "output_type": "stream",
          "name": "stdout",
          "text": [
            "sMAPE: 9.45697537173898\n",
            "sMAPE: 7.60956813482602\n",
            "sMAPE: 8.967224695725772\n",
            "sMAPE: 9.194407156241333\n",
            "sMAPE: 10.461957825032774\n",
            "sMAPE: 9.436042308408208\n",
            "sMAPE: 7.578327511274931\n",
            "sMAPE: 8.8414285576378\n",
            "sMAPE: 9.181991138690316\n",
            "sMAPE: 10.450184049626927\n",
            "sMAPE: 9.426856653437184\n",
            "sMAPE: 7.557120470001171\n",
            "sMAPE: 8.740844790263203\n",
            "sMAPE: 9.17755441987287\n",
            "sMAPE: 10.44407624151247\n",
            "sMAPE: 9.43487955937401\n",
            "sMAPE: 7.544468858864259\n",
            "sMAPE: 8.727946861578438\n",
            "sMAPE: 9.188771915320189\n",
            "sMAPE: 10.428680520495814\n",
            "sMAPE: 9.428306412772795\n",
            "sMAPE: 7.536099590828936\n",
            "sMAPE: 8.712935992573371\n",
            "sMAPE: 9.1865722611273\n",
            "sMAPE: 10.425335099657456\n",
            "sMAPE: 9.461244898050936\n",
            "sMAPE: 7.871757828489943\n",
            "sMAPE: 9.305785028565651\n",
            "sMAPE: 8.836172818003101\n",
            "sMAPE: 9.900772043460675\n",
            "sMAPE: 9.466134658137358\n",
            "sMAPE: 7.793376658868613\n",
            "sMAPE: 9.055633483463595\n",
            "sMAPE: 8.809421862069032\n",
            "sMAPE: 9.858342223391245\n",
            "sMAPE: 9.46180805207841\n",
            "sMAPE: 7.789528588207586\n",
            "sMAPE: 8.918947475306425\n",
            "sMAPE: 8.793021740333945\n",
            "sMAPE: 9.809366010788521\n",
            "sMAPE: 9.461000669042036\n",
            "sMAPE: 7.802825446375381\n",
            "sMAPE: 8.889706128550728\n",
            "sMAPE: 8.800371266210066\n",
            "sMAPE: 9.824115766500343\n",
            "sMAPE: 9.467394599330184\n",
            "sMAPE: 7.795437778403386\n",
            "sMAPE: 8.86524053919279\n",
            "sMAPE: 8.79001167309428\n",
            "sMAPE: 9.827703624187842\n",
            "sMAPE: 9.485661766427873\n",
            "sMAPE: 8.260706063906966\n",
            "sMAPE: 9.115367936774932\n",
            "sMAPE: 8.20074958185092\n",
            "sMAPE: 9.323177834573832\n",
            "sMAPE: 9.509800169313992\n",
            "sMAPE: 8.312180460844788\n",
            "sMAPE: 8.996601697676128\n",
            "sMAPE: 8.20855665587749\n",
            "sMAPE: 9.363566757962223\n",
            "sMAPE: 9.484087149553513\n",
            "sMAPE: 8.266601966615063\n",
            "sMAPE: 8.87939765403497\n",
            "sMAPE: 8.19572750772135\n",
            "sMAPE: 9.308363066591193\n",
            "sMAPE: 9.444365086631255\n",
            "sMAPE: 8.319455716371337\n",
            "sMAPE: 8.858764942161665\n",
            "sMAPE: 8.190593554055837\n",
            "sMAPE: 9.298388861993768\n",
            "sMAPE: 9.421974902181814\n",
            "sMAPE: 8.35505727262917\n",
            "sMAPE: 8.883913552986437\n",
            "sMAPE: 8.197223425021928\n",
            "sMAPE: 9.30220319446767\n",
            "sMAPE: 9.288433619846467\n",
            "sMAPE: 9.08619143655099\n",
            "sMAPE: 8.926684611282836\n",
            "sMAPE: 8.175188705608948\n",
            "sMAPE: 9.335098549947558\n",
            "sMAPE: 9.290214508555684\n",
            "sMAPE: 9.14915102321861\n",
            "sMAPE: 8.818727518666822\n",
            "sMAPE: 8.197889321377355\n",
            "sMAPE: 9.39651188503289\n",
            "sMAPE: 9.237629346262793\n",
            "sMAPE: 9.231206994533023\n",
            "sMAPE: 8.752972610175043\n",
            "sMAPE: 8.142582152591437\n",
            "sMAPE: 9.355045877986097\n",
            "sMAPE: 9.2002464338494\n",
            "sMAPE: 9.344116401765195\n",
            "sMAPE: 8.73940450928118\n",
            "sMAPE: 8.128054998057008\n",
            "sMAPE: 9.381458689987406\n",
            "sMAPE: 9.208306370703065\n",
            "sMAPE: 9.39286439887752\n",
            "sMAPE: 8.71643034058306\n",
            "sMAPE: 8.112558844816304\n",
            "sMAPE: 9.421847942224664\n",
            "sMAPE: 9.184778799909529\n",
            "sMAPE: 8.80380384539276\n",
            "sMAPE: 8.774591387131457\n",
            "sMAPE: 8.359328542930616\n",
            "sMAPE: 9.638405142814111\n",
            "sMAPE: 9.164197363148476\n",
            "sMAPE: 8.873200315599023\n",
            "sMAPE: 8.645746370818465\n",
            "sMAPE: 8.365588587604398\n",
            "sMAPE: 9.678729626296237\n",
            "sMAPE: 9.142504444143762\n",
            "sMAPE: 8.937970585165287\n",
            "sMAPE: 8.606629312302058\n",
            "sMAPE: 8.300862637306366\n",
            "sMAPE: 9.651616982146578\n",
            "sMAPE: 9.118278091917526\n",
            "sMAPE: 8.999323112563566\n",
            "sMAPE: 8.625738317726421\n",
            "sMAPE: 8.29321955652111\n",
            "sMAPE: 9.670955965866577\n",
            "sMAPE: 9.145967371411018\n",
            "sMAPE: 9.048521166593705\n",
            "sMAPE: 8.622756158853226\n",
            "sMAPE: 8.263587866254275\n",
            "sMAPE: 9.689199933896175\n",
            "sMAPE: 9.199967887845094\n",
            "sMAPE: 9.423521838523888\n",
            "sMAPE: 8.676507306379746\n",
            "sMAPE: 8.444105742783297\n",
            "sMAPE: 9.84813869826436\n",
            "sMAPE: 9.190790195755467\n",
            "sMAPE: 9.5328921867285\n",
            "sMAPE: 8.572680381864444\n",
            "sMAPE: 8.444784656812324\n",
            "sMAPE: 9.882634364006726\n",
            "sMAPE: 9.153740830854407\n",
            "sMAPE: 9.346612525900813\n",
            "sMAPE: 8.58596119462526\n",
            "sMAPE: 8.370154821350596\n",
            "sMAPE: 9.743447401209213\n",
            "sMAPE: 9.11967217027078\n",
            "sMAPE: 9.339757801046751\n",
            "sMAPE: 8.605352231956873\n",
            "sMAPE: 8.34351669291389\n",
            "sMAPE: 9.800085960209966\n",
            "sMAPE: 9.112315730840697\n",
            "sMAPE: 9.293793215575743\n",
            "sMAPE: 8.582190132216315\n",
            "sMAPE: 8.333604274269641\n",
            "sMAPE: 9.825877687073389\n",
            "sMAPE: 9.182858180106798\n",
            "sMAPE: 10.416310801985729\n",
            "sMAPE: 8.658466597475298\n",
            "sMAPE: 8.560200697983204\n",
            "sMAPE: 9.707864279080509\n",
            "sMAPE: 9.17405505220889\n",
            "sMAPE: 10.26162324120152\n",
            "sMAPE: 8.502806804861502\n",
            "sMAPE: 8.522359439119366\n",
            "sMAPE: 9.709173856432308\n",
            "sMAPE: 9.164790165017697\n",
            "sMAPE: 10.025423034085582\n",
            "sMAPE: 8.483885685417079\n",
            "sMAPE: 8.441741534912365\n",
            "sMAPE: 9.594985839865966\n",
            "sMAPE: 9.093697068146755\n",
            "sMAPE: 9.975036867053335\n",
            "sMAPE: 8.488564170214111\n",
            "sMAPE: 8.418030780499528\n",
            "sMAPE: 9.704526744389046\n",
            "sMAPE: 9.084247381713068\n",
            "sMAPE: 9.846862620300817\n",
            "sMAPE: 8.457539436459834\n",
            "sMAPE: 8.398335619973604\n",
            "sMAPE: 9.751600749758765\n",
            "Лучшие параметры:\n",
            "{'max_depth': 4, 'n_estimators': 60, 'random_state': 12345} \n",
            "\n",
            "-8.822313632242773 \n",
            "\n",
            "CPU times: user 27min 45s, sys: 929 ms, total: 27min 46s\n",
            "Wall time: 27min 53s\n"
          ]
        }
      ],
      "source": [
        "%%time\n",
        "\n",
        "model = RandomForestRegressor() \n",
        "depth = range(2, 9, 1)\n",
        "est = range(30,80,10)\n",
        "hyperparams = [{'max_depth':depth, 'n_estimators':est, 'random_state':[12345]}]\n",
        "\n",
        "clf = GridSearchCV(model, hyperparams, scoring = my_scorer)\n",
        "clf.fit(features_final_train, target_final_train)\n",
        "\n",
        "print(\"Лучшие параметры:\")\n",
        "print(clf.best_params_, '\\n')\n",
        "print(clf.best_score_, '\\n')"
      ]
    },
    {
      "cell_type": "markdown",
      "metadata": {
        "id": "g3HCor86IkWQ"
      },
      "source": [
        "##### LR"
      ]
    },
    {
      "cell_type": "code",
      "execution_count": 43,
      "metadata": {
        "scrolled": true,
        "colab": {
          "base_uri": "https://localhost:8080/"
        },
        "id": "qY7wqQhiIkWQ",
        "outputId": "55437632-eede-4586-b537-f7cfa476f1ca"
      },
      "outputs": [
        {
          "output_type": "stream",
          "name": "stdout",
          "text": [
            "sMAPE: 13.179644609789493\n",
            "sMAPE: 9.938116953184226\n",
            "sMAPE: 10.345426609689248\n",
            "sMAPE: 8.896889324499206\n",
            "sMAPE: 12.952850495040677\n",
            "\n",
            "\n",
            "sMAPE: 8.123661216835497\n",
            "sMAPE: 8.095171965559247\n",
            "sMAPE: 4.547900127444666\n",
            "sMAPE: 4.830670047537649\n",
            "sMAPE: 8.10911349026816\n",
            "\n",
            "\n",
            "sMAPE_final: -11.06258559844057\n",
            "sMAPE_rougher: -6.741303369529044\n",
            "Итоговое sMAPE: -9.982265041212688\n"
          ]
        }
      ],
      "source": [
        "# Модель LR для final \n",
        "model_final = LinearRegression()\n",
        "\n",
        "# Модель LR для rougher \n",
        "model_rougher = LinearRegression()\n",
        "\n",
        "# Проверим предсказания на функции расчета sMAPE\n",
        "final = cross_val_score(model_final, features_final_train, \\\n",
        "                        target_final_train, cv=5, scoring = my_scorer).mean()\n",
        "print('\\n')\n",
        "rougher = cross_val_score(model_rougher, features_rougher_train,\\\n",
        "                          target_rougher_train, cv=5, scoring = my_scorer).mean()\n",
        "# Итоговое sMAPE:\n",
        "sMAPE = check_1(rougher, final)\n",
        "\n",
        "print('\\n')\n",
        "print('sMAPE_final:', final)\n",
        "print('sMAPE_rougher:', rougher)\n",
        "print('Итоговое sMAPE:', sMAPE)\n",
        "\n",
        "None"
      ]
    },
    {
      "cell_type": "markdown",
      "metadata": {
        "id": "SBjE374yIkWR"
      },
      "source": [
        "**Вывод по подбору параметров (целевая метрика - final_sMAPE):**\n",
        "- DT: 9.2437\n",
        "- RF: 8.8223\n",
        "- LR: 11.063"
      ]
    },
    {
      "cell_type": "markdown",
      "metadata": {
        "id": "QTJ-TqdKIkWR"
      },
      "source": [
        "**Таким образом, исходя из полученных значений sMAPE, лучшей моделью является Random Forest**"
      ]
    },
    {
      "cell_type": "markdown",
      "metadata": {
        "id": "VCJ_fa86IkWR"
      },
      "source": [
        "**Проверим модель на тестовых данных**"
      ]
    },
    {
      "cell_type": "markdown",
      "metadata": {
        "id": "rI9YDhZHIkWS"
      },
      "source": [
        "#### RF"
      ]
    },
    {
      "cell_type": "code",
      "execution_count": 44,
      "metadata": {
        "scrolled": true,
        "colab": {
          "base_uri": "https://localhost:8080/"
        },
        "id": "_DvDf2KBIkWS",
        "outputId": "13cd8222-d16c-4afb-faa8-d8a4689720e5"
      },
      "outputs": [
        {
          "output_type": "stream",
          "name": "stdout",
          "text": [
            "sMAPE: 9.866156939772125\n",
            "sMAPE: 8.540583493318476\n",
            "\n",
            "\n",
            "Итоговое sMAPE:\n",
            "9.534763578158714\n",
            "CPU times: user 17.4 s, sys: 94 ms, total: 17.5 s\n",
            "Wall time: 17.5 s\n"
          ]
        }
      ],
      "source": [
        "%%time\n",
        "# Модель RF для final \n",
        "model_final = RandomForestRegressor(max_depth=4, n_estimators=60, random_state=12345)\n",
        "model_final.fit(features_final_train, target_final_train)\n",
        "predictions_final = model_final.predict(features_final_test)\n",
        "final = check(predictions_final, target_final_test)\n",
        "\n",
        "# Модель RF для rougher \n",
        "model_rougher = RandomForestRegressor(max_depth = 4, n_estimators = 60, random_state=12345)\n",
        "model_rougher.fit(features_rougher_train, target_rougher_train)\n",
        "predictions_rougher = model_rougher.predict(features_rougher_test)\n",
        "rougher = check(predictions_rougher, target_rougher_test)\n",
        "\n",
        "# Итоговое sMAPE:\n",
        "sMAPE = check_1(rougher, final)\n",
        "print('\\n')\n",
        "print('Итоговое sMAPE:')\n",
        "print(sMAPE)"
      ]
    },
    {
      "cell_type": "markdown",
      "metadata": {
        "id": "1ukTr3rPIkWT"
      },
      "source": [
        "Сравним модель с константной"
      ]
    },
    {
      "cell_type": "code",
      "execution_count": 45,
      "metadata": {
        "scrolled": true,
        "colab": {
          "base_uri": "https://localhost:8080/"
        },
        "id": "Wor3-99xIkWT",
        "outputId": "25efa6c3-ffde-4a01-a392-291465f0ea73"
      },
      "outputs": [
        {
          "output_type": "stream",
          "name": "stdout",
          "text": [
            "sMAPE: 10.08399271433488\n",
            "sMAPE: 9.051573659962973\n",
            "\n",
            "\n",
            "Итоговое sMAPE:\n",
            "9.825887950741903\n"
          ]
        }
      ],
      "source": [
        "dummy_regr_final = DummyRegressor(strategy=\"mean\")\n",
        "dummy_regr_final.fit(features_final_train, target_final_train)\n",
        "dr_predictions_final = dummy_regr_final.predict(features_final_test)\n",
        "final = check(dr_predictions_final, target_final_test)\n",
        "\n",
        "dummy_regr_rougher = DummyRegressor(strategy=\"mean\")\n",
        "dummy_regr_rougher.fit(features_rougher_train, target_rougher_train)\n",
        "dr_predictions_rougher = dummy_regr_rougher.predict(features_rougher_test)\n",
        "rougher = check(dr_predictions_rougher, target_rougher_test)\n",
        "\n",
        "sMAPE = check_1(rougher, final)\n",
        "print('\\n')\n",
        "print('Итоговое sMAPE:')\n",
        "print(sMAPE)"
      ]
    },
    {
      "cell_type": "markdown",
      "metadata": {
        "id": "bTdylRL7IkWV"
      },
      "source": [
        "**Вывод: В ходе работы была проведена предобработка данных, исследованы концентрации металлов на этапах очистки и флотации, а также на финальном этапе. Написана функция для итогового расчета метрики качества задачи - sMAPE. Построены три модели, решающих задачу регрессии - Decision Tree, Random Forest и Linear Regression. Гиперпараметры моделей проверены при помощи GridSearchCV и для решения задачи использовалась модель RF с параметрами:**\n",
        "- Глубина: 4\n",
        "- Количество деревьев: 60"
      ]
    },
    {
      "cell_type": "markdown",
      "metadata": {
        "id": "Hb2wofw-IkWV"
      },
      "source": [
        "**Модель проверена на адекватность при помощи константной модели со стратегией mean.  \n",
        "Результат модели:**\n",
        "- sMAPE rougher = 8.5406\n",
        "- sMAPE final = 9.8661\n",
        "- sMAPE итог = 9.5347"
      ]
    },
    {
      "cell_type": "markdown",
      "metadata": {
        "id": "Dt5mvAfrIkWV"
      },
      "source": [
        "**Результат константной модели:**\n",
        "- sMAPE rougher = 9.0516\n",
        "- sMAPE final = 10.0839\n",
        "- sMAPE итог = 9.8259"
      ]
    }
  ],
  "metadata": {
    "ExecuteTimeLog": [
      {
        "duration": 451,
        "start_time": "2022-10-03T14:39:12.279Z"
      },
      {
        "duration": 815,
        "start_time": "2022-10-03T14:40:18.948Z"
      },
      {
        "duration": 2338,
        "start_time": "2022-10-03T14:40:49.019Z"
      },
      {
        "duration": 25,
        "start_time": "2022-10-03T14:41:02.468Z"
      },
      {
        "duration": 3,
        "start_time": "2022-10-03T14:44:31.052Z"
      },
      {
        "duration": 4,
        "start_time": "2022-10-03T14:45:02.841Z"
      },
      {
        "duration": 222,
        "start_time": "2022-10-03T14:45:03.440Z"
      },
      {
        "duration": 371,
        "start_time": "2022-10-03T14:46:14.499Z"
      },
      {
        "duration": 3,
        "start_time": "2022-10-03T14:47:12.441Z"
      },
      {
        "duration": 340,
        "start_time": "2022-10-03T14:47:13.958Z"
      },
      {
        "duration": 2,
        "start_time": "2022-10-03T14:47:37.103Z"
      },
      {
        "duration": 333,
        "start_time": "2022-10-03T14:47:38.135Z"
      },
      {
        "duration": 3,
        "start_time": "2022-10-03T14:47:59.181Z"
      },
      {
        "duration": 3,
        "start_time": "2022-10-03T14:48:04.660Z"
      },
      {
        "duration": 52,
        "start_time": "2022-10-03T14:48:05.017Z"
      },
      {
        "duration": 3,
        "start_time": "2022-10-03T14:48:11.009Z"
      },
      {
        "duration": 58,
        "start_time": "2022-10-03T14:48:11.421Z"
      },
      {
        "duration": 81,
        "start_time": "2022-10-03T14:48:37.350Z"
      },
      {
        "duration": 550,
        "start_time": "2022-10-03T14:52:26.626Z"
      },
      {
        "duration": 810,
        "start_time": "2022-10-03T14:53:10.746Z"
      },
      {
        "duration": 6,
        "start_time": "2022-10-03T14:57:30.784Z"
      },
      {
        "duration": 524,
        "start_time": "2022-10-03T15:11:47.648Z"
      },
      {
        "duration": 182,
        "start_time": "2022-10-03T15:11:55.712Z"
      },
      {
        "duration": 10,
        "start_time": "2022-10-03T15:14:33.104Z"
      },
      {
        "duration": 4,
        "start_time": "2022-10-03T15:14:48.346Z"
      },
      {
        "duration": 52,
        "start_time": "2022-10-03T15:24:49.483Z"
      },
      {
        "duration": 44,
        "start_time": "2022-10-03T15:24:55.161Z"
      },
      {
        "duration": 45,
        "start_time": "2022-10-03T15:25:52.759Z"
      },
      {
        "duration": 17,
        "start_time": "2022-10-03T15:26:07.416Z"
      },
      {
        "duration": 5,
        "start_time": "2022-10-03T15:26:24.756Z"
      },
      {
        "duration": 6,
        "start_time": "2022-10-03T15:26:40.568Z"
      },
      {
        "duration": 6,
        "start_time": "2022-10-03T15:26:53.297Z"
      },
      {
        "duration": 2,
        "start_time": "2022-10-03T15:31:30.493Z"
      },
      {
        "duration": 5,
        "start_time": "2022-10-03T15:32:04.873Z"
      },
      {
        "duration": 5,
        "start_time": "2022-10-03T15:32:08.760Z"
      },
      {
        "duration": 4,
        "start_time": "2022-10-03T15:34:12.205Z"
      },
      {
        "duration": 6,
        "start_time": "2022-10-03T15:34:12.725Z"
      },
      {
        "duration": 5,
        "start_time": "2022-10-03T15:34:29.937Z"
      },
      {
        "duration": 5,
        "start_time": "2022-10-03T15:34:30.293Z"
      },
      {
        "duration": 8,
        "start_time": "2022-10-03T15:35:45.299Z"
      },
      {
        "duration": 748,
        "start_time": "2022-10-03T15:36:21.469Z"
      },
      {
        "duration": 4,
        "start_time": "2022-10-03T15:36:29.467Z"
      },
      {
        "duration": 5,
        "start_time": "2022-10-03T15:36:29.818Z"
      },
      {
        "duration": 5,
        "start_time": "2022-10-03T15:36:51.341Z"
      },
      {
        "duration": 4,
        "start_time": "2022-10-03T15:36:51.681Z"
      },
      {
        "duration": 4,
        "start_time": "2022-10-03T15:40:39.892Z"
      },
      {
        "duration": 5,
        "start_time": "2022-10-03T15:40:40.318Z"
      },
      {
        "duration": 4,
        "start_time": "2022-10-03T15:41:24.310Z"
      },
      {
        "duration": 6,
        "start_time": "2022-10-03T15:41:54.074Z"
      },
      {
        "duration": 6,
        "start_time": "2022-10-03T15:42:10.850Z"
      },
      {
        "duration": 5,
        "start_time": "2022-10-03T15:42:21.401Z"
      },
      {
        "duration": 5,
        "start_time": "2022-10-03T15:43:00.624Z"
      },
      {
        "duration": 2,
        "start_time": "2022-10-03T15:43:34.948Z"
      },
      {
        "duration": 4,
        "start_time": "2022-10-03T15:43:38.955Z"
      },
      {
        "duration": 5,
        "start_time": "2022-10-03T15:43:52.564Z"
      },
      {
        "duration": 6,
        "start_time": "2022-10-03T15:43:56.513Z"
      },
      {
        "duration": 6,
        "start_time": "2022-10-03T15:44:09.393Z"
      },
      {
        "duration": 128,
        "start_time": "2022-10-03T15:44:48.368Z"
      },
      {
        "duration": 5,
        "start_time": "2022-10-03T15:44:50.044Z"
      },
      {
        "duration": 7,
        "start_time": "2022-10-03T15:45:10.557Z"
      },
      {
        "duration": 4,
        "start_time": "2022-10-03T15:45:11.299Z"
      },
      {
        "duration": 5,
        "start_time": "2022-10-03T15:45:11.666Z"
      },
      {
        "duration": 4,
        "start_time": "2022-10-03T15:45:12.018Z"
      },
      {
        "duration": 3,
        "start_time": "2022-10-03T16:02:58.796Z"
      },
      {
        "duration": 3,
        "start_time": "2022-10-03T16:03:17.156Z"
      },
      {
        "duration": 6,
        "start_time": "2022-10-03T16:03:28.489Z"
      },
      {
        "duration": 44,
        "start_time": "2022-10-03T16:03:44.723Z"
      },
      {
        "duration": 3,
        "start_time": "2022-10-03T16:03:57.879Z"
      },
      {
        "duration": 4,
        "start_time": "2022-10-03T16:04:03.115Z"
      },
      {
        "duration": 5,
        "start_time": "2022-10-03T16:04:05.661Z"
      },
      {
        "duration": 6,
        "start_time": "2022-10-03T16:05:12.596Z"
      },
      {
        "duration": 6,
        "start_time": "2022-10-03T16:05:19.151Z"
      },
      {
        "duration": 6,
        "start_time": "2022-10-03T16:09:15.633Z"
      },
      {
        "duration": 9,
        "start_time": "2022-10-03T16:09:21.309Z"
      },
      {
        "duration": 9,
        "start_time": "2022-10-03T16:14:38.653Z"
      },
      {
        "duration": 137,
        "start_time": "2022-10-03T16:20:45.188Z"
      },
      {
        "duration": 4,
        "start_time": "2022-10-03T16:33:46.282Z"
      },
      {
        "duration": 15,
        "start_time": "2022-10-03T16:34:01.989Z"
      },
      {
        "duration": 24,
        "start_time": "2022-10-03T16:34:52.740Z"
      },
      {
        "duration": 4,
        "start_time": "2022-10-03T16:35:09.598Z"
      },
      {
        "duration": 3,
        "start_time": "2022-10-03T16:39:42.956Z"
      },
      {
        "duration": 16,
        "start_time": "2022-10-03T16:39:58.272Z"
      },
      {
        "duration": 4,
        "start_time": "2022-10-03T16:40:07.285Z"
      },
      {
        "duration": 2,
        "start_time": "2022-10-03T16:45:35.772Z"
      },
      {
        "duration": 29,
        "start_time": "2022-10-03T16:45:43.997Z"
      },
      {
        "duration": 4,
        "start_time": "2022-10-03T16:45:56.049Z"
      },
      {
        "duration": 31,
        "start_time": "2022-10-03T16:45:57.202Z"
      },
      {
        "duration": 689,
        "start_time": "2022-10-03T16:46:15.893Z"
      },
      {
        "duration": 0,
        "start_time": "2022-10-03T16:46:16.584Z"
      },
      {
        "duration": 704,
        "start_time": "2022-10-03T16:46:25.954Z"
      },
      {
        "duration": 3,
        "start_time": "2022-10-03T16:46:26.660Z"
      },
      {
        "duration": 109,
        "start_time": "2022-10-03T16:46:26.665Z"
      },
      {
        "duration": 160,
        "start_time": "2022-10-03T16:46:26.776Z"
      },
      {
        "duration": 6,
        "start_time": "2022-10-03T16:46:26.938Z"
      },
      {
        "duration": 5,
        "start_time": "2022-10-03T16:46:27.486Z"
      },
      {
        "duration": 3,
        "start_time": "2022-10-03T16:46:27.867Z"
      },
      {
        "duration": 5,
        "start_time": "2022-10-03T16:46:28.076Z"
      },
      {
        "duration": 4,
        "start_time": "2022-10-03T16:46:28.270Z"
      },
      {
        "duration": 8,
        "start_time": "2022-10-03T16:46:29.227Z"
      },
      {
        "duration": 534,
        "start_time": "2022-10-03T16:46:36.956Z"
      },
      {
        "duration": 13,
        "start_time": "2022-10-03T16:47:54.255Z"
      },
      {
        "duration": 17,
        "start_time": "2022-10-03T16:48:03.828Z"
      },
      {
        "duration": 24,
        "start_time": "2022-10-03T16:48:04.445Z"
      },
      {
        "duration": 15,
        "start_time": "2022-10-03T16:48:22.748Z"
      },
      {
        "duration": 3,
        "start_time": "2022-10-03T16:48:25.068Z"
      },
      {
        "duration": 694,
        "start_time": "2022-10-03T16:48:25.582Z"
      },
      {
        "duration": 4,
        "start_time": "2022-10-03T16:48:26.278Z"
      },
      {
        "duration": 96,
        "start_time": "2022-10-03T16:48:26.283Z"
      },
      {
        "duration": 138,
        "start_time": "2022-10-03T16:48:26.452Z"
      },
      {
        "duration": 7,
        "start_time": "2022-10-03T16:48:26.748Z"
      },
      {
        "duration": 5,
        "start_time": "2022-10-03T16:48:27.526Z"
      },
      {
        "duration": 3,
        "start_time": "2022-10-03T16:48:28.065Z"
      },
      {
        "duration": 4,
        "start_time": "2022-10-03T16:48:28.293Z"
      },
      {
        "duration": 4,
        "start_time": "2022-10-03T16:48:28.524Z"
      },
      {
        "duration": 6,
        "start_time": "2022-10-03T16:48:29.345Z"
      },
      {
        "duration": 8,
        "start_time": "2022-10-03T16:48:30.830Z"
      },
      {
        "duration": 26,
        "start_time": "2022-10-03T16:48:36.229Z"
      },
      {
        "duration": 27,
        "start_time": "2022-10-03T16:48:42.533Z"
      },
      {
        "duration": 21,
        "start_time": "2022-10-03T16:49:03.063Z"
      },
      {
        "duration": 17,
        "start_time": "2022-10-03T16:49:22.628Z"
      },
      {
        "duration": 12,
        "start_time": "2022-10-03T16:49:29.431Z"
      },
      {
        "duration": 10,
        "start_time": "2022-10-03T16:49:36.283Z"
      },
      {
        "duration": 27,
        "start_time": "2022-10-03T16:49:42.760Z"
      },
      {
        "duration": 3,
        "start_time": "2022-10-03T16:49:55.866Z"
      },
      {
        "duration": 22,
        "start_time": "2022-10-03T16:50:02.641Z"
      },
      {
        "duration": 16,
        "start_time": "2022-10-03T16:50:08.442Z"
      },
      {
        "duration": 4,
        "start_time": "2022-10-03T16:50:30.778Z"
      },
      {
        "duration": 14,
        "start_time": "2022-10-03T16:51:13.795Z"
      },
      {
        "duration": 23,
        "start_time": "2022-10-03T16:51:39.072Z"
      },
      {
        "duration": 3,
        "start_time": "2022-10-03T16:52:07.255Z"
      },
      {
        "duration": 683,
        "start_time": "2022-10-03T16:52:07.641Z"
      },
      {
        "duration": 4,
        "start_time": "2022-10-03T16:52:08.326Z"
      },
      {
        "duration": 119,
        "start_time": "2022-10-03T16:52:08.331Z"
      },
      {
        "duration": 144,
        "start_time": "2022-10-03T16:52:08.452Z"
      },
      {
        "duration": 5,
        "start_time": "2022-10-03T16:52:08.598Z"
      },
      {
        "duration": 6,
        "start_time": "2022-10-03T16:52:09.230Z"
      },
      {
        "duration": 3,
        "start_time": "2022-10-03T16:52:09.787Z"
      },
      {
        "duration": 5,
        "start_time": "2022-10-03T16:52:10.042Z"
      },
      {
        "duration": 4,
        "start_time": "2022-10-03T16:52:10.340Z"
      },
      {
        "duration": 6,
        "start_time": "2022-10-03T16:52:11.564Z"
      },
      {
        "duration": 7,
        "start_time": "2022-10-03T16:52:15.623Z"
      },
      {
        "duration": 4,
        "start_time": "2022-10-03T16:52:16.278Z"
      },
      {
        "duration": 34,
        "start_time": "2022-10-03T16:52:17.092Z"
      },
      {
        "duration": 17,
        "start_time": "2022-10-03T16:52:17.628Z"
      },
      {
        "duration": 8,
        "start_time": "2022-10-03T16:52:28.099Z"
      },
      {
        "duration": 14,
        "start_time": "2022-10-03T16:52:31.099Z"
      },
      {
        "duration": 3,
        "start_time": "2022-10-03T16:52:35.633Z"
      },
      {
        "duration": 4,
        "start_time": "2022-10-03T16:52:46.523Z"
      },
      {
        "duration": 4,
        "start_time": "2022-10-03T16:52:49.496Z"
      },
      {
        "duration": 2,
        "start_time": "2022-10-03T16:52:59.881Z"
      },
      {
        "duration": 14,
        "start_time": "2022-10-03T16:53:02.905Z"
      },
      {
        "duration": 4,
        "start_time": "2022-10-03T16:53:25.049Z"
      },
      {
        "duration": 3,
        "start_time": "2022-10-03T16:53:28.662Z"
      },
      {
        "duration": 3,
        "start_time": "2022-10-03T16:53:38.396Z"
      },
      {
        "duration": 762,
        "start_time": "2022-10-03T16:53:38.827Z"
      },
      {
        "duration": 4,
        "start_time": "2022-10-03T16:53:39.591Z"
      },
      {
        "duration": 141,
        "start_time": "2022-10-03T16:53:39.597Z"
      },
      {
        "duration": 145,
        "start_time": "2022-10-03T16:53:39.740Z"
      },
      {
        "duration": 7,
        "start_time": "2022-10-03T16:53:39.887Z"
      },
      {
        "duration": 5,
        "start_time": "2022-10-03T16:53:40.733Z"
      },
      {
        "duration": 3,
        "start_time": "2022-10-03T16:53:41.174Z"
      },
      {
        "duration": 5,
        "start_time": "2022-10-03T16:53:41.398Z"
      },
      {
        "duration": 4,
        "start_time": "2022-10-03T16:53:41.640Z"
      },
      {
        "duration": 8,
        "start_time": "2022-10-03T16:53:42.523Z"
      },
      {
        "duration": 19,
        "start_time": "2022-10-03T16:53:44.804Z"
      },
      {
        "duration": 5,
        "start_time": "2022-10-03T16:53:45.479Z"
      },
      {
        "duration": 20,
        "start_time": "2022-10-03T16:53:45.880Z"
      },
      {
        "duration": 15,
        "start_time": "2022-10-03T16:53:48.975Z"
      },
      {
        "duration": 4,
        "start_time": "2022-10-03T16:53:52.736Z"
      },
      {
        "duration": 4,
        "start_time": "2022-10-03T16:54:00.623Z"
      },
      {
        "duration": 5,
        "start_time": "2022-10-03T16:54:14.505Z"
      },
      {
        "duration": 14,
        "start_time": "2022-10-03T16:55:02.379Z"
      },
      {
        "duration": 5,
        "start_time": "2022-10-03T16:55:11.986Z"
      },
      {
        "duration": 5,
        "start_time": "2022-10-03T16:55:46.274Z"
      },
      {
        "duration": 5,
        "start_time": "2022-10-03T16:55:58.328Z"
      },
      {
        "duration": 4,
        "start_time": "2022-10-03T16:56:12.338Z"
      },
      {
        "duration": 5,
        "start_time": "2022-10-03T16:56:27.725Z"
      },
      {
        "duration": 43,
        "start_time": "2022-10-03T16:56:57.234Z"
      },
      {
        "duration": 6,
        "start_time": "2022-10-03T16:57:01.354Z"
      },
      {
        "duration": 4,
        "start_time": "2022-10-03T16:57:18.170Z"
      },
      {
        "duration": 10,
        "start_time": "2022-10-03T16:57:40.208Z"
      },
      {
        "duration": 4,
        "start_time": "2022-10-03T16:58:06.439Z"
      },
      {
        "duration": 5,
        "start_time": "2022-10-03T16:58:07.870Z"
      },
      {
        "duration": 978,
        "start_time": "2022-10-03T20:12:36.360Z"
      },
      {
        "duration": 2922,
        "start_time": "2022-10-03T20:12:38.648Z"
      },
      {
        "duration": 4,
        "start_time": "2022-10-03T20:12:41.572Z"
      },
      {
        "duration": 125,
        "start_time": "2022-10-03T20:12:41.577Z"
      },
      {
        "duration": 511,
        "start_time": "2022-10-03T20:12:41.704Z"
      },
      {
        "duration": 6,
        "start_time": "2022-10-03T20:12:42.217Z"
      },
      {
        "duration": 8,
        "start_time": "2022-10-03T20:12:42.225Z"
      },
      {
        "duration": 3,
        "start_time": "2022-10-03T20:12:45.447Z"
      },
      {
        "duration": 5,
        "start_time": "2022-10-03T20:12:45.881Z"
      },
      {
        "duration": 5,
        "start_time": "2022-10-03T20:12:46.294Z"
      },
      {
        "duration": 5,
        "start_time": "2022-10-03T20:12:56.420Z"
      },
      {
        "duration": 11,
        "start_time": "2022-10-03T20:13:03.548Z"
      },
      {
        "duration": 3,
        "start_time": "2022-10-03T20:13:09.963Z"
      },
      {
        "duration": 54,
        "start_time": "2022-10-03T20:13:10.607Z"
      },
      {
        "duration": 15,
        "start_time": "2022-10-03T20:13:15.124Z"
      },
      {
        "duration": 16,
        "start_time": "2022-10-03T20:13:34.388Z"
      },
      {
        "duration": 4,
        "start_time": "2022-10-03T20:13:35.160Z"
      },
      {
        "duration": 4,
        "start_time": "2022-10-03T20:13:36.330Z"
      },
      {
        "duration": 1600,
        "start_time": "2022-10-03T21:00:48.063Z"
      },
      {
        "duration": 1133,
        "start_time": "2022-10-03T21:00:57.437Z"
      },
      {
        "duration": 3,
        "start_time": "2022-10-03T21:01:04.438Z"
      },
      {
        "duration": 13,
        "start_time": "2022-10-03T21:05:10.628Z"
      },
      {
        "duration": 3,
        "start_time": "2022-10-03T21:05:37.093Z"
      },
      {
        "duration": 11,
        "start_time": "2022-10-03T21:05:41.568Z"
      },
      {
        "duration": 2,
        "start_time": "2022-10-03T21:06:06.374Z"
      },
      {
        "duration": 307,
        "start_time": "2022-10-03T21:06:09.956Z"
      },
      {
        "duration": 457,
        "start_time": "2022-10-03T21:06:19.313Z"
      },
      {
        "duration": 489,
        "start_time": "2022-10-03T21:06:26.073Z"
      },
      {
        "duration": 681,
        "start_time": "2022-10-03T21:06:36.823Z"
      },
      {
        "duration": 545,
        "start_time": "2022-10-03T21:06:51.537Z"
      },
      {
        "duration": 449,
        "start_time": "2022-10-03T21:07:07.107Z"
      },
      {
        "duration": 597,
        "start_time": "2022-10-03T21:07:14.219Z"
      },
      {
        "duration": 469,
        "start_time": "2022-10-03T21:08:16.194Z"
      },
      {
        "duration": 584,
        "start_time": "2022-10-03T21:08:23.761Z"
      },
      {
        "duration": 581,
        "start_time": "2022-10-03T21:08:33.076Z"
      },
      {
        "duration": 463,
        "start_time": "2022-10-03T21:08:38.474Z"
      },
      {
        "duration": 474,
        "start_time": "2022-10-03T21:08:46.458Z"
      },
      {
        "duration": 564,
        "start_time": "2022-10-03T21:08:49.416Z"
      },
      {
        "duration": 510,
        "start_time": "2022-10-03T21:08:54.480Z"
      },
      {
        "duration": 595,
        "start_time": "2022-10-03T21:08:58.069Z"
      },
      {
        "duration": 489,
        "start_time": "2022-10-03T21:09:01.343Z"
      },
      {
        "duration": 454,
        "start_time": "2022-10-03T21:09:17.302Z"
      },
      {
        "duration": 563,
        "start_time": "2022-10-03T21:09:40.038Z"
      },
      {
        "duration": 471,
        "start_time": "2022-10-03T21:10:17.190Z"
      },
      {
        "duration": 467,
        "start_time": "2022-10-03T21:10:36.323Z"
      },
      {
        "duration": 567,
        "start_time": "2022-10-03T21:11:27.298Z"
      },
      {
        "duration": 456,
        "start_time": "2022-10-03T21:12:54.868Z"
      },
      {
        "duration": 446,
        "start_time": "2022-10-03T21:17:10.112Z"
      },
      {
        "duration": 593,
        "start_time": "2022-10-03T21:17:22.532Z"
      },
      {
        "duration": 472,
        "start_time": "2022-10-03T21:19:10.572Z"
      },
      {
        "duration": 551,
        "start_time": "2022-10-03T21:19:19.568Z"
      },
      {
        "duration": 463,
        "start_time": "2022-10-03T21:19:28.215Z"
      },
      {
        "duration": 444,
        "start_time": "2022-10-03T21:20:29.659Z"
      },
      {
        "duration": 587,
        "start_time": "2022-10-03T21:20:38.866Z"
      },
      {
        "duration": 318,
        "start_time": "2022-10-03T21:28:39.977Z"
      },
      {
        "duration": 337,
        "start_time": "2022-10-03T21:28:51.364Z"
      },
      {
        "duration": 320,
        "start_time": "2022-10-03T21:29:07.830Z"
      },
      {
        "duration": 439,
        "start_time": "2022-10-03T21:29:27.046Z"
      },
      {
        "duration": 325,
        "start_time": "2022-10-03T21:29:41.075Z"
      },
      {
        "duration": 351,
        "start_time": "2022-10-03T21:29:44.858Z"
      },
      {
        "duration": 439,
        "start_time": "2022-10-03T21:29:47.883Z"
      },
      {
        "duration": 350,
        "start_time": "2022-10-03T21:29:55.367Z"
      },
      {
        "duration": 332,
        "start_time": "2022-10-03T21:30:02.117Z"
      },
      {
        "duration": 334,
        "start_time": "2022-10-03T21:30:06.627Z"
      },
      {
        "duration": 473,
        "start_time": "2022-10-03T21:30:50.754Z"
      },
      {
        "duration": 352,
        "start_time": "2022-10-03T21:30:58.031Z"
      },
      {
        "duration": 46,
        "start_time": "2022-10-03T22:20:07.825Z"
      },
      {
        "duration": 894,
        "start_time": "2022-10-03T22:20:32.603Z"
      },
      {
        "duration": 8,
        "start_time": "2022-10-03T22:20:59.303Z"
      },
      {
        "duration": 6,
        "start_time": "2022-10-03T22:21:39.392Z"
      },
      {
        "duration": 446,
        "start_time": "2022-10-03T22:23:32.591Z"
      },
      {
        "duration": 562,
        "start_time": "2022-10-03T22:23:49.978Z"
      },
      {
        "duration": 473,
        "start_time": "2022-10-03T22:23:58.140Z"
      },
      {
        "duration": 508,
        "start_time": "2022-10-03T22:24:11.900Z"
      },
      {
        "duration": 611,
        "start_time": "2022-10-03T22:25:30.909Z"
      },
      {
        "duration": 6,
        "start_time": "2022-10-03T22:26:30.983Z"
      },
      {
        "duration": 471,
        "start_time": "2022-10-03T22:26:31.641Z"
      },
      {
        "duration": 45,
        "start_time": "2022-10-03T22:28:44.754Z"
      },
      {
        "duration": 497,
        "start_time": "2022-10-03T22:30:41.233Z"
      },
      {
        "duration": 562,
        "start_time": "2022-10-03T22:30:48.429Z"
      },
      {
        "duration": 6,
        "start_time": "2022-10-03T22:33:05.047Z"
      },
      {
        "duration": 483,
        "start_time": "2022-10-03T22:33:05.438Z"
      },
      {
        "duration": 6,
        "start_time": "2022-10-03T22:33:33.538Z"
      },
      {
        "duration": 9,
        "start_time": "2022-10-03T22:33:58.401Z"
      },
      {
        "duration": 6,
        "start_time": "2022-10-03T22:34:07.488Z"
      },
      {
        "duration": 7,
        "start_time": "2022-10-03T22:34:18.878Z"
      },
      {
        "duration": 553,
        "start_time": "2022-10-03T22:34:57.162Z"
      },
      {
        "duration": 509,
        "start_time": "2022-10-03T22:35:14.210Z"
      },
      {
        "duration": 47,
        "start_time": "2022-10-03T22:36:12.198Z"
      },
      {
        "duration": 12,
        "start_time": "2022-10-03T22:36:17.335Z"
      },
      {
        "duration": 485,
        "start_time": "2022-10-03T22:36:33.945Z"
      },
      {
        "duration": 13,
        "start_time": "2022-10-03T22:37:04.570Z"
      },
      {
        "duration": 20,
        "start_time": "2022-10-03T22:37:37.687Z"
      },
      {
        "duration": 6,
        "start_time": "2022-10-03T22:37:41.682Z"
      },
      {
        "duration": 613,
        "start_time": "2022-10-03T22:37:42.332Z"
      },
      {
        "duration": 33,
        "start_time": "2022-10-03T22:38:21.718Z"
      },
      {
        "duration": 6,
        "start_time": "2022-10-03T22:38:25.535Z"
      },
      {
        "duration": 491,
        "start_time": "2022-10-03T22:38:25.895Z"
      },
      {
        "duration": 35,
        "start_time": "2022-10-03T22:40:18.582Z"
      },
      {
        "duration": 35,
        "start_time": "2022-10-03T22:40:43.417Z"
      },
      {
        "duration": 7,
        "start_time": "2022-10-03T22:40:47.055Z"
      },
      {
        "duration": 457,
        "start_time": "2022-10-03T22:40:47.400Z"
      },
      {
        "duration": 8,
        "start_time": "2022-10-03T22:41:31.747Z"
      },
      {
        "duration": 3,
        "start_time": "2022-10-03T22:41:34.986Z"
      },
      {
        "duration": 659,
        "start_time": "2022-10-03T22:41:35.411Z"
      },
      {
        "duration": 2,
        "start_time": "2022-10-03T22:41:36.072Z"
      },
      {
        "duration": 96,
        "start_time": "2022-10-03T22:41:36.076Z"
      },
      {
        "duration": 146,
        "start_time": "2022-10-03T22:41:36.174Z"
      },
      {
        "duration": 4,
        "start_time": "2022-10-03T22:41:36.322Z"
      },
      {
        "duration": 6,
        "start_time": "2022-10-03T22:41:36.839Z"
      },
      {
        "duration": 3,
        "start_time": "2022-10-03T22:41:37.190Z"
      },
      {
        "duration": 4,
        "start_time": "2022-10-03T22:41:37.356Z"
      },
      {
        "duration": 4,
        "start_time": "2022-10-03T22:41:37.534Z"
      },
      {
        "duration": 5,
        "start_time": "2022-10-03T22:41:38.222Z"
      },
      {
        "duration": 9,
        "start_time": "2022-10-03T22:41:39.134Z"
      },
      {
        "duration": 3,
        "start_time": "2022-10-03T22:41:39.473Z"
      },
      {
        "duration": 135,
        "start_time": "2022-10-03T22:41:39.655Z"
      },
      {
        "duration": 15,
        "start_time": "2022-10-03T22:41:39.898Z"
      },
      {
        "duration": 11,
        "start_time": "2022-10-03T22:41:40.408Z"
      },
      {
        "duration": 3,
        "start_time": "2022-10-03T22:41:40.625Z"
      },
      {
        "duration": 4,
        "start_time": "2022-10-03T22:41:40.813Z"
      },
      {
        "duration": 469,
        "start_time": "2022-10-03T22:41:42.123Z"
      },
      {
        "duration": 495,
        "start_time": "2022-10-03T22:41:42.691Z"
      },
      {
        "duration": 570,
        "start_time": "2022-10-03T22:41:43.294Z"
      },
      {
        "duration": 388,
        "start_time": "2022-10-03T22:41:43.872Z"
      },
      {
        "duration": 6,
        "start_time": "2022-10-03T22:41:46.858Z"
      },
      {
        "duration": 479,
        "start_time": "2022-10-03T22:41:47.293Z"
      },
      {
        "duration": 14,
        "start_time": "2022-10-03T22:42:04.058Z"
      },
      {
        "duration": 8,
        "start_time": "2022-10-03T22:42:08.758Z"
      },
      {
        "duration": 581,
        "start_time": "2022-10-03T22:42:09.268Z"
      },
      {
        "duration": 3,
        "start_time": "2022-10-03T22:43:23.572Z"
      },
      {
        "duration": 697,
        "start_time": "2022-10-03T22:43:23.933Z"
      },
      {
        "duration": 3,
        "start_time": "2022-10-03T22:43:24.631Z"
      },
      {
        "duration": 101,
        "start_time": "2022-10-03T22:43:24.636Z"
      },
      {
        "duration": 142,
        "start_time": "2022-10-03T22:43:24.738Z"
      },
      {
        "duration": 6,
        "start_time": "2022-10-03T22:43:24.881Z"
      },
      {
        "duration": 6,
        "start_time": "2022-10-03T22:43:25.456Z"
      },
      {
        "duration": 2,
        "start_time": "2022-10-03T22:43:25.780Z"
      },
      {
        "duration": 4,
        "start_time": "2022-10-03T22:43:25.927Z"
      },
      {
        "duration": 4,
        "start_time": "2022-10-03T22:43:26.141Z"
      },
      {
        "duration": 5,
        "start_time": "2022-10-03T22:43:26.759Z"
      },
      {
        "duration": 7,
        "start_time": "2022-10-03T22:43:27.586Z"
      },
      {
        "duration": 3,
        "start_time": "2022-10-03T22:43:27.912Z"
      },
      {
        "duration": 19,
        "start_time": "2022-10-03T22:43:28.058Z"
      },
      {
        "duration": 18,
        "start_time": "2022-10-03T22:43:28.222Z"
      },
      {
        "duration": 10,
        "start_time": "2022-10-03T22:43:28.870Z"
      },
      {
        "duration": 3,
        "start_time": "2022-10-03T22:43:29.107Z"
      },
      {
        "duration": 5,
        "start_time": "2022-10-03T22:43:29.346Z"
      },
      {
        "duration": 449,
        "start_time": "2022-10-03T22:43:30.414Z"
      },
      {
        "duration": 463,
        "start_time": "2022-10-03T22:43:30.881Z"
      },
      {
        "duration": 576,
        "start_time": "2022-10-03T22:43:31.346Z"
      },
      {
        "duration": 355,
        "start_time": "2022-10-03T22:43:31.924Z"
      },
      {
        "duration": 6,
        "start_time": "2022-10-03T22:43:33.593Z"
      },
      {
        "duration": 535,
        "start_time": "2022-10-03T22:43:34.135Z"
      },
      {
        "duration": 158,
        "start_time": "2022-10-03T22:45:55.802Z"
      },
      {
        "duration": 4,
        "start_time": "2022-10-03T22:46:24.131Z"
      },
      {
        "duration": 1451,
        "start_time": "2022-10-04T20:31:50.039Z"
      },
      {
        "duration": 3273,
        "start_time": "2022-10-04T20:31:51.492Z"
      },
      {
        "duration": 3,
        "start_time": "2022-10-04T20:31:54.767Z"
      },
      {
        "duration": 100,
        "start_time": "2022-10-04T20:31:54.772Z"
      },
      {
        "duration": 167,
        "start_time": "2022-10-04T20:31:54.873Z"
      },
      {
        "duration": 6,
        "start_time": "2022-10-04T20:31:55.042Z"
      },
      {
        "duration": 12,
        "start_time": "2022-10-04T20:31:55.050Z"
      },
      {
        "duration": 9,
        "start_time": "2022-10-04T20:31:55.063Z"
      },
      {
        "duration": 6,
        "start_time": "2022-10-04T20:31:55.074Z"
      },
      {
        "duration": 3,
        "start_time": "2022-10-04T20:31:55.083Z"
      },
      {
        "duration": 10,
        "start_time": "2022-10-04T20:31:55.088Z"
      },
      {
        "duration": 12,
        "start_time": "2022-10-04T20:31:55.100Z"
      },
      {
        "duration": 3,
        "start_time": "2022-10-04T20:31:55.134Z"
      },
      {
        "duration": 60,
        "start_time": "2022-10-04T20:31:55.139Z"
      },
      {
        "duration": 15,
        "start_time": "2022-10-04T20:31:55.201Z"
      },
      {
        "duration": 25,
        "start_time": "2022-10-04T20:31:55.218Z"
      },
      {
        "duration": 3,
        "start_time": "2022-10-04T20:31:55.245Z"
      },
      {
        "duration": 6,
        "start_time": "2022-10-04T20:31:55.250Z"
      },
      {
        "duration": 568,
        "start_time": "2022-10-04T20:31:55.257Z"
      },
      {
        "duration": 534,
        "start_time": "2022-10-04T20:31:55.827Z"
      },
      {
        "duration": 535,
        "start_time": "2022-10-04T20:31:56.363Z"
      },
      {
        "duration": 493,
        "start_time": "2022-10-04T20:31:56.899Z"
      },
      {
        "duration": 7,
        "start_time": "2022-10-04T20:31:57.394Z"
      },
      {
        "duration": 479,
        "start_time": "2022-10-04T20:31:57.402Z"
      },
      {
        "duration": 106,
        "start_time": "2022-10-04T20:54:54.962Z"
      },
      {
        "duration": 689,
        "start_time": "2022-10-04T20:55:05.450Z"
      },
      {
        "duration": 6,
        "start_time": "2022-10-04T20:56:15.225Z"
      },
      {
        "duration": 4,
        "start_time": "2022-10-04T21:04:14.593Z"
      },
      {
        "duration": 6,
        "start_time": "2022-10-04T21:04:52.861Z"
      },
      {
        "duration": 23,
        "start_time": "2022-10-04T21:04:59.483Z"
      },
      {
        "duration": 6,
        "start_time": "2022-10-04T21:05:08.784Z"
      },
      {
        "duration": 9,
        "start_time": "2022-10-04T21:05:15.788Z"
      },
      {
        "duration": 9,
        "start_time": "2022-10-04T21:05:20.930Z"
      },
      {
        "duration": 5,
        "start_time": "2022-10-04T21:05:24.741Z"
      },
      {
        "duration": 3,
        "start_time": "2022-10-04T21:07:04.586Z"
      },
      {
        "duration": 6,
        "start_time": "2022-10-04T21:07:05.371Z"
      },
      {
        "duration": 35,
        "start_time": "2022-10-04T21:07:06.149Z"
      },
      {
        "duration": 6,
        "start_time": "2022-10-04T21:08:19.499Z"
      },
      {
        "duration": 24,
        "start_time": "2022-10-04T21:08:20.622Z"
      },
      {
        "duration": 1351,
        "start_time": "2022-10-04T21:08:28.826Z"
      },
      {
        "duration": 678,
        "start_time": "2022-10-04T21:08:30.182Z"
      },
      {
        "duration": 3,
        "start_time": "2022-10-04T21:08:30.862Z"
      },
      {
        "duration": 133,
        "start_time": "2022-10-04T21:08:30.867Z"
      },
      {
        "duration": 169,
        "start_time": "2022-10-04T21:08:31.003Z"
      },
      {
        "duration": 9,
        "start_time": "2022-10-04T21:08:31.174Z"
      },
      {
        "duration": 20,
        "start_time": "2022-10-04T21:08:31.185Z"
      },
      {
        "duration": 15,
        "start_time": "2022-10-04T21:08:31.207Z"
      },
      {
        "duration": 15,
        "start_time": "2022-10-04T21:08:31.224Z"
      },
      {
        "duration": 7,
        "start_time": "2022-10-04T21:08:31.241Z"
      },
      {
        "duration": 6,
        "start_time": "2022-10-04T21:08:31.250Z"
      },
      {
        "duration": 22,
        "start_time": "2022-10-04T21:08:31.258Z"
      },
      {
        "duration": 15,
        "start_time": "2022-10-04T21:08:31.281Z"
      },
      {
        "duration": 71,
        "start_time": "2022-10-04T21:08:31.298Z"
      },
      {
        "duration": 16,
        "start_time": "2022-10-04T21:08:31.371Z"
      },
      {
        "duration": 13,
        "start_time": "2022-10-04T21:08:31.389Z"
      },
      {
        "duration": 4,
        "start_time": "2022-10-04T21:08:31.404Z"
      },
      {
        "duration": 6,
        "start_time": "2022-10-04T21:08:31.434Z"
      },
      {
        "duration": 571,
        "start_time": "2022-10-04T21:08:31.441Z"
      },
      {
        "duration": 500,
        "start_time": "2022-10-04T21:08:32.013Z"
      },
      {
        "duration": 491,
        "start_time": "2022-10-04T21:08:32.515Z"
      },
      {
        "duration": 495,
        "start_time": "2022-10-04T21:08:33.007Z"
      },
      {
        "duration": 8,
        "start_time": "2022-10-04T21:08:33.504Z"
      },
      {
        "duration": 506,
        "start_time": "2022-10-04T21:08:33.514Z"
      },
      {
        "duration": 12,
        "start_time": "2022-10-04T21:08:34.022Z"
      },
      {
        "duration": 2,
        "start_time": "2022-10-04T21:08:34.037Z"
      },
      {
        "duration": 9,
        "start_time": "2022-10-04T21:08:34.041Z"
      },
      {
        "duration": 30,
        "start_time": "2022-10-04T21:08:34.052Z"
      },
      {
        "duration": 7,
        "start_time": "2022-10-04T21:09:49.667Z"
      },
      {
        "duration": 23,
        "start_time": "2022-10-04T21:09:50.551Z"
      },
      {
        "duration": 111,
        "start_time": "2022-10-04T21:12:18.252Z"
      },
      {
        "duration": 4,
        "start_time": "2022-10-04T21:12:34.272Z"
      },
      {
        "duration": 697,
        "start_time": "2022-10-04T21:12:34.278Z"
      },
      {
        "duration": 3,
        "start_time": "2022-10-04T21:12:34.976Z"
      },
      {
        "duration": 99,
        "start_time": "2022-10-04T21:12:34.980Z"
      },
      {
        "duration": 146,
        "start_time": "2022-10-04T21:12:35.081Z"
      },
      {
        "duration": 6,
        "start_time": "2022-10-04T21:12:35.234Z"
      },
      {
        "duration": 6,
        "start_time": "2022-10-04T21:12:36.277Z"
      },
      {
        "duration": 3,
        "start_time": "2022-10-04T21:12:37.096Z"
      },
      {
        "duration": 4,
        "start_time": "2022-10-04T21:12:37.668Z"
      },
      {
        "duration": 5,
        "start_time": "2022-10-04T21:12:38.184Z"
      },
      {
        "duration": 6,
        "start_time": "2022-10-04T21:12:40.089Z"
      },
      {
        "duration": 9,
        "start_time": "2022-10-04T21:12:45.721Z"
      },
      {
        "duration": 4,
        "start_time": "2022-10-04T21:12:47.729Z"
      },
      {
        "duration": 19,
        "start_time": "2022-10-04T21:12:47.956Z"
      },
      {
        "duration": 16,
        "start_time": "2022-10-04T21:12:48.227Z"
      },
      {
        "duration": 11,
        "start_time": "2022-10-04T21:12:48.826Z"
      },
      {
        "duration": 4,
        "start_time": "2022-10-04T21:12:49.034Z"
      },
      {
        "duration": 4,
        "start_time": "2022-10-04T21:12:49.222Z"
      },
      {
        "duration": 485,
        "start_time": "2022-10-04T21:12:50.329Z"
      },
      {
        "duration": 586,
        "start_time": "2022-10-04T21:12:50.816Z"
      },
      {
        "duration": 460,
        "start_time": "2022-10-04T21:12:51.403Z"
      },
      {
        "duration": 389,
        "start_time": "2022-10-04T21:12:51.865Z"
      },
      {
        "duration": 6,
        "start_time": "2022-10-04T21:12:52.256Z"
      },
      {
        "duration": 660,
        "start_time": "2022-10-04T21:12:52.264Z"
      },
      {
        "duration": 12,
        "start_time": "2022-10-04T21:12:52.926Z"
      },
      {
        "duration": 8,
        "start_time": "2022-10-04T21:12:52.939Z"
      },
      {
        "duration": 7,
        "start_time": "2022-10-04T21:12:52.949Z"
      },
      {
        "duration": 35,
        "start_time": "2022-10-04T21:12:52.958Z"
      },
      {
        "duration": 12,
        "start_time": "2022-10-04T21:13:28.688Z"
      },
      {
        "duration": 6,
        "start_time": "2022-10-04T21:14:12.209Z"
      },
      {
        "duration": 1300,
        "start_time": "2022-10-04T21:14:18.030Z"
      },
      {
        "duration": 686,
        "start_time": "2022-10-04T21:14:19.331Z"
      },
      {
        "duration": 3,
        "start_time": "2022-10-04T21:14:20.018Z"
      },
      {
        "duration": 111,
        "start_time": "2022-10-04T21:14:20.023Z"
      },
      {
        "duration": 148,
        "start_time": "2022-10-04T21:14:20.136Z"
      },
      {
        "duration": 6,
        "start_time": "2022-10-04T21:14:20.285Z"
      },
      {
        "duration": 19,
        "start_time": "2022-10-04T21:14:20.292Z"
      },
      {
        "duration": 7,
        "start_time": "2022-10-04T21:14:20.312Z"
      },
      {
        "duration": 19,
        "start_time": "2022-10-04T21:14:20.320Z"
      },
      {
        "duration": 9,
        "start_time": "2022-10-04T21:14:20.342Z"
      },
      {
        "duration": 10,
        "start_time": "2022-10-04T21:14:20.353Z"
      },
      {
        "duration": 15,
        "start_time": "2022-10-04T21:14:20.364Z"
      },
      {
        "duration": 11,
        "start_time": "2022-10-04T21:14:20.380Z"
      },
      {
        "duration": 59,
        "start_time": "2022-10-04T21:14:20.392Z"
      },
      {
        "duration": 15,
        "start_time": "2022-10-04T21:14:20.453Z"
      },
      {
        "duration": 13,
        "start_time": "2022-10-04T21:14:20.469Z"
      },
      {
        "duration": 4,
        "start_time": "2022-10-04T21:14:20.483Z"
      },
      {
        "duration": 8,
        "start_time": "2022-10-04T21:14:20.489Z"
      },
      {
        "duration": 599,
        "start_time": "2022-10-04T21:14:20.499Z"
      },
      {
        "duration": 480,
        "start_time": "2022-10-04T21:14:21.099Z"
      },
      {
        "duration": 448,
        "start_time": "2022-10-04T21:14:21.580Z"
      },
      {
        "duration": 464,
        "start_time": "2022-10-04T21:14:22.033Z"
      },
      {
        "duration": 6,
        "start_time": "2022-10-04T21:14:22.499Z"
      },
      {
        "duration": 474,
        "start_time": "2022-10-04T21:14:22.506Z"
      },
      {
        "duration": 7,
        "start_time": "2022-10-04T21:14:22.982Z"
      },
      {
        "duration": 13,
        "start_time": "2022-10-04T21:14:22.990Z"
      },
      {
        "duration": 8,
        "start_time": "2022-10-04T21:14:23.004Z"
      },
      {
        "duration": 28,
        "start_time": "2022-10-04T21:14:23.015Z"
      },
      {
        "duration": 6,
        "start_time": "2022-10-04T21:16:24.006Z"
      },
      {
        "duration": 2,
        "start_time": "2022-10-04T21:16:24.480Z"
      },
      {
        "duration": 6,
        "start_time": "2022-10-04T21:16:24.971Z"
      },
      {
        "duration": 24,
        "start_time": "2022-10-04T21:16:25.946Z"
      },
      {
        "duration": 3,
        "start_time": "2022-10-04T21:16:36.474Z"
      },
      {
        "duration": 7,
        "start_time": "2022-10-04T21:19:44.496Z"
      },
      {
        "duration": 5,
        "start_time": "2022-10-04T21:23:42.836Z"
      },
      {
        "duration": 3,
        "start_time": "2022-10-04T21:26:57.793Z"
      },
      {
        "duration": 5,
        "start_time": "2022-10-04T21:27:08.259Z"
      },
      {
        "duration": 4,
        "start_time": "2022-10-04T21:27:17.746Z"
      },
      {
        "duration": 5,
        "start_time": "2022-10-04T21:27:31.118Z"
      },
      {
        "duration": 5,
        "start_time": "2022-10-04T21:28:12.999Z"
      },
      {
        "duration": 4,
        "start_time": "2022-10-04T21:29:20.420Z"
      },
      {
        "duration": 5,
        "start_time": "2022-10-04T21:30:35.884Z"
      },
      {
        "duration": 5,
        "start_time": "2022-10-04T21:31:09.173Z"
      },
      {
        "duration": 4,
        "start_time": "2022-10-04T21:32:08.580Z"
      },
      {
        "duration": 4,
        "start_time": "2022-10-04T21:32:28.065Z"
      },
      {
        "duration": 4,
        "start_time": "2022-10-04T21:32:55.730Z"
      },
      {
        "duration": 5,
        "start_time": "2022-10-04T21:33:15.532Z"
      },
      {
        "duration": 5,
        "start_time": "2022-10-04T21:33:41.133Z"
      },
      {
        "duration": 4,
        "start_time": "2022-10-04T21:34:01.852Z"
      },
      {
        "duration": 4,
        "start_time": "2022-10-04T21:34:12.289Z"
      },
      {
        "duration": 4,
        "start_time": "2022-10-04T21:34:28.960Z"
      },
      {
        "duration": 6,
        "start_time": "2022-10-04T21:34:56.226Z"
      },
      {
        "duration": 5,
        "start_time": "2022-10-04T21:35:48.000Z"
      },
      {
        "duration": 914,
        "start_time": "2022-10-04T21:36:10.349Z"
      },
      {
        "duration": 10,
        "start_time": "2022-10-04T21:36:23.202Z"
      },
      {
        "duration": 5,
        "start_time": "2022-10-04T21:36:27.016Z"
      },
      {
        "duration": 7,
        "start_time": "2022-10-04T21:36:27.561Z"
      },
      {
        "duration": 3638,
        "start_time": "2022-10-04T21:36:33.107Z"
      },
      {
        "duration": 5,
        "start_time": "2022-10-04T21:36:44.372Z"
      },
      {
        "duration": 29,
        "start_time": "2022-10-04T21:36:44.907Z"
      },
      {
        "duration": 3,
        "start_time": "2022-10-04T21:37:03.560Z"
      },
      {
        "duration": 7,
        "start_time": "2022-10-04T21:37:09.782Z"
      },
      {
        "duration": 3482,
        "start_time": "2022-10-04T21:57:03.701Z"
      },
      {
        "duration": 1304,
        "start_time": "2022-10-04T21:57:13.510Z"
      },
      {
        "duration": 699,
        "start_time": "2022-10-04T21:57:14.816Z"
      },
      {
        "duration": 3,
        "start_time": "2022-10-04T21:57:15.517Z"
      },
      {
        "duration": 118,
        "start_time": "2022-10-04T21:57:15.522Z"
      },
      {
        "duration": 165,
        "start_time": "2022-10-04T21:57:15.641Z"
      },
      {
        "duration": 6,
        "start_time": "2022-10-04T21:57:15.807Z"
      },
      {
        "duration": 36,
        "start_time": "2022-10-04T21:57:15.815Z"
      },
      {
        "duration": 4,
        "start_time": "2022-10-04T21:57:15.852Z"
      },
      {
        "duration": 10,
        "start_time": "2022-10-04T21:57:15.858Z"
      },
      {
        "duration": 5,
        "start_time": "2022-10-04T21:57:15.870Z"
      },
      {
        "duration": 8,
        "start_time": "2022-10-04T21:57:15.877Z"
      },
      {
        "duration": 14,
        "start_time": "2022-10-04T21:57:15.886Z"
      },
      {
        "duration": 6,
        "start_time": "2022-10-04T21:57:15.901Z"
      },
      {
        "duration": 68,
        "start_time": "2022-10-04T21:57:15.908Z"
      },
      {
        "duration": 14,
        "start_time": "2022-10-04T21:57:15.977Z"
      },
      {
        "duration": 13,
        "start_time": "2022-10-04T21:57:15.992Z"
      },
      {
        "duration": 4,
        "start_time": "2022-10-04T21:57:16.006Z"
      },
      {
        "duration": 7,
        "start_time": "2022-10-04T21:57:16.033Z"
      },
      {
        "duration": 680,
        "start_time": "2022-10-04T21:57:16.042Z"
      },
      {
        "duration": 502,
        "start_time": "2022-10-04T21:57:16.724Z"
      },
      {
        "duration": 484,
        "start_time": "2022-10-04T21:57:17.228Z"
      },
      {
        "duration": 485,
        "start_time": "2022-10-04T21:57:17.714Z"
      },
      {
        "duration": 7,
        "start_time": "2022-10-04T21:57:18.201Z"
      },
      {
        "duration": 493,
        "start_time": "2022-10-04T21:57:18.210Z"
      },
      {
        "duration": 4,
        "start_time": "2022-10-04T21:57:18.704Z"
      },
      {
        "duration": 23,
        "start_time": "2022-10-04T21:57:18.710Z"
      },
      {
        "duration": 4,
        "start_time": "2022-10-04T21:58:29.973Z"
      },
      {
        "duration": 3,
        "start_time": "2022-10-04T22:04:29.391Z"
      },
      {
        "duration": 1326,
        "start_time": "2022-10-04T22:06:07.859Z"
      },
      {
        "duration": 4,
        "start_time": "2022-10-04T22:10:51.395Z"
      },
      {
        "duration": 1001241,
        "start_time": "2022-10-04T22:15:04.602Z"
      },
      {
        "duration": 1590,
        "start_time": "2022-10-05T14:17:47.942Z"
      },
      {
        "duration": 3136,
        "start_time": "2022-10-05T14:17:49.534Z"
      },
      {
        "duration": 3,
        "start_time": "2022-10-05T14:17:52.672Z"
      },
      {
        "duration": 87,
        "start_time": "2022-10-05T14:17:53.834Z"
      },
      {
        "duration": 138,
        "start_time": "2022-10-05T14:17:54.824Z"
      },
      {
        "duration": 6,
        "start_time": "2022-10-05T14:17:55.398Z"
      },
      {
        "duration": 6,
        "start_time": "2022-10-05T14:17:56.569Z"
      },
      {
        "duration": 3,
        "start_time": "2022-10-05T14:17:57.221Z"
      },
      {
        "duration": 5,
        "start_time": "2022-10-05T14:17:57.525Z"
      },
      {
        "duration": 5,
        "start_time": "2022-10-05T14:17:57.949Z"
      },
      {
        "duration": 6,
        "start_time": "2022-10-05T14:17:59.451Z"
      },
      {
        "duration": 9,
        "start_time": "2022-10-05T14:18:01.143Z"
      },
      {
        "duration": 3,
        "start_time": "2022-10-05T14:18:01.686Z"
      },
      {
        "duration": 56,
        "start_time": "2022-10-05T14:18:02.109Z"
      },
      {
        "duration": 15,
        "start_time": "2022-10-05T14:18:02.950Z"
      },
      {
        "duration": 12,
        "start_time": "2022-10-05T14:18:04.188Z"
      },
      {
        "duration": 4,
        "start_time": "2022-10-05T14:18:04.479Z"
      },
      {
        "duration": 4,
        "start_time": "2022-10-05T14:18:04.793Z"
      },
      {
        "duration": 519,
        "start_time": "2022-10-05T14:18:07.020Z"
      },
      {
        "duration": 445,
        "start_time": "2022-10-05T14:18:08.203Z"
      },
      {
        "duration": 432,
        "start_time": "2022-10-05T14:18:09.434Z"
      },
      {
        "duration": 457,
        "start_time": "2022-10-05T14:18:16.038Z"
      },
      {
        "duration": 5,
        "start_time": "2022-10-05T14:18:19.712Z"
      },
      {
        "duration": 469,
        "start_time": "2022-10-05T14:18:20.938Z"
      },
      {
        "duration": 114,
        "start_time": "2022-10-05T14:19:52.801Z"
      },
      {
        "duration": 4,
        "start_time": "2022-10-05T14:19:59.558Z"
      },
      {
        "duration": 7,
        "start_time": "2022-10-05T14:19:59.755Z"
      },
      {
        "duration": 3,
        "start_time": "2022-10-05T14:20:03.599Z"
      },
      {
        "duration": 9,
        "start_time": "2022-10-05T14:25:46.969Z"
      },
      {
        "duration": 283,
        "start_time": "2022-10-05T14:25:56.812Z"
      },
      {
        "duration": 3,
        "start_time": "2022-10-05T14:26:02.456Z"
      },
      {
        "duration": 538,
        "start_time": "2022-10-05T14:44:52.787Z"
      },
      {
        "duration": 527,
        "start_time": "2022-10-05T14:45:08.627Z"
      },
      {
        "duration": 550,
        "start_time": "2022-10-05T14:45:14.147Z"
      },
      {
        "duration": 532,
        "start_time": "2022-10-05T14:47:00.951Z"
      },
      {
        "duration": 525,
        "start_time": "2022-10-05T14:47:26.686Z"
      },
      {
        "duration": 12,
        "start_time": "2022-10-05T14:50:31.610Z"
      },
      {
        "duration": 548,
        "start_time": "2022-10-05T14:51:20.565Z"
      },
      {
        "duration": 94,
        "start_time": "2022-10-05T14:51:38.966Z"
      },
      {
        "duration": 561,
        "start_time": "2022-10-05T14:51:58.028Z"
      },
      {
        "duration": 10,
        "start_time": "2022-10-05T14:52:01.158Z"
      },
      {
        "duration": 4,
        "start_time": "2022-10-05T15:04:03.478Z"
      },
      {
        "duration": 203,
        "start_time": "2022-10-05T15:06:38.384Z"
      },
      {
        "duration": 194,
        "start_time": "2022-10-05T15:06:53.639Z"
      },
      {
        "duration": 191,
        "start_time": "2022-10-05T15:07:00.248Z"
      },
      {
        "duration": 201,
        "start_time": "2022-10-05T15:07:06.429Z"
      },
      {
        "duration": 68,
        "start_time": "2022-10-05T15:13:17.473Z"
      },
      {
        "duration": 3,
        "start_time": "2022-10-05T15:13:31.508Z"
      },
      {
        "duration": 4,
        "start_time": "2022-10-05T15:15:03.750Z"
      },
      {
        "duration": 204,
        "start_time": "2022-10-05T15:15:05.226Z"
      },
      {
        "duration": 3,
        "start_time": "2022-10-05T15:16:50.988Z"
      },
      {
        "duration": 196,
        "start_time": "2022-10-05T15:16:52.253Z"
      },
      {
        "duration": 197,
        "start_time": "2022-10-05T15:18:35.864Z"
      },
      {
        "duration": 4,
        "start_time": "2022-10-05T15:18:40.528Z"
      },
      {
        "duration": 193,
        "start_time": "2022-10-05T15:18:41.882Z"
      },
      {
        "duration": 210,
        "start_time": "2022-10-05T15:20:38.579Z"
      },
      {
        "duration": 12,
        "start_time": "2022-10-05T15:22:00.962Z"
      },
      {
        "duration": 50,
        "start_time": "2022-10-05T15:22:43.189Z"
      },
      {
        "duration": 479,
        "start_time": "2022-10-05T15:22:51.302Z"
      },
      {
        "duration": 10,
        "start_time": "2022-10-05T15:23:08.490Z"
      },
      {
        "duration": 11405,
        "start_time": "2022-10-05T15:24:39.497Z"
      },
      {
        "duration": 194,
        "start_time": "2022-10-05T15:25:13.840Z"
      },
      {
        "duration": 11397,
        "start_time": "2022-10-05T15:25:15.357Z"
      },
      {
        "duration": 27220,
        "start_time": "2022-10-05T15:25:35.147Z"
      },
      {
        "duration": 12930,
        "start_time": "2022-10-05T15:26:27.283Z"
      },
      {
        "duration": 137,
        "start_time": "2022-10-05T15:28:32.238Z"
      },
      {
        "duration": 394,
        "start_time": "2022-10-05T15:28:40.814Z"
      },
      {
        "duration": 1430,
        "start_time": "2022-10-05T15:29:03.884Z"
      },
      {
        "duration": 1240,
        "start_time": "2022-10-05T15:29:05.316Z"
      },
      {
        "duration": 53,
        "start_time": "2022-10-05T15:29:06.558Z"
      },
      {
        "duration": 226,
        "start_time": "2022-10-05T15:29:06.614Z"
      },
      {
        "duration": 190,
        "start_time": "2022-10-05T15:29:06.841Z"
      },
      {
        "duration": 4,
        "start_time": "2022-10-05T15:29:07.033Z"
      },
      {
        "duration": 6,
        "start_time": "2022-10-05T15:29:07.039Z"
      },
      {
        "duration": 2,
        "start_time": "2022-10-05T15:29:07.047Z"
      },
      {
        "duration": 5,
        "start_time": "2022-10-05T15:29:07.050Z"
      },
      {
        "duration": 3,
        "start_time": "2022-10-05T15:29:07.058Z"
      },
      {
        "duration": 8,
        "start_time": "2022-10-05T15:29:07.063Z"
      },
      {
        "duration": 37,
        "start_time": "2022-10-05T15:29:07.072Z"
      },
      {
        "duration": 5,
        "start_time": "2022-10-05T15:29:07.111Z"
      },
      {
        "duration": 56,
        "start_time": "2022-10-05T15:29:07.117Z"
      },
      {
        "duration": 14,
        "start_time": "2022-10-05T15:29:07.174Z"
      },
      {
        "duration": 25,
        "start_time": "2022-10-05T15:29:07.190Z"
      },
      {
        "duration": 2,
        "start_time": "2022-10-05T15:29:07.217Z"
      },
      {
        "duration": 4,
        "start_time": "2022-10-05T15:29:07.221Z"
      },
      {
        "duration": 543,
        "start_time": "2022-10-05T15:29:07.227Z"
      },
      {
        "duration": 451,
        "start_time": "2022-10-05T15:29:07.772Z"
      },
      {
        "duration": 441,
        "start_time": "2022-10-05T15:29:08.225Z"
      },
      {
        "duration": 452,
        "start_time": "2022-10-05T15:29:08.668Z"
      },
      {
        "duration": 7,
        "start_time": "2022-10-05T15:29:09.122Z"
      },
      {
        "duration": 446,
        "start_time": "2022-10-05T15:29:09.130Z"
      },
      {
        "duration": 3,
        "start_time": "2022-10-05T15:29:09.578Z"
      },
      {
        "duration": 8,
        "start_time": "2022-10-05T15:29:09.583Z"
      },
      {
        "duration": 21,
        "start_time": "2022-10-05T15:29:09.593Z"
      },
      {
        "duration": 7,
        "start_time": "2022-10-05T15:29:09.618Z"
      },
      {
        "duration": 14,
        "start_time": "2022-10-05T15:29:09.627Z"
      },
      {
        "duration": 201,
        "start_time": "2022-10-05T15:29:09.643Z"
      },
      {
        "duration": 13008,
        "start_time": "2022-10-05T15:29:09.846Z"
      },
      {
        "duration": 260,
        "start_time": "2022-10-05T15:29:22.855Z"
      },
      {
        "duration": 93,
        "start_time": "2022-10-05T15:29:23.117Z"
      },
      {
        "duration": 1934,
        "start_time": "2022-10-05T15:30:38.286Z"
      },
      {
        "duration": 949,
        "start_time": "2022-10-05T15:30:40.221Z"
      },
      {
        "duration": 3,
        "start_time": "2022-10-05T15:30:41.172Z"
      },
      {
        "duration": 94,
        "start_time": "2022-10-05T15:30:41.176Z"
      },
      {
        "duration": 155,
        "start_time": "2022-10-05T15:30:41.272Z"
      },
      {
        "duration": 5,
        "start_time": "2022-10-05T15:30:41.428Z"
      },
      {
        "duration": 6,
        "start_time": "2022-10-05T15:30:41.434Z"
      },
      {
        "duration": 2,
        "start_time": "2022-10-05T15:30:41.442Z"
      },
      {
        "duration": 6,
        "start_time": "2022-10-05T15:30:41.446Z"
      },
      {
        "duration": 3,
        "start_time": "2022-10-05T15:30:41.454Z"
      },
      {
        "duration": 6,
        "start_time": "2022-10-05T15:30:41.459Z"
      },
      {
        "duration": 43,
        "start_time": "2022-10-05T15:30:41.466Z"
      },
      {
        "duration": 3,
        "start_time": "2022-10-05T15:30:41.511Z"
      },
      {
        "duration": 65,
        "start_time": "2022-10-05T15:30:41.516Z"
      },
      {
        "duration": 37,
        "start_time": "2022-10-05T15:30:41.583Z"
      },
      {
        "duration": 14,
        "start_time": "2022-10-05T15:30:41.622Z"
      },
      {
        "duration": 4,
        "start_time": "2022-10-05T15:30:41.638Z"
      },
      {
        "duration": 6,
        "start_time": "2022-10-05T15:30:41.643Z"
      },
      {
        "duration": 534,
        "start_time": "2022-10-05T15:30:41.650Z"
      },
      {
        "duration": 433,
        "start_time": "2022-10-05T15:30:42.185Z"
      },
      {
        "duration": 424,
        "start_time": "2022-10-05T15:30:42.619Z"
      },
      {
        "duration": 450,
        "start_time": "2022-10-05T15:30:43.044Z"
      },
      {
        "duration": 6,
        "start_time": "2022-10-05T15:30:43.495Z"
      },
      {
        "duration": 460,
        "start_time": "2022-10-05T15:30:43.509Z"
      },
      {
        "duration": 3,
        "start_time": "2022-10-05T15:30:43.971Z"
      },
      {
        "duration": 14,
        "start_time": "2022-10-05T15:30:43.976Z"
      },
      {
        "duration": 6,
        "start_time": "2022-10-05T15:30:43.992Z"
      },
      {
        "duration": 4,
        "start_time": "2022-10-05T15:30:44.008Z"
      },
      {
        "duration": 4,
        "start_time": "2022-10-05T15:30:44.014Z"
      },
      {
        "duration": 219,
        "start_time": "2022-10-05T15:30:44.020Z"
      },
      {
        "duration": 13089,
        "start_time": "2022-10-05T15:30:44.240Z"
      },
      {
        "duration": 285,
        "start_time": "2022-10-05T15:30:57.330Z"
      },
      {
        "duration": 93,
        "start_time": "2022-10-05T15:30:57.617Z"
      },
      {
        "duration": 369,
        "start_time": "2022-10-05T15:35:48.042Z"
      },
      {
        "duration": 5,
        "start_time": "2022-10-05T15:36:25.677Z"
      },
      {
        "duration": 196,
        "start_time": "2022-10-05T15:36:27.718Z"
      },
      {
        "duration": 12929,
        "start_time": "2022-10-05T15:36:29.686Z"
      },
      {
        "duration": 391,
        "start_time": "2022-10-05T15:36:42.617Z"
      },
      {
        "duration": 1623,
        "start_time": "2022-10-05T18:30:09.594Z"
      },
      {
        "duration": 3222,
        "start_time": "2022-10-05T18:30:11.219Z"
      },
      {
        "duration": 4,
        "start_time": "2022-10-05T18:30:14.442Z"
      },
      {
        "duration": 103,
        "start_time": "2022-10-05T18:30:14.448Z"
      },
      {
        "duration": 188,
        "start_time": "2022-10-05T18:30:14.552Z"
      },
      {
        "duration": 7,
        "start_time": "2022-10-05T18:30:14.742Z"
      },
      {
        "duration": 10,
        "start_time": "2022-10-05T18:30:14.751Z"
      },
      {
        "duration": 15,
        "start_time": "2022-10-05T18:30:14.762Z"
      },
      {
        "duration": 25,
        "start_time": "2022-10-05T18:30:14.779Z"
      },
      {
        "duration": 6,
        "start_time": "2022-10-05T18:30:14.806Z"
      },
      {
        "duration": 10,
        "start_time": "2022-10-05T18:30:14.814Z"
      },
      {
        "duration": 19,
        "start_time": "2022-10-05T18:30:14.826Z"
      },
      {
        "duration": 9,
        "start_time": "2022-10-05T18:30:14.847Z"
      },
      {
        "duration": 66,
        "start_time": "2022-10-05T18:30:14.858Z"
      },
      {
        "duration": 16,
        "start_time": "2022-10-05T18:30:14.927Z"
      },
      {
        "duration": 14,
        "start_time": "2022-10-05T18:30:15.499Z"
      },
      {
        "duration": 3,
        "start_time": "2022-10-05T18:30:15.707Z"
      },
      {
        "duration": 4,
        "start_time": "2022-10-05T18:30:15.915Z"
      },
      {
        "duration": 617,
        "start_time": "2022-10-05T18:30:17.308Z"
      },
      {
        "duration": 522,
        "start_time": "2022-10-05T18:30:17.944Z"
      },
      {
        "duration": 511,
        "start_time": "2022-10-05T18:30:18.564Z"
      },
      {
        "duration": 514,
        "start_time": "2022-10-05T18:30:19.330Z"
      },
      {
        "duration": 6,
        "start_time": "2022-10-05T18:30:20.204Z"
      },
      {
        "duration": 521,
        "start_time": "2022-10-05T18:30:20.404Z"
      },
      {
        "duration": 3,
        "start_time": "2022-10-05T18:30:21.404Z"
      },
      {
        "duration": 8,
        "start_time": "2022-10-05T18:30:21.630Z"
      },
      {
        "duration": 5,
        "start_time": "2022-10-05T18:30:22.084Z"
      },
      {
        "duration": 5,
        "start_time": "2022-10-05T18:30:23.948Z"
      },
      {
        "duration": 5,
        "start_time": "2022-10-05T18:30:26.238Z"
      },
      {
        "duration": 593456,
        "start_time": "2022-10-05T18:49:59.171Z"
      },
      {
        "duration": 1415,
        "start_time": "2022-10-06T02:49:20.835Z"
      },
      {
        "duration": 3150,
        "start_time": "2022-10-06T02:49:22.252Z"
      },
      {
        "duration": 4,
        "start_time": "2022-10-06T02:49:25.403Z"
      },
      {
        "duration": 102,
        "start_time": "2022-10-06T02:49:25.409Z"
      },
      {
        "duration": 159,
        "start_time": "2022-10-06T02:49:25.513Z"
      },
      {
        "duration": 6,
        "start_time": "2022-10-06T02:49:25.673Z"
      },
      {
        "duration": 4,
        "start_time": "2022-10-06T02:49:25.681Z"
      },
      {
        "duration": 5,
        "start_time": "2022-10-06T02:49:25.686Z"
      },
      {
        "duration": 7,
        "start_time": "2022-10-06T02:49:25.692Z"
      },
      {
        "duration": 4,
        "start_time": "2022-10-06T02:49:25.701Z"
      },
      {
        "duration": 8,
        "start_time": "2022-10-06T02:49:25.706Z"
      },
      {
        "duration": 13,
        "start_time": "2022-10-06T02:49:25.715Z"
      },
      {
        "duration": 6,
        "start_time": "2022-10-06T02:49:25.729Z"
      },
      {
        "duration": 90,
        "start_time": "2022-10-06T02:49:25.738Z"
      },
      {
        "duration": 15,
        "start_time": "2022-10-06T02:49:25.830Z"
      },
      {
        "duration": 12,
        "start_time": "2022-10-06T02:49:25.847Z"
      },
      {
        "duration": 18,
        "start_time": "2022-10-06T02:49:25.860Z"
      },
      {
        "duration": 7,
        "start_time": "2022-10-06T02:49:25.879Z"
      },
      {
        "duration": 561,
        "start_time": "2022-10-06T02:49:25.887Z"
      },
      {
        "duration": 497,
        "start_time": "2022-10-06T02:49:26.449Z"
      },
      {
        "duration": 499,
        "start_time": "2022-10-06T02:49:26.948Z"
      },
      {
        "duration": 485,
        "start_time": "2022-10-06T02:49:27.448Z"
      },
      {
        "duration": 8,
        "start_time": "2022-10-06T02:49:27.934Z"
      },
      {
        "duration": 518,
        "start_time": "2022-10-06T02:49:27.943Z"
      },
      {
        "duration": 3,
        "start_time": "2022-10-06T02:49:28.463Z"
      },
      {
        "duration": 11,
        "start_time": "2022-10-06T02:49:28.467Z"
      },
      {
        "duration": 6,
        "start_time": "2022-10-06T02:49:28.480Z"
      },
      {
        "duration": 7,
        "start_time": "2022-10-06T02:49:28.487Z"
      },
      {
        "duration": 4,
        "start_time": "2022-10-06T02:49:28.496Z"
      },
      {
        "duration": 577187,
        "start_time": "2022-10-06T02:49:28.502Z"
      },
      {
        "duration": 27328776,
        "start_time": "2022-10-06T02:59:05.691Z"
      },
      {
        "duration": 180,
        "start_time": "2022-10-06T10:34:34.469Z"
      },
      {
        "duration": 11461,
        "start_time": "2022-10-06T10:34:34.651Z"
      },
      {
        "duration": 363,
        "start_time": "2022-10-06T10:34:46.114Z"
      },
      {
        "duration": 4,
        "start_time": "2022-10-06T10:34:46.479Z"
      },
      {
        "duration": 7292,
        "start_time": "2022-10-06T14:59:46.662Z"
      },
      {
        "duration": 65,
        "start_time": "2022-10-06T17:05:41.665Z"
      },
      {
        "duration": 1532,
        "start_time": "2022-10-07T21:18:23.379Z"
      },
      {
        "duration": 3011,
        "start_time": "2022-10-07T21:18:39.689Z"
      },
      {
        "duration": 4,
        "start_time": "2022-10-07T21:18:42.703Z"
      },
      {
        "duration": 107,
        "start_time": "2022-10-07T21:18:42.708Z"
      },
      {
        "duration": 152,
        "start_time": "2022-10-07T21:18:42.817Z"
      },
      {
        "duration": 5,
        "start_time": "2022-10-07T21:18:42.971Z"
      },
      {
        "duration": 5,
        "start_time": "2022-10-07T21:18:43.413Z"
      },
      {
        "duration": 3,
        "start_time": "2022-10-07T21:18:44.073Z"
      },
      {
        "duration": 5,
        "start_time": "2022-10-07T21:18:44.396Z"
      },
      {
        "duration": 4,
        "start_time": "2022-10-07T21:18:45.097Z"
      },
      {
        "duration": 5,
        "start_time": "2022-10-07T21:20:47.588Z"
      },
      {
        "duration": 4,
        "start_time": "2022-10-07T21:21:32.196Z"
      },
      {
        "duration": 60,
        "start_time": "2022-10-07T21:21:32.863Z"
      },
      {
        "duration": 16,
        "start_time": "2022-10-07T21:21:35.951Z"
      },
      {
        "duration": 613,
        "start_time": "2022-10-07T21:22:39.280Z"
      },
      {
        "duration": 541,
        "start_time": "2022-10-07T21:22:49.846Z"
      },
      {
        "duration": 645,
        "start_time": "2022-10-07T21:23:23.642Z"
      },
      {
        "duration": 570,
        "start_time": "2022-10-07T21:23:29.722Z"
      },
      {
        "duration": 382,
        "start_time": "2022-10-07T21:25:43.693Z"
      },
      {
        "duration": 464,
        "start_time": "2022-10-07T21:26:23.409Z"
      },
      {
        "duration": 374,
        "start_time": "2022-10-07T21:26:53.656Z"
      },
      {
        "duration": 353,
        "start_time": "2022-10-07T21:27:02.799Z"
      },
      {
        "duration": 337,
        "start_time": "2022-10-07T21:28:46.057Z"
      },
      {
        "duration": 437,
        "start_time": "2022-10-07T21:29:19.966Z"
      },
      {
        "duration": 6,
        "start_time": "2022-10-07T21:32:39.753Z"
      },
      {
        "duration": 130,
        "start_time": "2022-10-07T21:34:09.195Z"
      },
      {
        "duration": 6,
        "start_time": "2022-10-07T21:34:14.349Z"
      },
      {
        "duration": 471,
        "start_time": "2022-10-07T21:34:15.155Z"
      },
      {
        "duration": 10,
        "start_time": "2022-10-07T21:44:35.017Z"
      },
      {
        "duration": 3,
        "start_time": "2022-10-07T21:44:43.238Z"
      },
      {
        "duration": 4,
        "start_time": "2022-10-07T21:44:45.247Z"
      },
      {
        "duration": 4,
        "start_time": "2022-10-07T21:45:11.275Z"
      },
      {
        "duration": 14,
        "start_time": "2022-10-07T21:45:11.695Z"
      },
      {
        "duration": 677,
        "start_time": "2022-10-07T21:45:16.625Z"
      },
      {
        "duration": 4,
        "start_time": "2022-10-07T21:45:17.305Z"
      },
      {
        "duration": 109,
        "start_time": "2022-10-07T21:45:17.310Z"
      },
      {
        "duration": 131,
        "start_time": "2022-10-07T21:45:17.894Z"
      },
      {
        "duration": 7,
        "start_time": "2022-10-07T21:45:18.144Z"
      },
      {
        "duration": 5,
        "start_time": "2022-10-07T21:45:19.196Z"
      },
      {
        "duration": 3,
        "start_time": "2022-10-07T21:45:19.671Z"
      },
      {
        "duration": 5,
        "start_time": "2022-10-07T21:45:19.887Z"
      },
      {
        "duration": 5,
        "start_time": "2022-10-07T21:45:20.243Z"
      },
      {
        "duration": 9,
        "start_time": "2022-10-07T21:45:21.333Z"
      },
      {
        "duration": 6,
        "start_time": "2022-10-07T21:45:21.549Z"
      },
      {
        "duration": 2,
        "start_time": "2022-10-07T21:45:23.938Z"
      },
      {
        "duration": 3,
        "start_time": "2022-10-07T21:45:24.880Z"
      },
      {
        "duration": 9,
        "start_time": "2022-10-07T21:45:34.358Z"
      },
      {
        "duration": 21,
        "start_time": "2022-10-07T21:45:43.196Z"
      },
      {
        "duration": 703,
        "start_time": "2022-10-07T21:45:46.831Z"
      },
      {
        "duration": 3,
        "start_time": "2022-10-07T21:45:47.536Z"
      },
      {
        "duration": 113,
        "start_time": "2022-10-07T21:45:47.540Z"
      },
      {
        "duration": 140,
        "start_time": "2022-10-07T21:45:47.706Z"
      },
      {
        "duration": 6,
        "start_time": "2022-10-07T21:45:47.848Z"
      },
      {
        "duration": 5,
        "start_time": "2022-10-07T21:45:48.309Z"
      },
      {
        "duration": 3,
        "start_time": "2022-10-07T21:45:48.657Z"
      },
      {
        "duration": 5,
        "start_time": "2022-10-07T21:45:48.850Z"
      },
      {
        "duration": 6,
        "start_time": "2022-10-07T21:45:49.170Z"
      },
      {
        "duration": 7,
        "start_time": "2022-10-07T21:45:50.284Z"
      },
      {
        "duration": 4,
        "start_time": "2022-10-07T21:45:50.501Z"
      },
      {
        "duration": 9,
        "start_time": "2022-10-07T21:45:52.946Z"
      },
      {
        "duration": 8,
        "start_time": "2022-10-07T21:45:54.080Z"
      },
      {
        "duration": 20,
        "start_time": "2022-10-07T21:45:54.531Z"
      },
      {
        "duration": 16,
        "start_time": "2022-10-07T21:45:55.087Z"
      },
      {
        "duration": 11,
        "start_time": "2022-10-07T21:45:56.417Z"
      },
      {
        "duration": 4,
        "start_time": "2022-10-07T21:45:59.240Z"
      },
      {
        "duration": 5,
        "start_time": "2022-10-07T21:45:59.752Z"
      },
      {
        "duration": 656,
        "start_time": "2022-10-07T21:46:05.347Z"
      },
      {
        "duration": 554,
        "start_time": "2022-10-07T21:46:06.005Z"
      },
      {
        "duration": 672,
        "start_time": "2022-10-07T21:46:06.562Z"
      },
      {
        "duration": 352,
        "start_time": "2022-10-07T21:46:07.236Z"
      },
      {
        "duration": 6,
        "start_time": "2022-10-07T21:46:07.590Z"
      },
      {
        "duration": 468,
        "start_time": "2022-10-07T21:46:07.598Z"
      },
      {
        "duration": 3,
        "start_time": "2022-10-07T21:46:09.027Z"
      },
      {
        "duration": 8,
        "start_time": "2022-10-07T21:46:09.305Z"
      },
      {
        "duration": 4,
        "start_time": "2022-10-07T21:46:11.005Z"
      },
      {
        "duration": 6,
        "start_time": "2022-10-07T21:46:13.066Z"
      },
      {
        "duration": 5,
        "start_time": "2022-10-07T21:46:15.689Z"
      },
      {
        "duration": 3,
        "start_time": "2022-10-07T21:50:21.591Z"
      },
      {
        "duration": 4,
        "start_time": "2022-10-07T21:51:11.977Z"
      },
      {
        "duration": 3,
        "start_time": "2022-10-07T21:51:12.335Z"
      },
      {
        "duration": 4,
        "start_time": "2022-10-07T21:54:00.464Z"
      },
      {
        "duration": 3,
        "start_time": "2022-10-07T21:54:00.813Z"
      },
      {
        "duration": 3,
        "start_time": "2022-10-07T21:54:18.368Z"
      },
      {
        "duration": 4,
        "start_time": "2022-10-07T21:54:30.512Z"
      },
      {
        "duration": 3,
        "start_time": "2022-10-07T21:54:39.153Z"
      },
      {
        "duration": 289686,
        "start_time": "2022-10-07T21:55:51.689Z"
      },
      {
        "duration": 59,
        "start_time": "2022-10-07T22:04:33.070Z"
      },
      {
        "duration": 2881,
        "start_time": "2022-10-07T22:05:04.665Z"
      },
      {
        "duration": 3,
        "start_time": "2022-10-07T22:06:11.682Z"
      },
      {
        "duration": 3,
        "start_time": "2022-10-07T22:07:04.631Z"
      },
      {
        "duration": 3,
        "start_time": "2022-10-07T22:07:05.387Z"
      },
      {
        "duration": 2,
        "start_time": "2022-10-07T22:08:19.755Z"
      },
      {
        "duration": 4,
        "start_time": "2022-10-07T22:08:48.994Z"
      },
      {
        "duration": 3,
        "start_time": "2022-10-07T22:08:52.789Z"
      },
      {
        "duration": 758,
        "start_time": "2022-10-07T22:09:04.255Z"
      },
      {
        "duration": 966,
        "start_time": "2022-10-07T22:09:16.241Z"
      },
      {
        "duration": 744,
        "start_time": "2022-10-07T22:09:26.682Z"
      },
      {
        "duration": 2916,
        "start_time": "2022-10-07T22:09:32.218Z"
      },
      {
        "duration": 3,
        "start_time": "2022-10-07T22:09:56.554Z"
      },
      {
        "duration": 3,
        "start_time": "2022-10-07T22:09:56.977Z"
      },
      {
        "duration": 5,
        "start_time": "2022-10-07T22:09:58.137Z"
      },
      {
        "duration": 3,
        "start_time": "2022-10-07T22:09:59.347Z"
      },
      {
        "duration": 965,
        "start_time": "2022-10-07T22:10:14.366Z"
      },
      {
        "duration": 4847,
        "start_time": "2022-10-07T22:10:50.778Z"
      },
      {
        "duration": 8773,
        "start_time": "2022-10-07T22:10:58.280Z"
      },
      {
        "duration": 8696,
        "start_time": "2022-10-07T22:11:20.794Z"
      },
      {
        "duration": 8718,
        "start_time": "2022-10-07T22:11:33.702Z"
      },
      {
        "duration": 8763,
        "start_time": "2022-10-07T22:12:59.067Z"
      },
      {
        "duration": 2,
        "start_time": "2022-10-07T22:15:37.226Z"
      },
      {
        "duration": 8764,
        "start_time": "2022-10-07T22:15:44.719Z"
      },
      {
        "duration": 2,
        "start_time": "2022-10-07T22:16:09.845Z"
      },
      {
        "duration": 1331,
        "start_time": "2022-10-07T22:17:10.569Z"
      },
      {
        "duration": 1300,
        "start_time": "2022-10-07T22:17:35.336Z"
      },
      {
        "duration": 44693,
        "start_time": "2022-10-07T22:19:18.570Z"
      },
      {
        "duration": 2901,
        "start_time": "2022-10-07T22:20:14.012Z"
      },
      {
        "duration": 1123,
        "start_time": "2022-10-07T22:23:13.855Z"
      },
      {
        "duration": 1123,
        "start_time": "2022-10-07T22:26:17.356Z"
      },
      {
        "duration": 1173,
        "start_time": "2022-10-07T22:26:59.411Z"
      },
      {
        "duration": 37455,
        "start_time": "2022-10-07T22:27:00.586Z"
      },
      {
        "duration": 2266,
        "start_time": "2022-10-07T22:27:38.043Z"
      },
      {
        "duration": 662,
        "start_time": "2022-10-07T22:30:10.797Z"
      },
      {
        "duration": 3,
        "start_time": "2022-10-07T22:30:11.461Z"
      },
      {
        "duration": 86,
        "start_time": "2022-10-07T22:30:11.702Z"
      },
      {
        "duration": 130,
        "start_time": "2022-10-07T22:30:13.069Z"
      },
      {
        "duration": 5,
        "start_time": "2022-10-07T22:30:13.632Z"
      },
      {
        "duration": 5,
        "start_time": "2022-10-07T22:30:15.099Z"
      },
      {
        "duration": 2,
        "start_time": "2022-10-07T22:30:15.937Z"
      },
      {
        "duration": 4,
        "start_time": "2022-10-07T22:30:16.568Z"
      },
      {
        "duration": 4,
        "start_time": "2022-10-07T22:30:17.253Z"
      },
      {
        "duration": 7,
        "start_time": "2022-10-07T22:30:20.559Z"
      },
      {
        "duration": 5,
        "start_time": "2022-10-07T22:30:25.201Z"
      },
      {
        "duration": 4,
        "start_time": "2022-10-07T22:30:56.939Z"
      },
      {
        "duration": 2,
        "start_time": "2022-10-07T22:32:24.556Z"
      },
      {
        "duration": 4,
        "start_time": "2022-10-07T22:32:25.457Z"
      },
      {
        "duration": 21,
        "start_time": "2022-10-07T22:32:26.249Z"
      },
      {
        "duration": 15,
        "start_time": "2022-10-07T22:32:26.630Z"
      },
      {
        "duration": 1395,
        "start_time": "2022-10-08T15:48:25.676Z"
      },
      {
        "duration": 2867,
        "start_time": "2022-10-08T15:48:27.073Z"
      },
      {
        "duration": 3,
        "start_time": "2022-10-08T15:48:29.941Z"
      },
      {
        "duration": 90,
        "start_time": "2022-10-08T15:48:29.945Z"
      },
      {
        "duration": 148,
        "start_time": "2022-10-08T15:48:30.037Z"
      },
      {
        "duration": 5,
        "start_time": "2022-10-08T15:48:30.475Z"
      },
      {
        "duration": 5,
        "start_time": "2022-10-08T15:48:32.160Z"
      },
      {
        "duration": 2,
        "start_time": "2022-10-08T15:48:32.733Z"
      },
      {
        "duration": 5,
        "start_time": "2022-10-08T15:48:33.055Z"
      },
      {
        "duration": 4,
        "start_time": "2022-10-08T15:48:33.597Z"
      },
      {
        "duration": 2,
        "start_time": "2022-10-08T15:49:05.897Z"
      },
      {
        "duration": 4,
        "start_time": "2022-10-08T15:51:08.292Z"
      },
      {
        "duration": 56,
        "start_time": "2022-10-08T15:51:08.941Z"
      },
      {
        "duration": 17,
        "start_time": "2022-10-08T15:51:14.209Z"
      },
      {
        "duration": 104,
        "start_time": "2022-10-08T16:00:13.614Z"
      },
      {
        "duration": 782,
        "start_time": "2022-10-08T16:00:22.313Z"
      },
      {
        "duration": 597,
        "start_time": "2022-10-08T16:01:00.746Z"
      },
      {
        "duration": 2,
        "start_time": "2022-10-08T16:01:01.345Z"
      },
      {
        "duration": 130,
        "start_time": "2022-10-08T16:01:01.349Z"
      },
      {
        "duration": 135,
        "start_time": "2022-10-08T16:01:01.607Z"
      },
      {
        "duration": 5,
        "start_time": "2022-10-08T16:01:01.781Z"
      },
      {
        "duration": 6,
        "start_time": "2022-10-08T16:01:02.344Z"
      },
      {
        "duration": 2,
        "start_time": "2022-10-08T16:01:02.749Z"
      },
      {
        "duration": 5,
        "start_time": "2022-10-08T16:01:02.907Z"
      },
      {
        "duration": 4,
        "start_time": "2022-10-08T16:01:03.295Z"
      },
      {
        "duration": 6,
        "start_time": "2022-10-08T16:01:04.215Z"
      },
      {
        "duration": 4,
        "start_time": "2022-10-08T16:01:04.628Z"
      },
      {
        "duration": 2,
        "start_time": "2022-10-08T16:01:06.428Z"
      },
      {
        "duration": 3,
        "start_time": "2022-10-08T16:01:07.264Z"
      },
      {
        "duration": 76,
        "start_time": "2022-10-08T16:01:07.787Z"
      },
      {
        "duration": 14,
        "start_time": "2022-10-08T16:01:08.007Z"
      },
      {
        "duration": 707,
        "start_time": "2022-10-08T16:01:09.243Z"
      },
      {
        "duration": 743,
        "start_time": "2022-10-08T16:01:41.161Z"
      },
      {
        "duration": 3,
        "start_time": "2022-10-08T16:01:46.554Z"
      },
      {
        "duration": 77,
        "start_time": "2022-10-08T16:01:46.815Z"
      },
      {
        "duration": 143,
        "start_time": "2022-10-08T16:01:47.371Z"
      },
      {
        "duration": 5,
        "start_time": "2022-10-08T16:01:47.563Z"
      },
      {
        "duration": 5,
        "start_time": "2022-10-08T16:01:48.109Z"
      },
      {
        "duration": 4,
        "start_time": "2022-10-08T16:01:48.462Z"
      },
      {
        "duration": 5,
        "start_time": "2022-10-08T16:01:48.647Z"
      },
      {
        "duration": 5,
        "start_time": "2022-10-08T16:01:49.098Z"
      },
      {
        "duration": 6,
        "start_time": "2022-10-08T16:01:50.063Z"
      },
      {
        "duration": 4,
        "start_time": "2022-10-08T16:01:50.632Z"
      },
      {
        "duration": 2,
        "start_time": "2022-10-08T16:01:52.387Z"
      },
      {
        "duration": 3,
        "start_time": "2022-10-08T16:01:52.924Z"
      },
      {
        "duration": 19,
        "start_time": "2022-10-08T16:01:53.103Z"
      },
      {
        "duration": 17,
        "start_time": "2022-10-08T16:01:53.395Z"
      },
      {
        "duration": 748,
        "start_time": "2022-10-08T16:01:55.847Z"
      },
      {
        "duration": 8,
        "start_time": "2022-10-08T16:02:30.472Z"
      },
      {
        "duration": 4,
        "start_time": "2022-10-08T16:02:34.045Z"
      },
      {
        "duration": 764,
        "start_time": "2022-10-08T16:02:45.693Z"
      },
      {
        "duration": 406,
        "start_time": "2022-10-08T16:03:17.938Z"
      },
      {
        "duration": 667,
        "start_time": "2022-10-08T16:03:24.796Z"
      },
      {
        "duration": 410,
        "start_time": "2022-10-08T16:03:39.110Z"
      },
      {
        "duration": 699,
        "start_time": "2022-10-08T16:05:07.932Z"
      },
      {
        "duration": 689,
        "start_time": "2022-10-08T16:06:52.383Z"
      },
      {
        "duration": 592,
        "start_time": "2022-10-08T16:06:58.449Z"
      },
      {
        "duration": 708,
        "start_time": "2022-10-08T16:07:02.758Z"
      },
      {
        "duration": 5,
        "start_time": "2022-10-08T16:07:25.148Z"
      },
      {
        "duration": 3,
        "start_time": "2022-10-08T16:07:39.625Z"
      },
      {
        "duration": 10,
        "start_time": "2022-10-08T16:07:53.562Z"
      },
      {
        "duration": 598,
        "start_time": "2022-10-08T16:08:27.395Z"
      },
      {
        "duration": 9,
        "start_time": "2022-10-08T16:08:34.768Z"
      },
      {
        "duration": 10,
        "start_time": "2022-10-08T16:10:30.891Z"
      },
      {
        "duration": 10,
        "start_time": "2022-10-08T16:10:36.083Z"
      },
      {
        "duration": 672,
        "start_time": "2022-10-08T16:10:54.065Z"
      },
      {
        "duration": 9,
        "start_time": "2022-10-08T16:11:01.813Z"
      },
      {
        "duration": 8,
        "start_time": "2022-10-08T16:11:12.821Z"
      },
      {
        "duration": 8,
        "start_time": "2022-10-08T16:11:16.053Z"
      },
      {
        "duration": 9,
        "start_time": "2022-10-08T16:11:38.047Z"
      },
      {
        "duration": 3,
        "start_time": "2022-10-08T16:11:47.856Z"
      },
      {
        "duration": 4,
        "start_time": "2022-10-08T16:11:49.594Z"
      },
      {
        "duration": 4,
        "start_time": "2022-10-08T16:11:53.836Z"
      },
      {
        "duration": 2,
        "start_time": "2022-10-08T16:12:02.208Z"
      },
      {
        "duration": 9,
        "start_time": "2022-10-08T16:12:22.322Z"
      },
      {
        "duration": 3,
        "start_time": "2022-10-08T16:12:34.001Z"
      },
      {
        "duration": 618,
        "start_time": "2022-10-08T16:12:40.243Z"
      },
      {
        "duration": 9,
        "start_time": "2022-10-08T16:12:44.787Z"
      },
      {
        "duration": 12,
        "start_time": "2022-10-08T16:13:30.343Z"
      },
      {
        "duration": 674,
        "start_time": "2022-10-08T16:13:43.675Z"
      },
      {
        "duration": 828,
        "start_time": "2022-10-08T16:14:03.367Z"
      },
      {
        "duration": 578,
        "start_time": "2022-10-08T16:14:10.282Z"
      },
      {
        "duration": 787,
        "start_time": "2022-10-08T16:14:14.820Z"
      },
      {
        "duration": 9,
        "start_time": "2022-10-08T16:14:25.663Z"
      },
      {
        "duration": 9,
        "start_time": "2022-10-08T16:14:58.241Z"
      },
      {
        "duration": 9,
        "start_time": "2022-10-08T16:16:23.305Z"
      },
      {
        "duration": 8,
        "start_time": "2022-10-08T16:16:28.499Z"
      },
      {
        "duration": 9,
        "start_time": "2022-10-08T16:17:15.008Z"
      },
      {
        "duration": 109,
        "start_time": "2022-10-08T16:17:22.316Z"
      },
      {
        "duration": 58,
        "start_time": "2022-10-08T16:17:30.152Z"
      },
      {
        "duration": 3,
        "start_time": "2022-10-08T16:17:40.991Z"
      },
      {
        "duration": 614,
        "start_time": "2022-10-08T16:17:41.589Z"
      },
      {
        "duration": 3,
        "start_time": "2022-10-08T16:17:42.205Z"
      },
      {
        "duration": 102,
        "start_time": "2022-10-08T16:17:42.210Z"
      },
      {
        "duration": 157,
        "start_time": "2022-10-08T16:17:42.314Z"
      },
      {
        "duration": 6,
        "start_time": "2022-10-08T16:17:42.472Z"
      },
      {
        "duration": 22,
        "start_time": "2022-10-08T16:17:42.480Z"
      },
      {
        "duration": 3,
        "start_time": "2022-10-08T16:17:42.504Z"
      },
      {
        "duration": 9,
        "start_time": "2022-10-08T16:17:42.508Z"
      },
      {
        "duration": 7,
        "start_time": "2022-10-08T16:17:42.518Z"
      },
      {
        "duration": 13,
        "start_time": "2022-10-08T16:17:42.527Z"
      },
      {
        "duration": 6,
        "start_time": "2022-10-08T16:17:42.542Z"
      },
      {
        "duration": 2,
        "start_time": "2022-10-08T16:17:42.596Z"
      },
      {
        "duration": 3,
        "start_time": "2022-10-08T16:17:42.781Z"
      },
      {
        "duration": 19,
        "start_time": "2022-10-08T16:17:42.830Z"
      },
      {
        "duration": 16,
        "start_time": "2022-10-08T16:17:42.887Z"
      },
      {
        "duration": 4,
        "start_time": "2022-10-08T16:17:42.937Z"
      },
      {
        "duration": 55,
        "start_time": "2022-10-08T16:18:03.459Z"
      },
      {
        "duration": 55,
        "start_time": "2022-10-08T16:18:10.745Z"
      },
      {
        "duration": 3,
        "start_time": "2022-10-08T16:18:52.702Z"
      },
      {
        "duration": 608,
        "start_time": "2022-10-08T16:18:53.391Z"
      },
      {
        "duration": 2,
        "start_time": "2022-10-08T16:18:54.001Z"
      },
      {
        "duration": 113,
        "start_time": "2022-10-08T16:18:54.005Z"
      },
      {
        "duration": 144,
        "start_time": "2022-10-08T16:18:55.377Z"
      },
      {
        "duration": 5,
        "start_time": "2022-10-08T16:18:55.737Z"
      },
      {
        "duration": 5,
        "start_time": "2022-10-08T16:18:56.600Z"
      },
      {
        "duration": 3,
        "start_time": "2022-10-08T16:18:57.203Z"
      },
      {
        "duration": 4,
        "start_time": "2022-10-08T16:18:57.497Z"
      },
      {
        "duration": 4,
        "start_time": "2022-10-08T16:18:58.126Z"
      },
      {
        "duration": 6,
        "start_time": "2022-10-08T16:18:59.750Z"
      },
      {
        "duration": 5,
        "start_time": "2022-10-08T16:19:00.586Z"
      },
      {
        "duration": 2,
        "start_time": "2022-10-08T16:19:02.753Z"
      },
      {
        "duration": 4,
        "start_time": "2022-10-08T16:19:16.467Z"
      },
      {
        "duration": 19,
        "start_time": "2022-10-08T16:19:17.395Z"
      },
      {
        "duration": 15,
        "start_time": "2022-10-08T16:19:18.765Z"
      },
      {
        "duration": 52,
        "start_time": "2022-10-08T16:19:23.103Z"
      },
      {
        "duration": 3,
        "start_time": "2022-10-08T16:19:55.960Z"
      },
      {
        "duration": 618,
        "start_time": "2022-10-08T16:19:57.288Z"
      },
      {
        "duration": 4,
        "start_time": "2022-10-08T16:19:57.908Z"
      },
      {
        "duration": 109,
        "start_time": "2022-10-08T16:19:57.913Z"
      },
      {
        "duration": 143,
        "start_time": "2022-10-08T16:20:00.491Z"
      },
      {
        "duration": 6,
        "start_time": "2022-10-08T16:20:00.696Z"
      },
      {
        "duration": 5,
        "start_time": "2022-10-08T16:20:02.153Z"
      },
      {
        "duration": 2,
        "start_time": "2022-10-08T16:20:02.507Z"
      },
      {
        "duration": 5,
        "start_time": "2022-10-08T16:20:02.695Z"
      },
      {
        "duration": 5,
        "start_time": "2022-10-08T16:20:03.141Z"
      },
      {
        "duration": 6,
        "start_time": "2022-10-08T16:20:05.649Z"
      },
      {
        "duration": 4,
        "start_time": "2022-10-08T16:20:07.259Z"
      },
      {
        "duration": 3,
        "start_time": "2022-10-08T16:20:38.642Z"
      },
      {
        "duration": 20,
        "start_time": "2022-10-08T16:20:39.040Z"
      },
      {
        "duration": 14,
        "start_time": "2022-10-08T16:20:40.081Z"
      },
      {
        "duration": 60,
        "start_time": "2022-10-08T16:20:43.432Z"
      },
      {
        "duration": 638,
        "start_time": "2022-10-08T16:21:50.023Z"
      },
      {
        "duration": 67,
        "start_time": "2022-10-08T16:29:26.438Z"
      },
      {
        "duration": 1177,
        "start_time": "2022-10-08T16:29:53.587Z"
      },
      {
        "duration": 653,
        "start_time": "2022-10-08T16:30:13.877Z"
      },
      {
        "duration": 4,
        "start_time": "2022-10-08T16:30:14.532Z"
      },
      {
        "duration": 102,
        "start_time": "2022-10-08T16:30:14.538Z"
      },
      {
        "duration": 147,
        "start_time": "2022-10-08T16:30:14.641Z"
      },
      {
        "duration": 11,
        "start_time": "2022-10-08T16:30:14.790Z"
      },
      {
        "duration": 4,
        "start_time": "2022-10-08T16:30:14.803Z"
      },
      {
        "duration": 5,
        "start_time": "2022-10-08T16:30:14.808Z"
      },
      {
        "duration": 6,
        "start_time": "2022-10-08T16:30:14.815Z"
      },
      {
        "duration": 4,
        "start_time": "2022-10-08T16:30:14.871Z"
      },
      {
        "duration": 6,
        "start_time": "2022-10-08T16:30:15.084Z"
      },
      {
        "duration": 4,
        "start_time": "2022-10-08T16:30:15.141Z"
      },
      {
        "duration": 3,
        "start_time": "2022-10-08T16:30:15.428Z"
      },
      {
        "duration": 19,
        "start_time": "2022-10-08T16:30:15.465Z"
      },
      {
        "duration": 14,
        "start_time": "2022-10-08T16:30:15.507Z"
      },
      {
        "duration": 55,
        "start_time": "2022-10-08T16:30:15.592Z"
      },
      {
        "duration": 567,
        "start_time": "2022-10-08T16:30:17.057Z"
      },
      {
        "duration": 712,
        "start_time": "2022-10-08T16:30:17.675Z"
      },
      {
        "duration": 604,
        "start_time": "2022-10-08T16:30:18.965Z"
      },
      {
        "duration": 179,
        "start_time": "2022-10-08T16:30:22.187Z"
      },
      {
        "duration": 131,
        "start_time": "2022-10-08T16:30:36.488Z"
      },
      {
        "duration": 603,
        "start_time": "2022-10-08T16:32:18.915Z"
      },
      {
        "duration": 3,
        "start_time": "2022-10-08T16:32:19.520Z"
      },
      {
        "duration": 106,
        "start_time": "2022-10-08T16:32:19.525Z"
      },
      {
        "duration": 154,
        "start_time": "2022-10-08T16:32:19.633Z"
      },
      {
        "duration": 12,
        "start_time": "2022-10-08T16:32:19.789Z"
      },
      {
        "duration": 6,
        "start_time": "2022-10-08T16:32:19.802Z"
      },
      {
        "duration": 4,
        "start_time": "2022-10-08T16:32:19.810Z"
      },
      {
        "duration": 6,
        "start_time": "2022-10-08T16:32:19.816Z"
      },
      {
        "duration": 6,
        "start_time": "2022-10-08T16:32:19.823Z"
      },
      {
        "duration": 11,
        "start_time": "2022-10-08T16:32:19.830Z"
      },
      {
        "duration": 9,
        "start_time": "2022-10-08T16:32:19.842Z"
      },
      {
        "duration": 3,
        "start_time": "2022-10-08T16:32:20.321Z"
      },
      {
        "duration": 31,
        "start_time": "2022-10-08T16:32:20.326Z"
      },
      {
        "duration": 14,
        "start_time": "2022-10-08T16:32:20.359Z"
      },
      {
        "duration": 65,
        "start_time": "2022-10-08T16:32:20.374Z"
      },
      {
        "duration": 714,
        "start_time": "2022-10-08T16:32:20.480Z"
      },
      {
        "duration": 611,
        "start_time": "2022-10-08T16:32:21.195Z"
      },
      {
        "duration": 736,
        "start_time": "2022-10-08T16:32:22.005Z"
      },
      {
        "duration": 280,
        "start_time": "2022-10-08T16:32:23.868Z"
      },
      {
        "duration": 17178,
        "start_time": "2022-10-08T16:32:24.516Z"
      },
      {
        "duration": 217,
        "start_time": "2022-10-08T16:34:32.816Z"
      },
      {
        "duration": 687,
        "start_time": "2022-10-08T16:34:36.111Z"
      },
      {
        "duration": 3,
        "start_time": "2022-10-08T16:34:36.801Z"
      },
      {
        "duration": 107,
        "start_time": "2022-10-08T16:34:36.805Z"
      },
      {
        "duration": 136,
        "start_time": "2022-10-08T16:34:36.913Z"
      },
      {
        "duration": 5,
        "start_time": "2022-10-08T16:34:37.051Z"
      },
      {
        "duration": 9,
        "start_time": "2022-10-08T16:34:37.057Z"
      },
      {
        "duration": 12,
        "start_time": "2022-10-08T16:34:37.068Z"
      },
      {
        "duration": 7,
        "start_time": "2022-10-08T16:34:37.081Z"
      },
      {
        "duration": 4,
        "start_time": "2022-10-08T16:34:37.114Z"
      },
      {
        "duration": 7,
        "start_time": "2022-10-08T16:34:37.319Z"
      },
      {
        "duration": 4,
        "start_time": "2022-10-08T16:34:37.372Z"
      },
      {
        "duration": 3,
        "start_time": "2022-10-08T16:34:37.675Z"
      },
      {
        "duration": 593,
        "start_time": "2022-10-08T16:34:37.712Z"
      },
      {
        "duration": 15,
        "start_time": "2022-10-08T16:34:38.306Z"
      },
      {
        "duration": 54,
        "start_time": "2022-10-08T16:34:38.322Z"
      },
      {
        "duration": 564,
        "start_time": "2022-10-08T16:34:39.328Z"
      },
      {
        "duration": 590,
        "start_time": "2022-10-08T16:34:39.893Z"
      },
      {
        "duration": 665,
        "start_time": "2022-10-08T16:34:40.571Z"
      },
      {
        "duration": 397,
        "start_time": "2022-10-08T16:34:42.218Z"
      },
      {
        "duration": 116211,
        "start_time": "2022-10-08T16:34:43.843Z"
      },
      {
        "duration": 0,
        "start_time": "2022-10-08T16:36:40.056Z"
      },
      {
        "duration": 5,
        "start_time": "2022-10-08T16:36:42.258Z"
      },
      {
        "duration": 648,
        "start_time": "2022-10-08T16:37:44.446Z"
      },
      {
        "duration": 4,
        "start_time": "2022-10-08T16:37:45.096Z"
      },
      {
        "duration": 107,
        "start_time": "2022-10-08T16:37:45.101Z"
      },
      {
        "duration": 149,
        "start_time": "2022-10-08T16:37:45.210Z"
      },
      {
        "duration": 6,
        "start_time": "2022-10-08T16:37:45.360Z"
      },
      {
        "duration": 10,
        "start_time": "2022-10-08T16:37:45.367Z"
      },
      {
        "duration": 13,
        "start_time": "2022-10-08T16:37:45.378Z"
      },
      {
        "duration": 5,
        "start_time": "2022-10-08T16:37:45.400Z"
      },
      {
        "duration": 5,
        "start_time": "2022-10-08T16:37:45.464Z"
      },
      {
        "duration": 6,
        "start_time": "2022-10-08T16:37:45.644Z"
      },
      {
        "duration": 4,
        "start_time": "2022-10-08T16:37:45.707Z"
      },
      {
        "duration": 3,
        "start_time": "2022-10-08T16:37:46.054Z"
      },
      {
        "duration": 25,
        "start_time": "2022-10-08T16:37:46.058Z"
      },
      {
        "duration": 14,
        "start_time": "2022-10-08T16:37:46.088Z"
      },
      {
        "duration": 53,
        "start_time": "2022-10-08T16:37:46.191Z"
      },
      {
        "duration": 570,
        "start_time": "2022-10-08T16:37:46.471Z"
      },
      {
        "duration": 612,
        "start_time": "2022-10-08T16:37:47.043Z"
      },
      {
        "duration": 551,
        "start_time": "2022-10-08T16:37:48.234Z"
      },
      {
        "duration": 484,
        "start_time": "2022-10-08T16:37:49.906Z"
      },
      {
        "duration": 5,
        "start_time": "2022-10-08T16:37:50.918Z"
      },
      {
        "duration": 665,
        "start_time": "2022-10-08T16:39:08.362Z"
      },
      {
        "duration": 3,
        "start_time": "2022-10-08T16:39:09.028Z"
      },
      {
        "duration": 99,
        "start_time": "2022-10-08T16:39:09.032Z"
      },
      {
        "duration": 167,
        "start_time": "2022-10-08T16:39:09.133Z"
      },
      {
        "duration": 5,
        "start_time": "2022-10-08T16:39:09.302Z"
      },
      {
        "duration": 6,
        "start_time": "2022-10-08T16:39:09.309Z"
      },
      {
        "duration": 7,
        "start_time": "2022-10-08T16:39:09.316Z"
      },
      {
        "duration": 8,
        "start_time": "2022-10-08T16:39:09.325Z"
      },
      {
        "duration": 4,
        "start_time": "2022-10-08T16:39:09.381Z"
      },
      {
        "duration": 6,
        "start_time": "2022-10-08T16:39:09.567Z"
      },
      {
        "duration": 4,
        "start_time": "2022-10-08T16:39:09.645Z"
      },
      {
        "duration": 4,
        "start_time": "2022-10-08T16:39:09.935Z"
      },
      {
        "duration": 21,
        "start_time": "2022-10-08T16:39:09.972Z"
      },
      {
        "duration": 15,
        "start_time": "2022-10-08T16:39:10.014Z"
      },
      {
        "duration": 49,
        "start_time": "2022-10-08T16:39:10.083Z"
      },
      {
        "duration": 576,
        "start_time": "2022-10-08T16:39:10.373Z"
      },
      {
        "duration": 1269,
        "start_time": "2022-10-08T16:39:10.951Z"
      },
      {
        "duration": 595,
        "start_time": "2022-10-08T16:39:12.222Z"
      },
      {
        "duration": 176,
        "start_time": "2022-10-08T16:39:12.820Z"
      },
      {
        "duration": 5,
        "start_time": "2022-10-08T16:39:13.843Z"
      },
      {
        "duration": 572,
        "start_time": "2022-10-08T16:39:19.423Z"
      },
      {
        "duration": 252,
        "start_time": "2022-10-08T16:39:35.561Z"
      },
      {
        "duration": 5,
        "start_time": "2022-10-08T16:39:43.210Z"
      },
      {
        "duration": 637,
        "start_time": "2022-10-08T16:39:47.136Z"
      },
      {
        "duration": 4,
        "start_time": "2022-10-08T16:39:47.775Z"
      },
      {
        "duration": 100,
        "start_time": "2022-10-08T16:39:47.780Z"
      },
      {
        "duration": 153,
        "start_time": "2022-10-08T16:39:47.900Z"
      },
      {
        "duration": 6,
        "start_time": "2022-10-08T16:39:48.055Z"
      },
      {
        "duration": 7,
        "start_time": "2022-10-08T16:39:48.063Z"
      },
      {
        "duration": 5,
        "start_time": "2022-10-08T16:39:48.072Z"
      },
      {
        "duration": 15,
        "start_time": "2022-10-08T16:39:48.086Z"
      },
      {
        "duration": 4,
        "start_time": "2022-10-08T16:39:48.155Z"
      },
      {
        "duration": 6,
        "start_time": "2022-10-08T16:39:48.358Z"
      },
      {
        "duration": 4,
        "start_time": "2022-10-08T16:39:48.426Z"
      },
      {
        "duration": 4,
        "start_time": "2022-10-08T16:39:48.700Z"
      },
      {
        "duration": 19,
        "start_time": "2022-10-08T16:39:48.740Z"
      },
      {
        "duration": 14,
        "start_time": "2022-10-08T16:39:48.780Z"
      },
      {
        "duration": 51,
        "start_time": "2022-10-08T16:39:48.860Z"
      },
      {
        "duration": 577,
        "start_time": "2022-10-08T16:39:51.252Z"
      },
      {
        "duration": 570,
        "start_time": "2022-10-08T16:39:51.831Z"
      },
      {
        "duration": 557,
        "start_time": "2022-10-08T16:39:52.403Z"
      },
      {
        "duration": 168,
        "start_time": "2022-10-08T16:39:52.962Z"
      },
      {
        "duration": 5,
        "start_time": "2022-10-08T16:39:53.132Z"
      },
      {
        "duration": 2147,
        "start_time": "2022-10-08T16:39:53.138Z"
      },
      {
        "duration": 288,
        "start_time": "2022-10-08T16:42:03.709Z"
      },
      {
        "duration": 3,
        "start_time": "2022-10-08T16:42:10.017Z"
      },
      {
        "duration": 631,
        "start_time": "2022-10-08T16:42:11.750Z"
      },
      {
        "duration": 3,
        "start_time": "2022-10-08T16:42:25.170Z"
      },
      {
        "duration": 599,
        "start_time": "2022-10-08T16:42:26.702Z"
      },
      {
        "duration": 3,
        "start_time": "2022-10-08T16:42:27.303Z"
      },
      {
        "duration": 108,
        "start_time": "2022-10-08T16:42:27.307Z"
      },
      {
        "duration": 157,
        "start_time": "2022-10-08T16:42:27.417Z"
      },
      {
        "duration": 5,
        "start_time": "2022-10-08T16:42:27.576Z"
      },
      {
        "duration": 7,
        "start_time": "2022-10-08T16:42:27.582Z"
      },
      {
        "duration": 2,
        "start_time": "2022-10-08T16:42:27.611Z"
      },
      {
        "duration": 5,
        "start_time": "2022-10-08T16:42:27.651Z"
      },
      {
        "duration": 5,
        "start_time": "2022-10-08T16:42:27.726Z"
      },
      {
        "duration": 6,
        "start_time": "2022-10-08T16:42:27.932Z"
      },
      {
        "duration": 4,
        "start_time": "2022-10-08T16:42:27.998Z"
      },
      {
        "duration": 3,
        "start_time": "2022-10-08T16:42:28.281Z"
      },
      {
        "duration": 19,
        "start_time": "2022-10-08T16:42:28.325Z"
      },
      {
        "duration": 14,
        "start_time": "2022-10-08T16:42:28.364Z"
      },
      {
        "duration": 56,
        "start_time": "2022-10-08T16:42:28.468Z"
      },
      {
        "duration": 545,
        "start_time": "2022-10-08T16:42:28.727Z"
      },
      {
        "duration": 735,
        "start_time": "2022-10-08T16:42:29.273Z"
      },
      {
        "duration": 613,
        "start_time": "2022-10-08T16:42:30.010Z"
      },
      {
        "duration": 113,
        "start_time": "2022-10-08T16:42:34.834Z"
      },
      {
        "duration": 6,
        "start_time": "2022-10-08T16:42:36.137Z"
      },
      {
        "duration": 292,
        "start_time": "2022-10-08T16:42:46.603Z"
      },
      {
        "duration": 3,
        "start_time": "2022-10-08T16:42:59.343Z"
      },
      {
        "duration": 606,
        "start_time": "2022-10-08T16:42:59.464Z"
      },
      {
        "duration": 3,
        "start_time": "2022-10-08T16:43:00.072Z"
      },
      {
        "duration": 103,
        "start_time": "2022-10-08T16:43:00.077Z"
      },
      {
        "duration": 149,
        "start_time": "2022-10-08T16:43:00.199Z"
      },
      {
        "duration": 6,
        "start_time": "2022-10-08T16:43:00.350Z"
      },
      {
        "duration": 32,
        "start_time": "2022-10-08T16:43:00.357Z"
      },
      {
        "duration": 17,
        "start_time": "2022-10-08T16:43:00.390Z"
      },
      {
        "duration": 16,
        "start_time": "2022-10-08T16:43:00.409Z"
      },
      {
        "duration": 36,
        "start_time": "2022-10-08T16:43:00.426Z"
      },
      {
        "duration": 23,
        "start_time": "2022-10-08T16:43:00.464Z"
      },
      {
        "duration": 40,
        "start_time": "2022-10-08T16:43:00.489Z"
      },
      {
        "duration": 31,
        "start_time": "2022-10-08T16:43:00.531Z"
      },
      {
        "duration": 40,
        "start_time": "2022-10-08T16:43:00.567Z"
      },
      {
        "duration": 26,
        "start_time": "2022-10-08T16:43:00.609Z"
      },
      {
        "duration": 58,
        "start_time": "2022-10-08T16:43:00.677Z"
      },
      {
        "duration": 709,
        "start_time": "2022-10-08T16:43:01.000Z"
      },
      {
        "duration": 558,
        "start_time": "2022-10-08T16:43:02.474Z"
      },
      {
        "duration": 579,
        "start_time": "2022-10-08T16:43:03.034Z"
      },
      {
        "duration": 35,
        "start_time": "2022-10-08T16:43:03.615Z"
      },
      {
        "duration": 804,
        "start_time": "2022-10-08T16:43:03.652Z"
      },
      {
        "duration": 389,
        "start_time": "2022-10-08T16:43:04.458Z"
      },
      {
        "duration": 732,
        "start_time": "2022-10-08T16:43:41.035Z"
      },
      {
        "duration": 548,
        "start_time": "2022-10-08T16:44:05.495Z"
      },
      {
        "duration": 347,
        "start_time": "2022-10-08T16:44:26.458Z"
      },
      {
        "duration": 6,
        "start_time": "2022-10-08T16:44:42.572Z"
      },
      {
        "duration": 706,
        "start_time": "2022-10-08T16:44:44.751Z"
      },
      {
        "duration": 4,
        "start_time": "2022-10-08T16:46:22.064Z"
      },
      {
        "duration": 3,
        "start_time": "2022-10-08T17:17:36.493Z"
      },
      {
        "duration": 3,
        "start_time": "2022-10-08T17:18:10.088Z"
      },
      {
        "duration": 607,
        "start_time": "2022-10-08T17:18:10.825Z"
      },
      {
        "duration": 4,
        "start_time": "2022-10-08T17:18:11.433Z"
      },
      {
        "duration": 98,
        "start_time": "2022-10-08T17:18:11.630Z"
      },
      {
        "duration": 143,
        "start_time": "2022-10-08T17:18:12.555Z"
      },
      {
        "duration": 5,
        "start_time": "2022-10-08T17:18:12.788Z"
      },
      {
        "duration": 5,
        "start_time": "2022-10-08T17:18:13.347Z"
      },
      {
        "duration": 2,
        "start_time": "2022-10-08T17:18:13.708Z"
      },
      {
        "duration": 5,
        "start_time": "2022-10-08T17:18:13.932Z"
      },
      {
        "duration": 4,
        "start_time": "2022-10-08T17:18:14.551Z"
      },
      {
        "duration": 131,
        "start_time": "2022-10-08T17:18:16.146Z"
      },
      {
        "duration": 5,
        "start_time": "2022-10-08T17:18:17.171Z"
      },
      {
        "duration": 3,
        "start_time": "2022-10-08T17:18:20.492Z"
      },
      {
        "duration": 20,
        "start_time": "2022-10-08T17:18:20.980Z"
      },
      {
        "duration": 15,
        "start_time": "2022-10-08T17:18:21.504Z"
      },
      {
        "duration": 58,
        "start_time": "2022-10-08T17:18:22.789Z"
      },
      {
        "duration": 572,
        "start_time": "2022-10-08T17:18:26.567Z"
      },
      {
        "duration": 696,
        "start_time": "2022-10-08T17:18:27.644Z"
      },
      {
        "duration": 554,
        "start_time": "2022-10-08T17:18:28.877Z"
      },
      {
        "duration": 39,
        "start_time": "2022-10-08T17:18:30.645Z"
      },
      {
        "duration": 353,
        "start_time": "2022-10-08T17:18:31.595Z"
      },
      {
        "duration": 7,
        "start_time": "2022-10-08T17:18:45.914Z"
      },
      {
        "duration": 623,
        "start_time": "2022-10-08T17:18:47.200Z"
      },
      {
        "duration": 4,
        "start_time": "2022-10-08T17:18:49.438Z"
      },
      {
        "duration": 3,
        "start_time": "2022-10-08T17:25:06.690Z"
      },
      {
        "duration": 7,
        "start_time": "2022-10-08T17:26:17.816Z"
      },
      {
        "duration": 67,
        "start_time": "2022-10-08T17:29:15.188Z"
      },
      {
        "duration": 10,
        "start_time": "2022-10-08T17:29:53.264Z"
      },
      {
        "duration": 4,
        "start_time": "2022-10-08T17:29:56.063Z"
      },
      {
        "duration": 6,
        "start_time": "2022-10-08T17:29:57.315Z"
      },
      {
        "duration": 37,
        "start_time": "2022-10-08T17:30:52.070Z"
      },
      {
        "duration": 12,
        "start_time": "2022-10-08T17:31:59.486Z"
      },
      {
        "duration": 650,
        "start_time": "2022-10-08T17:33:04.937Z"
      },
      {
        "duration": 3,
        "start_time": "2022-10-08T17:33:05.589Z"
      },
      {
        "duration": 113,
        "start_time": "2022-10-08T17:33:05.600Z"
      },
      {
        "duration": 148,
        "start_time": "2022-10-08T17:33:05.715Z"
      },
      {
        "duration": 6,
        "start_time": "2022-10-08T17:33:05.864Z"
      },
      {
        "duration": 10,
        "start_time": "2022-10-08T17:33:05.871Z"
      },
      {
        "duration": 18,
        "start_time": "2022-10-08T17:33:05.882Z"
      },
      {
        "duration": 7,
        "start_time": "2022-10-08T17:33:05.902Z"
      },
      {
        "duration": 4,
        "start_time": "2022-10-08T17:33:05.950Z"
      },
      {
        "duration": 59,
        "start_time": "2022-10-08T17:33:06.150Z"
      },
      {
        "duration": 4,
        "start_time": "2022-10-08T17:33:06.237Z"
      },
      {
        "duration": 4,
        "start_time": "2022-10-08T17:33:06.502Z"
      },
      {
        "duration": 19,
        "start_time": "2022-10-08T17:33:06.540Z"
      },
      {
        "duration": 15,
        "start_time": "2022-10-08T17:33:06.586Z"
      },
      {
        "duration": 54,
        "start_time": "2022-10-08T17:33:06.652Z"
      },
      {
        "duration": 576,
        "start_time": "2022-10-08T17:33:06.970Z"
      },
      {
        "duration": 732,
        "start_time": "2022-10-08T17:33:07.548Z"
      },
      {
        "duration": 591,
        "start_time": "2022-10-08T17:33:08.282Z"
      },
      {
        "duration": 45,
        "start_time": "2022-10-08T17:33:08.875Z"
      },
      {
        "duration": 518,
        "start_time": "2022-10-08T17:33:08.921Z"
      },
      {
        "duration": 7,
        "start_time": "2022-10-08T17:33:09.441Z"
      },
      {
        "duration": 483,
        "start_time": "2022-10-08T17:33:09.449Z"
      },
      {
        "duration": 4,
        "start_time": "2022-10-08T17:33:10.160Z"
      },
      {
        "duration": 3,
        "start_time": "2022-10-08T17:33:11.698Z"
      },
      {
        "duration": 6,
        "start_time": "2022-10-08T17:33:12.408Z"
      },
      {
        "duration": 4,
        "start_time": "2022-10-08T17:33:13.087Z"
      },
      {
        "duration": 20,
        "start_time": "2022-10-08T17:33:14.353Z"
      },
      {
        "duration": 24,
        "start_time": "2022-10-08T17:33:28.633Z"
      },
      {
        "duration": 38,
        "start_time": "2022-10-08T17:33:34.681Z"
      },
      {
        "duration": 15,
        "start_time": "2022-10-08T17:33:54.783Z"
      },
      {
        "duration": 5,
        "start_time": "2022-10-08T17:34:08.449Z"
      },
      {
        "duration": 5,
        "start_time": "2022-10-08T17:34:12.615Z"
      },
      {
        "duration": 23,
        "start_time": "2022-10-08T17:36:43.035Z"
      },
      {
        "duration": 20,
        "start_time": "2022-10-08T17:37:03.800Z"
      },
      {
        "duration": 16,
        "start_time": "2022-10-08T17:37:14.584Z"
      },
      {
        "duration": 602,
        "start_time": "2022-10-08T17:37:19.238Z"
      },
      {
        "duration": 3,
        "start_time": "2022-10-08T17:37:19.842Z"
      },
      {
        "duration": 94,
        "start_time": "2022-10-08T17:37:19.846Z"
      },
      {
        "duration": 138,
        "start_time": "2022-10-08T17:37:19.942Z"
      },
      {
        "duration": 5,
        "start_time": "2022-10-08T17:37:20.082Z"
      },
      {
        "duration": 16,
        "start_time": "2022-10-08T17:37:20.089Z"
      },
      {
        "duration": 3,
        "start_time": "2022-10-08T17:37:20.146Z"
      },
      {
        "duration": 4,
        "start_time": "2022-10-08T17:37:20.171Z"
      },
      {
        "duration": 4,
        "start_time": "2022-10-08T17:37:20.249Z"
      },
      {
        "duration": 47,
        "start_time": "2022-10-08T17:37:20.459Z"
      },
      {
        "duration": 5,
        "start_time": "2022-10-08T17:37:20.539Z"
      },
      {
        "duration": 3,
        "start_time": "2022-10-08T17:37:20.807Z"
      },
      {
        "duration": 21,
        "start_time": "2022-10-08T17:37:20.849Z"
      },
      {
        "duration": 15,
        "start_time": "2022-10-08T17:37:20.899Z"
      },
      {
        "duration": 54,
        "start_time": "2022-10-08T17:37:20.954Z"
      },
      {
        "duration": 736,
        "start_time": "2022-10-08T17:37:21.266Z"
      },
      {
        "duration": 618,
        "start_time": "2022-10-08T17:37:22.004Z"
      },
      {
        "duration": 545,
        "start_time": "2022-10-08T17:37:22.624Z"
      },
      {
        "duration": 44,
        "start_time": "2022-10-08T17:37:23.171Z"
      },
      {
        "duration": 553,
        "start_time": "2022-10-08T17:37:23.217Z"
      },
      {
        "duration": 7,
        "start_time": "2022-10-08T17:37:23.772Z"
      },
      {
        "duration": 522,
        "start_time": "2022-10-08T17:37:23.780Z"
      },
      {
        "duration": 4,
        "start_time": "2022-10-08T17:37:24.304Z"
      },
      {
        "duration": 3,
        "start_time": "2022-10-08T17:37:25.883Z"
      },
      {
        "duration": 6,
        "start_time": "2022-10-08T17:37:26.498Z"
      },
      {
        "duration": 17,
        "start_time": "2022-10-08T17:37:34.942Z"
      },
      {
        "duration": 27,
        "start_time": "2022-10-08T17:37:42.100Z"
      },
      {
        "duration": 25,
        "start_time": "2022-10-08T17:37:51.647Z"
      },
      {
        "duration": 6,
        "start_time": "2022-10-08T17:38:00.770Z"
      },
      {
        "duration": 5,
        "start_time": "2022-10-08T17:38:05.528Z"
      },
      {
        "duration": 5,
        "start_time": "2022-10-08T17:39:06.622Z"
      },
      {
        "duration": 15,
        "start_time": "2022-10-08T17:40:22.539Z"
      },
      {
        "duration": 16,
        "start_time": "2022-10-08T17:42:05.297Z"
      },
      {
        "duration": 3,
        "start_time": "2022-10-08T17:43:02.216Z"
      },
      {
        "duration": 3,
        "start_time": "2022-10-08T17:43:02.622Z"
      },
      {
        "duration": 3,
        "start_time": "2022-10-08T17:43:08.477Z"
      },
      {
        "duration": 3,
        "start_time": "2022-10-08T17:43:19.936Z"
      },
      {
        "duration": 27,
        "start_time": "2022-10-08T17:54:07.212Z"
      },
      {
        "duration": 362,
        "start_time": "2022-10-08T17:54:14.520Z"
      },
      {
        "duration": 195,
        "start_time": "2022-10-08T17:54:31.507Z"
      },
      {
        "duration": 3,
        "start_time": "2022-10-08T17:54:38.411Z"
      },
      {
        "duration": 3,
        "start_time": "2022-10-08T17:54:42.743Z"
      },
      {
        "duration": 3,
        "start_time": "2022-10-08T17:54:43.406Z"
      },
      {
        "duration": 3,
        "start_time": "2022-10-08T17:54:43.791Z"
      },
      {
        "duration": 2,
        "start_time": "2022-10-08T17:54:44.120Z"
      },
      {
        "duration": 195,
        "start_time": "2022-10-08T17:54:49.577Z"
      },
      {
        "duration": 685,
        "start_time": "2022-10-08T17:55:38.892Z"
      },
      {
        "duration": 9530,
        "start_time": "2022-10-08T17:55:56.233Z"
      },
      {
        "duration": 49,
        "start_time": "2022-10-08T17:56:38.081Z"
      },
      {
        "duration": 9529,
        "start_time": "2022-10-08T17:56:47.143Z"
      },
      {
        "duration": 54,
        "start_time": "2022-10-08T17:57:48.405Z"
      },
      {
        "duration": 65,
        "start_time": "2022-10-08T17:58:01.736Z"
      },
      {
        "duration": 198,
        "start_time": "2022-10-08T17:58:12.686Z"
      },
      {
        "duration": 4,
        "start_time": "2022-10-08T17:59:51.157Z"
      },
      {
        "duration": 4,
        "start_time": "2022-10-08T17:59:54.496Z"
      },
      {
        "duration": 2,
        "start_time": "2022-10-08T17:59:54.938Z"
      },
      {
        "duration": 215,
        "start_time": "2022-10-08T17:59:58.434Z"
      },
      {
        "duration": 48,
        "start_time": "2022-10-08T18:00:31.732Z"
      },
      {
        "duration": 10095,
        "start_time": "2022-10-08T18:01:55.023Z"
      },
      {
        "duration": 10046,
        "start_time": "2022-10-08T18:03:31.461Z"
      },
      {
        "duration": 10052,
        "start_time": "2022-10-08T18:04:08.162Z"
      },
      {
        "duration": 18297,
        "start_time": "2022-10-08T18:04:41.535Z"
      },
      {
        "duration": 63,
        "start_time": "2022-10-08T18:07:52.311Z"
      },
      {
        "duration": 60,
        "start_time": "2022-10-08T18:08:06.442Z"
      },
      {
        "duration": 63,
        "start_time": "2022-10-08T18:08:14.833Z"
      },
      {
        "duration": 18507,
        "start_time": "2022-10-08T18:08:48.290Z"
      },
      {
        "duration": 7099,
        "start_time": "2022-10-08T18:10:15.540Z"
      },
      {
        "duration": 6783,
        "start_time": "2022-10-08T18:11:53.136Z"
      },
      {
        "duration": 2961,
        "start_time": "2022-10-08T18:12:11.643Z"
      },
      {
        "duration": 51,
        "start_time": "2022-10-08T18:13:55.477Z"
      },
      {
        "duration": 527280,
        "start_time": "2022-10-08T18:14:21.921Z"
      },
      {
        "duration": 73340,
        "start_time": "2022-10-08T18:28:45.396Z"
      },
      {
        "duration": 43816,
        "start_time": "2022-10-08T18:34:25.915Z"
      },
      {
        "duration": 59262,
        "start_time": "2022-10-08T18:35:18.393Z"
      },
      {
        "duration": 3,
        "start_time": "2022-10-08T18:37:35.037Z"
      },
      {
        "duration": 624,
        "start_time": "2022-10-08T18:37:35.149Z"
      },
      {
        "duration": 3,
        "start_time": "2022-10-08T18:37:35.775Z"
      },
      {
        "duration": 102,
        "start_time": "2022-10-08T18:37:35.779Z"
      },
      {
        "duration": 167,
        "start_time": "2022-10-08T18:37:35.883Z"
      },
      {
        "duration": 5,
        "start_time": "2022-10-08T18:37:36.052Z"
      },
      {
        "duration": 11,
        "start_time": "2022-10-08T18:37:36.058Z"
      },
      {
        "duration": 3,
        "start_time": "2022-10-08T18:37:36.070Z"
      },
      {
        "duration": 27,
        "start_time": "2022-10-08T18:37:36.075Z"
      },
      {
        "duration": 5,
        "start_time": "2022-10-08T18:37:36.103Z"
      },
      {
        "duration": 47,
        "start_time": "2022-10-08T18:37:36.110Z"
      },
      {
        "duration": 0,
        "start_time": "2022-10-08T18:37:36.158Z"
      },
      {
        "duration": 3,
        "start_time": "2022-10-08T18:37:36.247Z"
      },
      {
        "duration": 21,
        "start_time": "2022-10-08T18:37:36.283Z"
      },
      {
        "duration": 16,
        "start_time": "2022-10-08T18:37:36.334Z"
      },
      {
        "duration": 56,
        "start_time": "2022-10-08T18:37:36.395Z"
      },
      {
        "duration": 719,
        "start_time": "2022-10-08T18:37:36.687Z"
      },
      {
        "duration": 598,
        "start_time": "2022-10-08T18:37:37.408Z"
      },
      {
        "duration": 754,
        "start_time": "2022-10-08T18:37:38.007Z"
      },
      {
        "duration": 50,
        "start_time": "2022-10-08T18:37:38.764Z"
      },
      {
        "duration": 393,
        "start_time": "2022-10-08T18:37:38.816Z"
      },
      {
        "duration": 7,
        "start_time": "2022-10-08T18:37:39.211Z"
      },
      {
        "duration": 513,
        "start_time": "2022-10-08T18:37:39.220Z"
      },
      {
        "duration": 3,
        "start_time": "2022-10-08T18:37:39.735Z"
      },
      {
        "duration": 6,
        "start_time": "2022-10-08T18:37:39.740Z"
      },
      {
        "duration": 10,
        "start_time": "2022-10-08T18:37:39.748Z"
      },
      {
        "duration": 18,
        "start_time": "2022-10-08T18:37:39.759Z"
      },
      {
        "duration": 3,
        "start_time": "2022-10-08T18:37:39.778Z"
      },
      {
        "duration": 18,
        "start_time": "2022-10-08T18:37:39.782Z"
      },
      {
        "duration": 8,
        "start_time": "2022-10-08T18:37:39.802Z"
      },
      {
        "duration": 5,
        "start_time": "2022-10-08T18:37:39.811Z"
      },
      {
        "duration": 6925,
        "start_time": "2022-10-08T18:37:54.532Z"
      },
      {
        "duration": 524826,
        "start_time": "2022-10-08T18:38:24.891Z"
      },
      {
        "duration": 23675,
        "start_time": "2022-10-08T18:47:09.719Z"
      },
      {
        "duration": 1267,
        "start_time": "2022-10-08T18:47:50.450Z"
      },
      {
        "duration": 659,
        "start_time": "2022-10-08T18:47:51.719Z"
      },
      {
        "duration": 3,
        "start_time": "2022-10-08T18:47:52.382Z"
      },
      {
        "duration": 118,
        "start_time": "2022-10-08T18:47:52.386Z"
      },
      {
        "duration": 149,
        "start_time": "2022-10-08T18:47:52.506Z"
      },
      {
        "duration": 5,
        "start_time": "2022-10-08T18:47:52.656Z"
      },
      {
        "duration": 15,
        "start_time": "2022-10-08T18:47:52.663Z"
      },
      {
        "duration": 17,
        "start_time": "2022-10-08T18:47:52.679Z"
      },
      {
        "duration": 6,
        "start_time": "2022-10-08T18:47:52.698Z"
      },
      {
        "duration": 10,
        "start_time": "2022-10-08T18:47:52.705Z"
      },
      {
        "duration": 40,
        "start_time": "2022-10-08T18:47:52.716Z"
      },
      {
        "duration": 0,
        "start_time": "2022-10-08T18:47:52.758Z"
      },
      {
        "duration": 0,
        "start_time": "2022-10-08T18:47:52.759Z"
      },
      {
        "duration": 0,
        "start_time": "2022-10-08T18:47:52.760Z"
      },
      {
        "duration": 0,
        "start_time": "2022-10-08T18:47:52.761Z"
      },
      {
        "duration": 0,
        "start_time": "2022-10-08T18:47:52.762Z"
      },
      {
        "duration": 0,
        "start_time": "2022-10-08T18:47:52.763Z"
      },
      {
        "duration": 0,
        "start_time": "2022-10-08T18:47:52.764Z"
      },
      {
        "duration": 0,
        "start_time": "2022-10-08T18:47:52.765Z"
      },
      {
        "duration": 0,
        "start_time": "2022-10-08T18:47:52.766Z"
      },
      {
        "duration": 0,
        "start_time": "2022-10-08T18:47:52.767Z"
      },
      {
        "duration": 0,
        "start_time": "2022-10-08T18:47:52.767Z"
      },
      {
        "duration": 0,
        "start_time": "2022-10-08T18:47:52.768Z"
      },
      {
        "duration": 0,
        "start_time": "2022-10-08T18:47:52.769Z"
      },
      {
        "duration": 0,
        "start_time": "2022-10-08T18:47:52.771Z"
      },
      {
        "duration": 0,
        "start_time": "2022-10-08T18:47:52.772Z"
      },
      {
        "duration": 0,
        "start_time": "2022-10-08T18:47:52.773Z"
      },
      {
        "duration": 0,
        "start_time": "2022-10-08T18:47:52.774Z"
      },
      {
        "duration": 0,
        "start_time": "2022-10-08T18:47:52.775Z"
      },
      {
        "duration": 1,
        "start_time": "2022-10-08T18:47:52.776Z"
      },
      {
        "duration": 0,
        "start_time": "2022-10-08T18:47:52.778Z"
      },
      {
        "duration": 0,
        "start_time": "2022-10-08T18:47:52.779Z"
      },
      {
        "duration": 0,
        "start_time": "2022-10-08T18:47:52.780Z"
      },
      {
        "duration": 0,
        "start_time": "2022-10-08T18:47:52.782Z"
      },
      {
        "duration": 0,
        "start_time": "2022-10-08T18:47:52.783Z"
      },
      {
        "duration": 0,
        "start_time": "2022-10-08T18:47:52.784Z"
      },
      {
        "duration": 0,
        "start_time": "2022-10-08T18:47:52.785Z"
      },
      {
        "duration": 3,
        "start_time": "2022-10-08T18:48:03.242Z"
      },
      {
        "duration": 713,
        "start_time": "2022-10-08T18:48:03.840Z"
      },
      {
        "duration": 3,
        "start_time": "2022-10-08T18:48:04.555Z"
      },
      {
        "duration": 110,
        "start_time": "2022-10-08T18:48:04.560Z"
      },
      {
        "duration": 163,
        "start_time": "2022-10-08T18:48:04.672Z"
      },
      {
        "duration": 6,
        "start_time": "2022-10-08T18:48:04.837Z"
      },
      {
        "duration": 23,
        "start_time": "2022-10-08T18:48:04.844Z"
      },
      {
        "duration": 2,
        "start_time": "2022-10-08T18:48:05.332Z"
      },
      {
        "duration": 4,
        "start_time": "2022-10-08T18:48:05.864Z"
      },
      {
        "duration": 5,
        "start_time": "2022-10-08T18:48:05.935Z"
      },
      {
        "duration": 48,
        "start_time": "2022-10-08T18:48:06.130Z"
      },
      {
        "duration": 4,
        "start_time": "2022-10-08T18:48:06.199Z"
      },
      {
        "duration": 3,
        "start_time": "2022-10-08T18:48:06.497Z"
      },
      {
        "duration": 55,
        "start_time": "2022-10-08T18:48:06.551Z"
      },
      {
        "duration": 15,
        "start_time": "2022-10-08T18:48:06.608Z"
      },
      {
        "duration": 57,
        "start_time": "2022-10-08T18:48:06.639Z"
      },
      {
        "duration": 702,
        "start_time": "2022-10-08T18:48:06.950Z"
      },
      {
        "duration": 625,
        "start_time": "2022-10-08T18:48:07.654Z"
      },
      {
        "duration": 729,
        "start_time": "2022-10-08T18:48:08.280Z"
      },
      {
        "duration": 37,
        "start_time": "2022-10-08T18:48:09.011Z"
      },
      {
        "duration": 383,
        "start_time": "2022-10-08T18:48:09.050Z"
      },
      {
        "duration": 7,
        "start_time": "2022-10-08T18:48:09.435Z"
      },
      {
        "duration": 482,
        "start_time": "2022-10-08T18:48:09.462Z"
      },
      {
        "duration": 3,
        "start_time": "2022-10-08T18:48:10.863Z"
      },
      {
        "duration": 3,
        "start_time": "2022-10-08T18:48:12.574Z"
      },
      {
        "duration": 103,
        "start_time": "2022-10-08T18:48:12.772Z"
      },
      {
        "duration": 41,
        "start_time": "2022-10-08T18:49:23.154Z"
      },
      {
        "duration": 47,
        "start_time": "2022-10-08T18:49:30.467Z"
      },
      {
        "duration": 7,
        "start_time": "2022-10-08T18:51:05.057Z"
      },
      {
        "duration": 3,
        "start_time": "2022-10-08T18:51:08.845Z"
      },
      {
        "duration": 669,
        "start_time": "2022-10-08T18:51:08.952Z"
      },
      {
        "duration": 3,
        "start_time": "2022-10-08T18:51:09.623Z"
      },
      {
        "duration": 210,
        "start_time": "2022-10-08T18:51:09.627Z"
      },
      {
        "duration": 156,
        "start_time": "2022-10-08T18:51:09.839Z"
      },
      {
        "duration": 5,
        "start_time": "2022-10-08T18:51:10.000Z"
      },
      {
        "duration": 20,
        "start_time": "2022-10-08T18:51:10.006Z"
      },
      {
        "duration": 4,
        "start_time": "2022-10-08T18:51:10.027Z"
      },
      {
        "duration": 9,
        "start_time": "2022-10-08T18:51:10.032Z"
      },
      {
        "duration": 6,
        "start_time": "2022-10-08T18:51:10.043Z"
      },
      {
        "duration": 8,
        "start_time": "2022-10-08T18:51:10.051Z"
      },
      {
        "duration": 6,
        "start_time": "2022-10-08T18:51:10.061Z"
      },
      {
        "duration": 7,
        "start_time": "2022-10-08T18:51:10.069Z"
      },
      {
        "duration": 33,
        "start_time": "2022-10-08T18:51:10.078Z"
      },
      {
        "duration": 15,
        "start_time": "2022-10-08T18:51:10.115Z"
      },
      {
        "duration": 57,
        "start_time": "2022-10-08T18:51:10.184Z"
      },
      {
        "duration": 587,
        "start_time": "2022-10-08T18:51:10.477Z"
      },
      {
        "duration": 646,
        "start_time": "2022-10-08T18:51:11.066Z"
      },
      {
        "duration": 710,
        "start_time": "2022-10-08T18:51:11.714Z"
      },
      {
        "duration": 32,
        "start_time": "2022-10-08T18:51:12.426Z"
      },
      {
        "duration": 374,
        "start_time": "2022-10-08T18:51:12.460Z"
      },
      {
        "duration": 8,
        "start_time": "2022-10-08T18:51:12.835Z"
      },
      {
        "duration": 594,
        "start_time": "2022-10-08T18:51:12.844Z"
      },
      {
        "duration": 4,
        "start_time": "2022-10-08T18:51:13.440Z"
      },
      {
        "duration": 8,
        "start_time": "2022-10-08T18:51:13.445Z"
      },
      {
        "duration": 8,
        "start_time": "2022-10-08T18:51:13.456Z"
      },
      {
        "duration": 17,
        "start_time": "2022-10-08T18:51:13.466Z"
      },
      {
        "duration": 15,
        "start_time": "2022-10-08T18:51:13.485Z"
      },
      {
        "duration": 15,
        "start_time": "2022-10-08T18:51:13.502Z"
      },
      {
        "duration": 8,
        "start_time": "2022-10-08T18:51:13.519Z"
      },
      {
        "duration": 5,
        "start_time": "2022-10-08T18:51:13.528Z"
      },
      {
        "duration": 7915,
        "start_time": "2022-10-08T18:51:13.535Z"
      },
      {
        "duration": 522622,
        "start_time": "2022-10-08T18:51:21.452Z"
      },
      {
        "duration": 80741,
        "start_time": "2022-10-08T19:02:49.187Z"
      },
      {
        "duration": 80887,
        "start_time": "2022-10-08T19:05:15.886Z"
      },
      {
        "duration": 3,
        "start_time": "2022-10-08T19:08:48.940Z"
      },
      {
        "duration": 622,
        "start_time": "2022-10-08T19:08:49.536Z"
      },
      {
        "duration": 4,
        "start_time": "2022-10-08T19:08:50.160Z"
      },
      {
        "duration": 104,
        "start_time": "2022-10-08T19:08:50.166Z"
      },
      {
        "duration": 160,
        "start_time": "2022-10-08T19:08:50.272Z"
      },
      {
        "duration": 5,
        "start_time": "2022-10-08T19:08:50.434Z"
      },
      {
        "duration": 8,
        "start_time": "2022-10-08T19:08:50.441Z"
      },
      {
        "duration": 3,
        "start_time": "2022-10-08T19:08:50.451Z"
      },
      {
        "duration": 7,
        "start_time": "2022-10-08T19:08:50.456Z"
      },
      {
        "duration": 5,
        "start_time": "2022-10-08T19:08:50.464Z"
      },
      {
        "duration": 33,
        "start_time": "2022-10-08T19:08:50.472Z"
      },
      {
        "duration": 6,
        "start_time": "2022-10-08T19:08:50.507Z"
      },
      {
        "duration": 4,
        "start_time": "2022-10-08T19:08:50.630Z"
      },
      {
        "duration": 20,
        "start_time": "2022-10-08T19:08:50.654Z"
      },
      {
        "duration": 16,
        "start_time": "2022-10-08T19:08:50.697Z"
      },
      {
        "duration": 55,
        "start_time": "2022-10-08T19:08:50.764Z"
      },
      {
        "duration": 583,
        "start_time": "2022-10-08T19:08:51.078Z"
      },
      {
        "duration": 737,
        "start_time": "2022-10-08T19:08:51.663Z"
      },
      {
        "duration": 614,
        "start_time": "2022-10-08T19:08:52.402Z"
      },
      {
        "duration": 40,
        "start_time": "2022-10-08T19:08:53.018Z"
      },
      {
        "duration": 387,
        "start_time": "2022-10-08T19:08:53.060Z"
      },
      {
        "duration": 9,
        "start_time": "2022-10-08T19:08:53.450Z"
      },
      {
        "duration": 618,
        "start_time": "2022-10-08T19:08:53.461Z"
      },
      {
        "duration": 6,
        "start_time": "2022-10-08T19:08:54.081Z"
      },
      {
        "duration": 18,
        "start_time": "2022-10-08T19:08:54.088Z"
      },
      {
        "duration": 9,
        "start_time": "2022-10-08T19:08:54.108Z"
      },
      {
        "duration": 17,
        "start_time": "2022-10-08T19:08:55.543Z"
      },
      {
        "duration": 3,
        "start_time": "2022-10-08T19:08:56.751Z"
      },
      {
        "duration": 3,
        "start_time": "2022-10-08T19:08:57.083Z"
      },
      {
        "duration": 4,
        "start_time": "2022-10-08T19:08:57.474Z"
      },
      {
        "duration": 3,
        "start_time": "2022-10-08T19:08:57.763Z"
      },
      {
        "duration": 7047,
        "start_time": "2022-10-08T19:09:00.355Z"
      },
      {
        "duration": 518684,
        "start_time": "2022-10-08T19:09:15.808Z"
      },
      {
        "duration": 82784,
        "start_time": "2022-10-08T19:19:35.136Z"
      },
      {
        "duration": 18376,
        "start_time": "2022-10-08T19:23:04.395Z"
      },
      {
        "duration": 57301,
        "start_time": "2022-10-08T19:23:36.916Z"
      },
      {
        "duration": 24456,
        "start_time": "2022-10-08T19:25:30.508Z"
      },
      {
        "duration": 433,
        "start_time": "2022-10-08T19:25:54.966Z"
      },
      {
        "duration": 2202,
        "start_time": "2022-10-08T19:30:01.399Z"
      },
      {
        "duration": 1772,
        "start_time": "2022-10-08T19:30:27.934Z"
      },
      {
        "duration": 2138,
        "start_time": "2022-10-08T19:31:51.468Z"
      },
      {
        "duration": 1812,
        "start_time": "2022-10-08T19:33:17.091Z"
      },
      {
        "duration": 1854,
        "start_time": "2022-10-08T19:33:55.055Z"
      },
      {
        "duration": 2027,
        "start_time": "2022-10-08T19:34:20.681Z"
      },
      {
        "duration": 1579,
        "start_time": "2022-10-08T19:34:50.925Z"
      },
      {
        "duration": 1681,
        "start_time": "2022-10-08T19:35:41.228Z"
      },
      {
        "duration": 2034,
        "start_time": "2022-10-08T19:35:56.971Z"
      },
      {
        "duration": 1883,
        "start_time": "2022-10-08T19:36:32.629Z"
      },
      {
        "duration": 24858,
        "start_time": "2022-10-08T19:38:41.669Z"
      },
      {
        "duration": 17,
        "start_time": "2022-10-08T19:48:32.177Z"
      },
      {
        "duration": 3,
        "start_time": "2022-10-08T19:50:35.503Z"
      },
      {
        "duration": 3,
        "start_time": "2022-10-08T19:51:14.333Z"
      },
      {
        "duration": 6898,
        "start_time": "2022-10-08T19:55:55.910Z"
      },
      {
        "duration": 6869,
        "start_time": "2022-10-08T19:56:26.333Z"
      },
      {
        "duration": 6930,
        "start_time": "2022-10-08T19:56:58.738Z"
      },
      {
        "duration": 7050,
        "start_time": "2022-10-08T19:57:33.342Z"
      },
      {
        "duration": 517099,
        "start_time": "2022-10-08T19:57:57.641Z"
      },
      {
        "duration": 2174,
        "start_time": "2022-10-08T20:07:37.335Z"
      },
      {
        "duration": 4,
        "start_time": "2022-10-08T20:14:23.341Z"
      },
      {
        "duration": 8,
        "start_time": "2022-10-08T20:18:54.332Z"
      },
      {
        "duration": 17984,
        "start_time": "2022-10-08T20:24:42.793Z"
      },
      {
        "duration": 3,
        "start_time": "2022-10-08T20:31:15.102Z"
      },
      {
        "duration": 643,
        "start_time": "2022-10-08T20:31:15.214Z"
      },
      {
        "duration": 4,
        "start_time": "2022-10-08T20:31:15.860Z"
      },
      {
        "duration": 102,
        "start_time": "2022-10-08T20:31:15.865Z"
      },
      {
        "duration": 160,
        "start_time": "2022-10-08T20:31:15.969Z"
      },
      {
        "duration": 5,
        "start_time": "2022-10-08T20:31:16.130Z"
      },
      {
        "duration": 5,
        "start_time": "2022-10-08T20:31:16.136Z"
      },
      {
        "duration": 6,
        "start_time": "2022-10-08T20:31:16.143Z"
      },
      {
        "duration": 5,
        "start_time": "2022-10-08T20:31:16.151Z"
      },
      {
        "duration": 8,
        "start_time": "2022-10-08T20:31:16.158Z"
      },
      {
        "duration": 3,
        "start_time": "2022-10-08T20:31:16.379Z"
      },
      {
        "duration": 21,
        "start_time": "2022-10-08T20:31:16.416Z"
      },
      {
        "duration": 16,
        "start_time": "2022-10-08T20:31:16.461Z"
      },
      {
        "duration": 57,
        "start_time": "2022-10-08T20:31:16.529Z"
      },
      {
        "duration": 698,
        "start_time": "2022-10-08T20:31:16.747Z"
      },
      {
        "duration": 585,
        "start_time": "2022-10-08T20:31:17.447Z"
      },
      {
        "duration": 727,
        "start_time": "2022-10-08T20:31:18.034Z"
      },
      {
        "duration": 47,
        "start_time": "2022-10-08T20:31:18.763Z"
      },
      {
        "duration": 368,
        "start_time": "2022-10-08T20:31:18.811Z"
      },
      {
        "duration": 6,
        "start_time": "2022-10-08T20:31:19.181Z"
      },
      {
        "duration": 511,
        "start_time": "2022-10-08T20:31:19.189Z"
      },
      {
        "duration": 4,
        "start_time": "2022-10-08T20:31:19.701Z"
      },
      {
        "duration": 6,
        "start_time": "2022-10-08T20:31:19.707Z"
      },
      {
        "duration": 8,
        "start_time": "2022-10-08T20:31:19.716Z"
      },
      {
        "duration": 20,
        "start_time": "2022-10-08T20:31:19.726Z"
      },
      {
        "duration": 3,
        "start_time": "2022-10-08T20:31:19.747Z"
      },
      {
        "duration": 10,
        "start_time": "2022-10-08T20:31:19.752Z"
      },
      {
        "duration": 11,
        "start_time": "2022-10-08T20:31:19.764Z"
      },
      {
        "duration": 8,
        "start_time": "2022-10-08T20:31:19.777Z"
      },
      {
        "duration": 7058,
        "start_time": "2022-10-08T20:31:19.787Z"
      },
      {
        "duration": 522557,
        "start_time": "2022-10-08T20:31:26.847Z"
      },
      {
        "duration": 2402,
        "start_time": "2022-10-08T20:40:09.406Z"
      },
      {
        "duration": 18683,
        "start_time": "2022-10-08T20:40:11.810Z"
      },
      {
        "duration": 11,
        "start_time": "2022-10-08T20:40:30.494Z"
      },
      {
        "duration": 1231,
        "start_time": "2022-10-08T20:47:28.464Z"
      },
      {
        "duration": 668,
        "start_time": "2022-10-08T20:47:29.697Z"
      },
      {
        "duration": 4,
        "start_time": "2022-10-08T20:47:30.367Z"
      },
      {
        "duration": 134,
        "start_time": "2022-10-08T20:47:30.373Z"
      },
      {
        "duration": 177,
        "start_time": "2022-10-08T20:47:30.511Z"
      },
      {
        "duration": 11,
        "start_time": "2022-10-08T20:47:30.690Z"
      },
      {
        "duration": 43,
        "start_time": "2022-10-08T20:47:30.703Z"
      },
      {
        "duration": 42,
        "start_time": "2022-10-08T20:47:30.747Z"
      },
      {
        "duration": 33,
        "start_time": "2022-10-08T20:47:30.791Z"
      },
      {
        "duration": 36,
        "start_time": "2022-10-08T20:47:30.827Z"
      },
      {
        "duration": 55,
        "start_time": "2022-10-08T20:47:30.864Z"
      },
      {
        "duration": 72,
        "start_time": "2022-10-08T20:47:30.920Z"
      },
      {
        "duration": 14,
        "start_time": "2022-10-08T20:47:30.994Z"
      },
      {
        "duration": 63,
        "start_time": "2022-10-08T20:47:31.011Z"
      },
      {
        "duration": 680,
        "start_time": "2022-10-08T20:47:31.076Z"
      },
      {
        "duration": 613,
        "start_time": "2022-10-08T20:47:31.758Z"
      },
      {
        "duration": 747,
        "start_time": "2022-10-08T20:47:32.373Z"
      },
      {
        "duration": 38,
        "start_time": "2022-10-08T20:47:33.122Z"
      },
      {
        "duration": 383,
        "start_time": "2022-10-08T20:47:33.162Z"
      },
      {
        "duration": 6,
        "start_time": "2022-10-08T20:47:33.547Z"
      },
      {
        "duration": 496,
        "start_time": "2022-10-08T20:47:33.554Z"
      },
      {
        "duration": 3,
        "start_time": "2022-10-08T20:47:34.051Z"
      },
      {
        "duration": 8,
        "start_time": "2022-10-08T20:47:34.056Z"
      },
      {
        "duration": 10,
        "start_time": "2022-10-08T20:47:34.065Z"
      },
      {
        "duration": 29,
        "start_time": "2022-10-08T20:47:34.076Z"
      },
      {
        "duration": 4,
        "start_time": "2022-10-08T20:47:34.106Z"
      },
      {
        "duration": 5,
        "start_time": "2022-10-08T20:47:34.111Z"
      },
      {
        "duration": 6,
        "start_time": "2022-10-08T20:47:34.118Z"
      },
      {
        "duration": 6,
        "start_time": "2022-10-08T20:47:34.125Z"
      },
      {
        "duration": 7123,
        "start_time": "2022-10-08T20:47:34.132Z"
      },
      {
        "duration": 526261,
        "start_time": "2022-10-08T20:47:41.256Z"
      },
      {
        "duration": 1591,
        "start_time": "2022-10-08T20:56:27.519Z"
      },
      {
        "duration": 18184,
        "start_time": "2022-10-08T20:56:29.202Z"
      },
      {
        "duration": 15,
        "start_time": "2022-10-08T20:56:47.387Z"
      },
      {
        "duration": 1689,
        "start_time": "2022-10-09T10:41:59.435Z"
      },
      {
        "duration": 2386,
        "start_time": "2022-10-09T10:42:01.128Z"
      },
      {
        "duration": 4,
        "start_time": "2022-10-09T10:42:03.516Z"
      },
      {
        "duration": 130,
        "start_time": "2022-10-09T10:42:03.522Z"
      },
      {
        "duration": 217,
        "start_time": "2022-10-09T10:42:03.654Z"
      },
      {
        "duration": 17,
        "start_time": "2022-10-09T10:42:03.874Z"
      },
      {
        "duration": 5,
        "start_time": "2022-10-09T10:42:03.893Z"
      },
      {
        "duration": 17,
        "start_time": "2022-10-09T10:42:03.900Z"
      },
      {
        "duration": 6,
        "start_time": "2022-10-09T10:42:03.974Z"
      },
      {
        "duration": 8,
        "start_time": "2022-10-09T10:42:05.603Z"
      },
      {
        "duration": 5,
        "start_time": "2022-10-09T10:42:09.593Z"
      },
      {
        "duration": 63,
        "start_time": "2022-10-09T10:42:09.994Z"
      },
      {
        "duration": 21,
        "start_time": "2022-10-09T10:42:10.361Z"
      },
      {
        "duration": 76,
        "start_time": "2022-10-09T10:42:11.473Z"
      },
      {
        "duration": 4,
        "start_time": "2022-10-09T10:51:59.424Z"
      },
      {
        "duration": 774,
        "start_time": "2022-10-09T10:51:59.474Z"
      },
      {
        "duration": 14,
        "start_time": "2022-10-09T10:52:00.251Z"
      },
      {
        "duration": 139,
        "start_time": "2022-10-09T10:52:00.277Z"
      },
      {
        "duration": 196,
        "start_time": "2022-10-09T10:52:00.419Z"
      },
      {
        "duration": 7,
        "start_time": "2022-10-09T10:52:00.617Z"
      },
      {
        "duration": 60,
        "start_time": "2022-10-09T10:52:00.626Z"
      },
      {
        "duration": 33,
        "start_time": "2022-10-09T10:52:00.689Z"
      },
      {
        "duration": 9,
        "start_time": "2022-10-09T10:52:00.724Z"
      },
      {
        "duration": 18,
        "start_time": "2022-10-09T10:52:00.735Z"
      },
      {
        "duration": 19,
        "start_time": "2022-10-09T10:52:00.756Z"
      },
      {
        "duration": 104,
        "start_time": "2022-10-09T10:52:03.300Z"
      },
      {
        "duration": 18,
        "start_time": "2022-10-09T10:52:05.270Z"
      },
      {
        "duration": 9,
        "start_time": "2022-10-09T10:52:09.991Z"
      },
      {
        "duration": 25,
        "start_time": "2022-10-09T10:52:24.760Z"
      },
      {
        "duration": 11,
        "start_time": "2022-10-09T10:52:41.975Z"
      },
      {
        "duration": 8,
        "start_time": "2022-10-09T10:53:39.229Z"
      },
      {
        "duration": 69,
        "start_time": "2022-10-09T10:56:07.612Z"
      },
      {
        "duration": 10,
        "start_time": "2022-10-09T10:56:09.546Z"
      },
      {
        "duration": 10,
        "start_time": "2022-10-09T10:56:19.723Z"
      },
      {
        "duration": 719,
        "start_time": "2022-10-09T10:56:34.501Z"
      },
      {
        "duration": 4,
        "start_time": "2022-10-09T10:56:35.222Z"
      },
      {
        "duration": 162,
        "start_time": "2022-10-09T10:56:35.228Z"
      },
      {
        "duration": 186,
        "start_time": "2022-10-09T10:56:35.471Z"
      },
      {
        "duration": 7,
        "start_time": "2022-10-09T10:56:36.112Z"
      },
      {
        "duration": 4,
        "start_time": "2022-10-09T10:56:36.629Z"
      },
      {
        "duration": 5,
        "start_time": "2022-10-09T10:56:36.856Z"
      },
      {
        "duration": 6,
        "start_time": "2022-10-09T10:56:37.228Z"
      },
      {
        "duration": 8,
        "start_time": "2022-10-09T10:56:38.256Z"
      },
      {
        "duration": 4,
        "start_time": "2022-10-09T10:56:41.503Z"
      },
      {
        "duration": 31,
        "start_time": "2022-10-09T10:56:42.016Z"
      },
      {
        "duration": 18,
        "start_time": "2022-10-09T10:56:42.333Z"
      },
      {
        "duration": 12,
        "start_time": "2022-10-09T10:56:44.794Z"
      },
      {
        "duration": 62,
        "start_time": "2022-10-09T10:56:46.809Z"
      },
      {
        "duration": 704,
        "start_time": "2022-10-09T10:56:52.765Z"
      },
      {
        "duration": 811,
        "start_time": "2022-10-09T10:56:53.471Z"
      },
      {
        "duration": 680,
        "start_time": "2022-10-09T10:56:54.284Z"
      },
      {
        "duration": 44,
        "start_time": "2022-10-09T10:56:58.493Z"
      },
      {
        "duration": 439,
        "start_time": "2022-10-09T10:57:00.195Z"
      },
      {
        "duration": 9,
        "start_time": "2022-10-09T10:57:06.570Z"
      },
      {
        "duration": 811,
        "start_time": "2022-10-09T10:57:10.625Z"
      },
      {
        "duration": 5,
        "start_time": "2022-10-09T10:57:16.671Z"
      },
      {
        "duration": 5,
        "start_time": "2022-10-09T10:57:21.697Z"
      },
      {
        "duration": 7,
        "start_time": "2022-10-09T10:57:22.171Z"
      },
      {
        "duration": 21,
        "start_time": "2022-10-09T10:57:23.816Z"
      },
      {
        "duration": 4,
        "start_time": "2022-10-09T10:58:42.356Z"
      },
      {
        "duration": 4,
        "start_time": "2022-10-09T10:58:52.761Z"
      },
      {
        "duration": 6,
        "start_time": "2022-10-09T10:58:58.409Z"
      },
      {
        "duration": 3,
        "start_time": "2022-10-09T10:59:27.196Z"
      },
      {
        "duration": 8801,
        "start_time": "2022-10-09T10:59:40.699Z"
      },
      {
        "duration": 93,
        "start_time": "2022-10-09T11:00:34.031Z"
      },
      {
        "duration": 4151,
        "start_time": "2022-10-09T11:01:06.775Z"
      },
      {
        "duration": 643837,
        "start_time": "2022-10-09T11:01:51.215Z"
      },
      {
        "duration": 2045,
        "start_time": "2022-10-09T11:12:35.054Z"
      },
      {
        "duration": 22715,
        "start_time": "2022-10-09T11:12:37.104Z"
      },
      {
        "duration": 22730,
        "start_time": "2022-10-09T11:15:21.297Z"
      },
      {
        "duration": 17,
        "start_time": "2022-10-09T11:15:44.029Z"
      },
      {
        "duration": 13,
        "start_time": "2022-10-09T11:15:45.770Z"
      },
      {
        "duration": 6113,
        "start_time": "2022-10-09T11:18:08.479Z"
      },
      {
        "duration": 1489,
        "start_time": "2022-10-09T11:18:24.786Z"
      },
      {
        "duration": 753,
        "start_time": "2022-10-09T11:18:26.277Z"
      },
      {
        "duration": 4,
        "start_time": "2022-10-09T11:18:27.032Z"
      },
      {
        "duration": 125,
        "start_time": "2022-10-09T11:18:27.038Z"
      },
      {
        "duration": 207,
        "start_time": "2022-10-09T11:18:27.165Z"
      },
      {
        "duration": 15,
        "start_time": "2022-10-09T11:18:27.374Z"
      },
      {
        "duration": 4,
        "start_time": "2022-10-09T11:18:27.391Z"
      },
      {
        "duration": 9,
        "start_time": "2022-10-09T11:18:27.397Z"
      },
      {
        "duration": 5,
        "start_time": "2022-10-09T11:18:27.408Z"
      },
      {
        "duration": 11,
        "start_time": "2022-10-09T11:18:27.417Z"
      },
      {
        "duration": 12,
        "start_time": "2022-10-09T11:18:27.430Z"
      },
      {
        "duration": 111,
        "start_time": "2022-10-09T11:18:27.444Z"
      },
      {
        "duration": 19,
        "start_time": "2022-10-09T11:18:27.557Z"
      },
      {
        "duration": 23,
        "start_time": "2022-10-09T11:18:27.577Z"
      },
      {
        "duration": 60,
        "start_time": "2022-10-09T11:18:27.602Z"
      },
      {
        "duration": 807,
        "start_time": "2022-10-09T11:18:27.664Z"
      },
      {
        "duration": 698,
        "start_time": "2022-10-09T11:18:28.473Z"
      },
      {
        "duration": 812,
        "start_time": "2022-10-09T11:18:29.173Z"
      },
      {
        "duration": 47,
        "start_time": "2022-10-09T11:18:29.988Z"
      },
      {
        "duration": 473,
        "start_time": "2022-10-09T11:18:30.037Z"
      },
      {
        "duration": 10,
        "start_time": "2022-10-09T11:18:30.512Z"
      },
      {
        "duration": 617,
        "start_time": "2022-10-09T11:18:30.524Z"
      },
      {
        "duration": 4,
        "start_time": "2022-10-09T11:18:31.144Z"
      },
      {
        "duration": 16,
        "start_time": "2022-10-09T11:18:31.150Z"
      },
      {
        "duration": 18,
        "start_time": "2022-10-09T11:18:31.168Z"
      },
      {
        "duration": 29,
        "start_time": "2022-10-09T11:18:31.189Z"
      },
      {
        "duration": 4,
        "start_time": "2022-10-09T11:18:31.220Z"
      },
      {
        "duration": 21,
        "start_time": "2022-10-09T11:18:31.228Z"
      },
      {
        "duration": 24,
        "start_time": "2022-10-09T11:18:31.251Z"
      },
      {
        "duration": 21,
        "start_time": "2022-10-09T11:18:31.277Z"
      },
      {
        "duration": 8356,
        "start_time": "2022-10-09T11:18:31.300Z"
      },
      {
        "duration": 3394285,
        "start_time": "2022-10-09T11:18:39.658Z"
      },
      {
        "duration": 2850,
        "start_time": "2022-10-09T12:15:13.945Z"
      },
      {
        "duration": 23083,
        "start_time": "2022-10-09T12:15:16.798Z"
      },
      {
        "duration": 13,
        "start_time": "2022-10-09T12:15:39.883Z"
      },
      {
        "duration": 21411,
        "start_time": "2022-10-09T12:16:44.555Z"
      },
      {
        "duration": 16542,
        "start_time": "2022-10-09T12:17:26.756Z"
      },
      {
        "duration": 4,
        "start_time": "2022-10-09T12:20:17.674Z"
      },
      {
        "duration": 1630,
        "start_time": "2022-10-09T12:24:51.788Z"
      },
      {
        "duration": 787,
        "start_time": "2022-10-09T12:24:53.421Z"
      },
      {
        "duration": 4,
        "start_time": "2022-10-09T12:24:54.210Z"
      },
      {
        "duration": 131,
        "start_time": "2022-10-09T12:24:54.216Z"
      },
      {
        "duration": 204,
        "start_time": "2022-10-09T12:24:54.351Z"
      },
      {
        "duration": 7,
        "start_time": "2022-10-09T12:24:54.557Z"
      },
      {
        "duration": 18,
        "start_time": "2022-10-09T12:24:54.566Z"
      },
      {
        "duration": 14,
        "start_time": "2022-10-09T12:24:54.587Z"
      },
      {
        "duration": 6,
        "start_time": "2022-10-09T12:24:54.604Z"
      },
      {
        "duration": 13,
        "start_time": "2022-10-09T12:24:54.613Z"
      },
      {
        "duration": 9,
        "start_time": "2022-10-09T12:24:54.628Z"
      },
      {
        "duration": 90,
        "start_time": "2022-10-09T12:24:54.639Z"
      },
      {
        "duration": 25,
        "start_time": "2022-10-09T12:24:54.732Z"
      },
      {
        "duration": 34,
        "start_time": "2022-10-09T12:24:54.760Z"
      },
      {
        "duration": 66,
        "start_time": "2022-10-09T12:24:54.797Z"
      },
      {
        "duration": 778,
        "start_time": "2022-10-09T12:24:54.865Z"
      },
      {
        "duration": 684,
        "start_time": "2022-10-09T12:24:55.646Z"
      },
      {
        "duration": 836,
        "start_time": "2022-10-09T12:24:56.332Z"
      },
      {
        "duration": 61,
        "start_time": "2022-10-09T12:24:57.170Z"
      },
      {
        "duration": 440,
        "start_time": "2022-10-09T12:24:57.233Z"
      },
      {
        "duration": 14,
        "start_time": "2022-10-09T12:24:57.675Z"
      },
      {
        "duration": 592,
        "start_time": "2022-10-09T12:24:57.691Z"
      },
      {
        "duration": 8,
        "start_time": "2022-10-09T12:24:58.285Z"
      },
      {
        "duration": 11,
        "start_time": "2022-10-09T12:24:58.295Z"
      },
      {
        "duration": 11,
        "start_time": "2022-10-09T12:24:58.309Z"
      },
      {
        "duration": 32,
        "start_time": "2022-10-09T12:24:58.323Z"
      },
      {
        "duration": 4,
        "start_time": "2022-10-09T12:24:58.357Z"
      },
      {
        "duration": 27,
        "start_time": "2022-10-09T12:24:58.364Z"
      },
      {
        "duration": 6,
        "start_time": "2022-10-09T12:24:58.393Z"
      },
      {
        "duration": 8444,
        "start_time": "2022-10-09T12:24:58.401Z"
      },
      {
        "duration": 1625861,
        "start_time": "2022-10-09T12:25:06.847Z"
      },
      {
        "duration": 4623,
        "start_time": "2022-10-09T12:52:12.714Z"
      },
      {
        "duration": 17405,
        "start_time": "2022-10-09T12:52:17.338Z"
      },
      {
        "duration": 11,
        "start_time": "2022-10-09T12:52:34.746Z"
      }
    ],
    "kernelspec": {
      "display_name": "Python 3 (ipykernel)",
      "language": "python",
      "name": "python3"
    },
    "language_info": {
      "codemirror_mode": {
        "name": "ipython",
        "version": 3
      },
      "file_extension": ".py",
      "mimetype": "text/x-python",
      "name": "python",
      "nbconvert_exporter": "python",
      "pygments_lexer": "ipython3",
      "version": "3.9.5"
    },
    "toc": {
      "base_numbering": 1,
      "nav_menu": {},
      "number_sections": true,
      "sideBar": true,
      "skip_h1_title": true,
      "title_cell": "Содержание",
      "title_sidebar": "Contents",
      "toc_cell": true,
      "toc_position": {
        "height": "calc(100% - 180px)",
        "left": "10px",
        "top": "150px",
        "width": "165px"
      },
      "toc_section_display": true,
      "toc_window_display": true
    },
    "colab": {
      "provenance": [],
      "collapsed_sections": [],
      "toc_visible": true
    }
  },
  "nbformat": 4,
  "nbformat_minor": 0
}